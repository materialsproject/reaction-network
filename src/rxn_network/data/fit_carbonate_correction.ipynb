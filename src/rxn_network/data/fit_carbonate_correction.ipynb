{
 "cells": [
  {
   "cell_type": "markdown",
   "id": "3c39eef3",
   "metadata": {},
   "source": [
    "# Fitting a Carbonate Correction for MP-sourced Gibbs free energy of formation data (300 K)\n",
    "\n",
    "Author: Matthew McDermott\n",
    "\n",
    "Date: May 24, 2023"
   ]
  },
  {
   "cell_type": "markdown",
   "id": "18332b60",
   "metadata": {},
   "source": [
    "#### Imports"
   ]
  },
  {
   "cell_type": "code",
   "execution_count": 1,
   "id": "e17d4141",
   "metadata": {},
   "outputs": [],
   "source": [
    "import numpy as np\n",
    "import pandas\n",
    "import plotly.express as px\n",
    "import plotly.graph_objects as go\n",
    "from mp_api.client import MPRester\n",
    "from pymatgen.core.composition import Composition, Element\n",
    "from scipy.optimize import minimize\n",
    "\n",
    "from rxn_network.entries.entry_set import GibbsEntrySet\n",
    "\n",
    "%load_ext autoreload\n",
    "%autoreload 2"
   ]
  },
  {
   "cell_type": "markdown",
   "id": "d7030528",
   "metadata": {},
   "source": [
    "### Chemical systems"
   ]
  },
  {
   "cell_type": "code",
   "execution_count": 2,
   "id": "154b4764",
   "metadata": {},
   "outputs": [],
   "source": [
    "metals = [\"Ag\", \"Ba\", \"Ca\", \"Cd\", \"Cs\", \"Fe\", \"K\",\n",
    "          \"Li\", \"Mg\", \"Mn\", \"Na\", \"Pb\", \"Rb\", \"Sr\", \"Zn\"]  # all metals with carbonate energies available\n",
    "\n",
    "systems = [(m, \"C\", \"O\") for m in metals]"
   ]
  },
  {
   "cell_type": "markdown",
   "id": "a830c805",
   "metadata": {},
   "source": [
    "### Downloading Materials Project (MP) data using API"
   ]
  },
  {
   "cell_type": "code",
   "execution_count": 3,
   "id": "8ecd4040",
   "metadata": {},
   "outputs": [
    {
     "data": {
      "application/vnd.jupyter.widget-view+json": {
       "model_id": "78cb290a9ae247f7872bbe9d983780d5",
       "version_major": 2,
       "version_minor": 0
      },
      "text/plain": [
       "Retrieving ThermoDoc documents:   0%|          | 0/140 [00:00<?, ?it/s]"
      ]
     },
     "metadata": {},
     "output_type": "display_data"
    },
    {
     "data": {
      "application/vnd.jupyter.widget-view+json": {
       "model_id": "42d50215343e4940bc532131a4a9a95e",
       "version_major": 2,
       "version_minor": 0
      },
      "text/plain": [
       "Retrieving ThermoDoc documents:   0%|          | 0/173 [00:00<?, ?it/s]"
      ]
     },
     "metadata": {},
     "output_type": "display_data"
    },
    {
     "data": {
      "application/vnd.jupyter.widget-view+json": {
       "model_id": "172bcee337d64534a396999a868b1167",
       "version_major": 2,
       "version_minor": 0
      },
      "text/plain": [
       "Retrieving ThermoDoc documents:   0%|          | 0/175 [00:00<?, ?it/s]"
      ]
     },
     "metadata": {},
     "output_type": "display_data"
    },
    {
     "data": {
      "application/vnd.jupyter.widget-view+json": {
       "model_id": "7279c90a10bb42e088476384987c6fd4",
       "version_major": 2,
       "version_minor": 0
      },
      "text/plain": [
       "Retrieving ThermoDoc documents:   0%|          | 0/125 [00:00<?, ?it/s]"
      ]
     },
     "metadata": {},
     "output_type": "display_data"
    },
    {
     "data": {
      "application/vnd.jupyter.widget-view+json": {
       "model_id": "42db744f7e9a4737a4205233a2dcfe3f",
       "version_major": 2,
       "version_minor": 0
      },
      "text/plain": [
       "Retrieving ThermoDoc documents:   0%|          | 0/148 [00:00<?, ?it/s]"
      ]
     },
     "metadata": {},
     "output_type": "display_data"
    },
    {
     "data": {
      "application/vnd.jupyter.widget-view+json": {
       "model_id": "34ea165e75e94bbcbfb3ceebeb2cbb85",
       "version_major": 2,
       "version_minor": 0
      },
      "text/plain": [
       "Retrieving ThermoDoc documents:   0%|          | 0/288 [00:00<?, ?it/s]"
      ]
     },
     "metadata": {},
     "output_type": "display_data"
    },
    {
     "data": {
      "application/vnd.jupyter.widget-view+json": {
       "model_id": "7f43d775a1a44d53a32ba42bd4735bb1",
       "version_major": 2,
       "version_minor": 0
      },
      "text/plain": [
       "Retrieving ThermoDoc documents:   0%|          | 0/183 [00:00<?, ?it/s]"
      ]
     },
     "metadata": {},
     "output_type": "display_data"
    },
    {
     "data": {
      "application/vnd.jupyter.widget-view+json": {
       "model_id": "54a53ce4847f4ca89edbad0d0293ccab",
       "version_major": 2,
       "version_minor": 0
      },
      "text/plain": [
       "Retrieving ThermoDoc documents:   0%|          | 0/166 [00:00<?, ?it/s]"
      ]
     },
     "metadata": {},
     "output_type": "display_data"
    },
    {
     "data": {
      "application/vnd.jupyter.widget-view+json": {
       "model_id": "3a5339e5c41e4c9f902957ad8cadd771",
       "version_major": 2,
       "version_minor": 0
      },
      "text/plain": [
       "Retrieving ThermoDoc documents:   0%|          | 0/161 [00:00<?, ?it/s]"
      ]
     },
     "metadata": {},
     "output_type": "display_data"
    },
    {
     "data": {
      "application/vnd.jupyter.widget-view+json": {
       "model_id": "5aecf19837ec449ca10b62d3ab79dda1",
       "version_major": 2,
       "version_minor": 0
      },
      "text/plain": [
       "Retrieving ThermoDoc documents:   0%|          | 0/206 [00:00<?, ?it/s]"
      ]
     },
     "metadata": {},
     "output_type": "display_data"
    },
    {
     "data": {
      "application/vnd.jupyter.widget-view+json": {
       "model_id": "be558e773e114bffa33a443fc189df87",
       "version_major": 2,
       "version_minor": 0
      },
      "text/plain": [
       "Retrieving ThermoDoc documents:   0%|          | 0/178 [00:00<?, ?it/s]"
      ]
     },
     "metadata": {},
     "output_type": "display_data"
    },
    {
     "data": {
      "application/vnd.jupyter.widget-view+json": {
       "model_id": "d8c86100519149919579ec1e4b1527fb",
       "version_major": 2,
       "version_minor": 0
      },
      "text/plain": [
       "Retrieving ThermoDoc documents:   0%|          | 0/146 [00:00<?, ?it/s]"
      ]
     },
     "metadata": {},
     "output_type": "display_data"
    },
    {
     "data": {
      "application/vnd.jupyter.widget-view+json": {
       "model_id": "8cdea16bb662490cb8bea8e4ee562574",
       "version_major": 2,
       "version_minor": 0
      },
      "text/plain": [
       "Retrieving ThermoDoc documents:   0%|          | 0/173 [00:00<?, ?it/s]"
      ]
     },
     "metadata": {},
     "output_type": "display_data"
    },
    {
     "data": {
      "application/vnd.jupyter.widget-view+json": {
       "model_id": "0d8c35bb80b14cde8efe63acd95ca9be",
       "version_major": 2,
       "version_minor": 0
      },
      "text/plain": [
       "Retrieving ThermoDoc documents:   0%|          | 0/150 [00:00<?, ?it/s]"
      ]
     },
     "metadata": {},
     "output_type": "display_data"
    },
    {
     "data": {
      "application/vnd.jupyter.widget-view+json": {
       "model_id": "e9e38b7dfb9940da8a497eeeff8a7d1e",
       "version_major": 2,
       "version_minor": 0
      },
      "text/plain": [
       "Retrieving ThermoDoc documents:   0%|          | 0/138 [00:00<?, ?it/s]"
      ]
     },
     "metadata": {},
     "output_type": "display_data"
    }
   ],
   "source": [
    "all_entries = {}\n",
    "\n",
    "for system in systems:\n",
    "    with MPRester() as mpr:\n",
    "        entries = mpr.get_entries_in_chemsys(system)\n",
    "\n",
    "    all_entries[system[0]] = entries"
   ]
  },
  {
   "cell_type": "markdown",
   "id": "8e479a5b",
   "metadata": {},
   "source": [
    "### Acquiring GibbsComputedEntries and corresponding experimental entries"
   ]
  },
  {
   "cell_type": "code",
   "execution_count": 20,
   "id": "97242ec7",
   "metadata": {},
   "outputs": [
    {
     "name": "stderr",
     "output_type": "stream",
     "text": [
      "/Users/mcdermott/PycharmProjects/reaction-network/src/rxn_network/entries/entry_set.py:555: FutureWarning:\n",
      "\n",
      "This method is deprecated. Use from_computed_entries instead.\n",
      "\n"
     ]
    }
   ],
   "source": [
    "mp_entries = []\n",
    "exp_entries = []\n",
    "\n",
    "temp = 300  # Kelvin\n",
    "\n",
    "for m, entries in all_entries.items():\n",
    "    gibbs = GibbsEntrySet.from_entries(entries, temp, include_nist_data=False, apply_carbonate_correction=False)\n",
    "    gibbs_exp = GibbsEntrySet.from_entries(entries, temp, include_nist_data=True, include_freed_data=True, apply_carbonate_correction=False)\n",
    "\n",
    "    oxidation_states = Element(m).common_oxidation_states\n",
    "\n",
    "    for os in oxidation_states:\n",
    "        formula = Composition(f\"{m}2(CO3){os}\").reduced_formula\n",
    "\n",
    "        mp_entry = None\n",
    "        exp_entry = None\n",
    "\n",
    "        try:\n",
    "            mp_entry = gibbs.get_min_entry_by_formula(formula)\n",
    "            exp_entry = gibbs_exp.get_min_entry_by_formula(formula)\n",
    "        except:\n",
    "            continue\n",
    "\n",
    "        if exp_entry.is_experimental:\n",
    "            mp_entries.append(mp_entry)\n",
    "            exp_entries.append(exp_entry)"
   ]
  },
  {
   "cell_type": "code",
   "execution_count": 21,
   "id": "d0f535a1",
   "metadata": {},
   "outputs": [],
   "source": [
    "energies_calc = []\n",
    "energies_exp = []\n",
    "names = []\n",
    "\n",
    "for e_exp, e_calc in zip(exp_entries, mp_entries):\n",
    "    formula = e_exp.composition.reduced_formula\n",
    "    num_atoms_per_fu = Composition(formula).num_atoms\n",
    "\n",
    "    energy_exp = e_exp.energy_per_atom * num_atoms_per_fu\n",
    "    energy_calc = e_calc.energy_per_atom * num_atoms_per_fu\n",
    "    name = e_calc.composition.reduced_formula\n",
    "\n",
    "    energies_exp.append(energy_exp)\n",
    "    energies_calc.append(energy_calc)\n",
    "    names.append(name)"
   ]
  },
  {
   "cell_type": "markdown",
   "id": "21ac6867",
   "metadata": {},
   "source": [
    "### Plot before correction"
   ]
  },
  {
   "cell_type": "code",
   "execution_count": 107,
   "id": "88db5c7d",
   "metadata": {},
   "outputs": [
    {
     "data": {
      "application/vnd.plotly.v1+json": {
       "config": {
        "plotlyServerURL": "https://plot.ly"
       },
       "data": [
        {
         "hovertemplate": "<b>%{hovertext}</b><br><br>name=Ag2CO3<br>x=%{x}<br>y=%{y}<extra></extra>",
         "hovertext": [
          "Ag2CO3"
         ],
         "legendgroup": "Ag2CO3",
         "marker": {
          "color": "#2E91E5",
          "symbol": "circle"
         },
         "mode": "markers",
         "name": "Ag2CO3",
         "orientation": "v",
         "showlegend": true,
         "type": "scatter",
         "x": [
          -4.523490740122578
         ],
         "xaxis": "x",
         "y": [
          -5.7163614266653315
         ],
         "yaxis": "y"
        },
        {
         "hovertemplate": "<b>%{hovertext}</b><br><br>name=BaCO3<br>x=%{x}<br>y=%{y}<extra></extra>",
         "hovertext": [
          "BaCO3"
         ],
         "legendgroup": "BaCO3",
         "marker": {
          "color": "#E15F99",
          "symbol": "diamond"
         },
         "mode": "markers",
         "name": "BaCO3",
         "orientation": "v",
         "showlegend": true,
         "type": "scatter",
         "x": [
          -11.729310728660677
         ],
         "xaxis": "x",
         "y": [
          -12.620423169828532
         ],
         "yaxis": "y"
        },
        {
         "hovertemplate": "<b>%{hovertext}</b><br><br>name=CaCO3<br>x=%{x}<br>y=%{y}<extra></extra>",
         "hovertext": [
          "CaCO3"
         ],
         "legendgroup": "CaCO3",
         "marker": {
          "color": "#1CA71C",
          "symbol": "square"
         },
         "mode": "markers",
         "name": "CaCO3",
         "orientation": "v",
         "showlegend": true,
         "type": "scatter",
         "x": [
          -11.697022798117317
         ],
         "xaxis": "x",
         "y": [
          -12.631742424581612
         ],
         "yaxis": "y"
        },
        {
         "hovertemplate": "<b>%{hovertext}</b><br><br>name=CdCO3<br>x=%{x}<br>y=%{y}<extra></extra>",
         "hovertext": [
          "CdCO3"
         ],
         "legendgroup": "CdCO3",
         "marker": {
          "color": "#FB0D0D",
          "symbol": "x"
         },
         "mode": "markers",
         "name": "CdCO3",
         "orientation": "v",
         "showlegend": true,
         "type": "scatter",
         "x": [
          -7.018997735710281
         ],
         "xaxis": "x",
         "y": [
          -7.97432393640236
         ],
         "yaxis": "y"
        },
        {
         "hovertemplate": "<b>%{hovertext}</b><br><br>name=Cs2CO3<br>x=%{x}<br>y=%{y}<extra></extra>",
         "hovertext": [
          "Cs2CO3"
         ],
         "legendgroup": "Cs2CO3",
         "marker": {
          "color": "#DA16FF",
          "symbol": "cross"
         },
         "mode": "markers",
         "name": "Cs2CO3",
         "orientation": "v",
         "showlegend": true,
         "type": "scatter",
         "x": [
          -10.89413162728376
         ],
         "xaxis": "x",
         "y": [
          -11.469223791915756
         ],
         "yaxis": "y"
        },
        {
         "hovertemplate": "<b>%{hovertext}</b><br><br>name=FeCO3<br>x=%{x}<br>y=%{y}<extra></extra>",
         "hovertext": [
          "FeCO3"
         ],
         "legendgroup": "FeCO3",
         "marker": {
          "color": "#222A2A",
          "symbol": "circle"
         },
         "mode": "markers",
         "name": "FeCO3",
         "orientation": "v",
         "showlegend": true,
         "type": "scatter",
         "x": [
          -6.929197226894303
         ],
         "xaxis": "x",
         "y": [
          -8.132893413595967
         ],
         "yaxis": "y"
        },
        {
         "hovertemplate": "<b>%{hovertext}</b><br><br>name=K2CO3<br>x=%{x}<br>y=%{y}<extra></extra>",
         "hovertext": [
          "K2CO3"
         ],
         "legendgroup": "K2CO3",
         "marker": {
          "color": "#B68100",
          "symbol": "diamond"
         },
         "mode": "markers",
         "name": "K2CO3",
         "orientation": "v",
         "showlegend": true,
         "type": "scatter",
         "x": [
          -11.028037676944544
         ],
         "xaxis": "x",
         "y": [
          -11.774465217826826
         ],
         "yaxis": "y"
        },
        {
         "hovertemplate": "<b>%{hovertext}</b><br><br>name=Li2CO3<br>x=%{x}<br>y=%{y}<extra></extra>",
         "hovertext": [
          "Li2CO3"
         ],
         "legendgroup": "Li2CO3",
         "marker": {
          "color": "#750D86",
          "symbol": "square"
         },
         "mode": "markers",
         "name": "Li2CO3",
         "orientation": "v",
         "showlegend": true,
         "type": "scatter",
         "x": [
          -11.728638626956926
         ],
         "xaxis": "x",
         "y": [
          -12.558765873746752
         ],
         "yaxis": "y"
        },
        {
         "hovertemplate": "<b>%{hovertext}</b><br><br>name=MgCO3<br>x=%{x}<br>y=%{y}<extra></extra>",
         "hovertext": [
          "MgCO3"
         ],
         "legendgroup": "MgCO3",
         "marker": {
          "color": "#EB663B",
          "symbol": "x"
         },
         "mode": "markers",
         "name": "MgCO3",
         "orientation": "v",
         "showlegend": true,
         "type": "scatter",
         "x": [
          -10.66327385453301
         ],
         "xaxis": "x",
         "y": [
          -11.376493296121517
         ],
         "yaxis": "y"
        },
        {
         "hovertemplate": "<b>%{hovertext}</b><br><br>name=MnCO3<br>x=%{x}<br>y=%{y}<extra></extra>",
         "hovertext": [
          "MnCO3"
         ],
         "legendgroup": "MnCO3",
         "marker": {
          "color": "#511CFB",
          "symbol": "cross"
         },
         "mode": "markers",
         "name": "MnCO3",
         "orientation": "v",
         "showlegend": true,
         "type": "scatter",
         "x": [
          -8.448687588375233
         ],
         "xaxis": "x",
         "y": [
          -9.249014489052389
         ],
         "yaxis": "y"
        },
        {
         "hovertemplate": "<b>%{hovertext}</b><br><br>name=Na2CO3<br>x=%{x}<br>y=%{y}<extra></extra>",
         "hovertext": [
          "Na2CO3"
         ],
         "legendgroup": "Na2CO3",
         "marker": {
          "color": "#00A08B",
          "symbol": "circle"
         },
         "mode": "markers",
         "name": "Na2CO3",
         "orientation": "v",
         "showlegend": true,
         "type": "scatter",
         "x": [
          -10.856533778555413
         ],
         "xaxis": "x",
         "y": [
          -11.476894480358538
         ],
         "yaxis": "y"
        },
        {
         "hovertemplate": "<b>%{hovertext}</b><br><br>name=PbCO3<br>x=%{x}<br>y=%{y}<extra></extra>",
         "hovertext": [
          "PbCO3"
         ],
         "legendgroup": "PbCO3",
         "marker": {
          "color": "#FB00D1",
          "symbol": "diamond"
         },
         "mode": "markers",
         "name": "PbCO3",
         "orientation": "v",
         "showlegend": true,
         "type": "scatter",
         "x": [
          -6.514563134816661
         ],
         "xaxis": "x",
         "y": [
          -8.211967075966989
         ],
         "yaxis": "y"
        },
        {
         "hovertemplate": "<b>%{hovertext}</b><br><br>name=Rb2CO3<br>x=%{x}<br>y=%{y}<extra></extra>",
         "hovertext": [
          "Rb2CO3"
         ],
         "legendgroup": "Rb2CO3",
         "marker": {
          "color": "#FC0080",
          "symbol": "square"
         },
         "mode": "markers",
         "name": "Rb2CO3",
         "orientation": "v",
         "showlegend": true,
         "type": "scatter",
         "x": [
          -10.97233639890869
         ],
         "xaxis": "x",
         "y": [
          -11.568089176145373
         ],
         "yaxis": "y"
        },
        {
         "hovertemplate": "<b>%{hovertext}</b><br><br>name=SrCO3<br>x=%{x}<br>y=%{y}<extra></extra>",
         "hovertext": [
          "SrCO3"
         ],
         "legendgroup": "SrCO3",
         "marker": {
          "color": "#B2828D",
          "symbol": "x"
         },
         "mode": "markers",
         "name": "SrCO3",
         "orientation": "v",
         "showlegend": true,
         "type": "scatter",
         "x": [
          -11.796336838082896
         ],
         "xaxis": "x",
         "y": [
          -12.674541990174458
         ],
         "yaxis": "y"
        },
        {
         "hovertemplate": "<b>%{hovertext}</b><br><br>name=ZnCO3<br>x=%{x}<br>y=%{y}<extra></extra>",
         "hovertext": [
          "ZnCO3"
         ],
         "legendgroup": "ZnCO3",
         "marker": {
          "color": "#6C7C32",
          "symbol": "cross"
         },
         "mode": "markers",
         "name": "ZnCO3",
         "orientation": "v",
         "showlegend": true,
         "type": "scatter",
         "x": [
          -7.600479604861418
         ],
         "xaxis": "x",
         "y": [
          -8.24550688210508
         ],
         "yaxis": "y"
        },
        {
         "hovertemplate": "x=%{x}<br>y=%{y}<extra></extra>",
         "legendgroup": "",
         "line": {
          "color": "#1F77B4",
          "dash": "solid"
         },
         "marker": {
          "symbol": "circle"
         },
         "mode": "lines",
         "name": "",
         "orientation": "v",
         "showlegend": false,
         "type": "scatter",
         "x": [
          -12,
          -4
         ],
         "xaxis": "x",
         "y": [
          -12,
          -4
         ],
         "yaxis": "y"
        }
       ],
       "layout": {
        "template": {
         "data": {
          "bar": [
           {
            "error_x": {
             "color": "rgb(36,36,36)"
            },
            "error_y": {
             "color": "rgb(36,36,36)"
            },
            "marker": {
             "line": {
              "color": "white",
              "width": 0.5
             },
             "pattern": {
              "fillmode": "overlay",
              "size": 10,
              "solidity": 0.2
             }
            },
            "type": "bar"
           }
          ],
          "barpolar": [
           {
            "marker": {
             "line": {
              "color": "white",
              "width": 0.5
             },
             "pattern": {
              "fillmode": "overlay",
              "size": 10,
              "solidity": 0.2
             }
            },
            "type": "barpolar"
           }
          ],
          "carpet": [
           {
            "aaxis": {
             "endlinecolor": "rgb(36,36,36)",
             "gridcolor": "white",
             "linecolor": "white",
             "minorgridcolor": "white",
             "startlinecolor": "rgb(36,36,36)"
            },
            "baxis": {
             "endlinecolor": "rgb(36,36,36)",
             "gridcolor": "white",
             "linecolor": "white",
             "minorgridcolor": "white",
             "startlinecolor": "rgb(36,36,36)"
            },
            "type": "carpet"
           }
          ],
          "choropleth": [
           {
            "colorbar": {
             "outlinewidth": 1,
             "tickcolor": "rgb(36,36,36)",
             "ticks": "outside"
            },
            "type": "choropleth"
           }
          ],
          "contour": [
           {
            "colorbar": {
             "outlinewidth": 1,
             "tickcolor": "rgb(36,36,36)",
             "ticks": "outside"
            },
            "colorscale": [
             [
              0,
              "#440154"
             ],
             [
              0.1111111111111111,
              "#482878"
             ],
             [
              0.2222222222222222,
              "#3e4989"
             ],
             [
              0.3333333333333333,
              "#31688e"
             ],
             [
              0.4444444444444444,
              "#26828e"
             ],
             [
              0.5555555555555556,
              "#1f9e89"
             ],
             [
              0.6666666666666666,
              "#35b779"
             ],
             [
              0.7777777777777778,
              "#6ece58"
             ],
             [
              0.8888888888888888,
              "#b5de2b"
             ],
             [
              1,
              "#fde725"
             ]
            ],
            "type": "contour"
           }
          ],
          "contourcarpet": [
           {
            "colorbar": {
             "outlinewidth": 1,
             "tickcolor": "rgb(36,36,36)",
             "ticks": "outside"
            },
            "type": "contourcarpet"
           }
          ],
          "heatmap": [
           {
            "colorbar": {
             "outlinewidth": 1,
             "tickcolor": "rgb(36,36,36)",
             "ticks": "outside"
            },
            "colorscale": [
             [
              0,
              "#440154"
             ],
             [
              0.1111111111111111,
              "#482878"
             ],
             [
              0.2222222222222222,
              "#3e4989"
             ],
             [
              0.3333333333333333,
              "#31688e"
             ],
             [
              0.4444444444444444,
              "#26828e"
             ],
             [
              0.5555555555555556,
              "#1f9e89"
             ],
             [
              0.6666666666666666,
              "#35b779"
             ],
             [
              0.7777777777777778,
              "#6ece58"
             ],
             [
              0.8888888888888888,
              "#b5de2b"
             ],
             [
              1,
              "#fde725"
             ]
            ],
            "type": "heatmap"
           }
          ],
          "heatmapgl": [
           {
            "colorbar": {
             "outlinewidth": 1,
             "tickcolor": "rgb(36,36,36)",
             "ticks": "outside"
            },
            "colorscale": [
             [
              0,
              "#440154"
             ],
             [
              0.1111111111111111,
              "#482878"
             ],
             [
              0.2222222222222222,
              "#3e4989"
             ],
             [
              0.3333333333333333,
              "#31688e"
             ],
             [
              0.4444444444444444,
              "#26828e"
             ],
             [
              0.5555555555555556,
              "#1f9e89"
             ],
             [
              0.6666666666666666,
              "#35b779"
             ],
             [
              0.7777777777777778,
              "#6ece58"
             ],
             [
              0.8888888888888888,
              "#b5de2b"
             ],
             [
              1,
              "#fde725"
             ]
            ],
            "type": "heatmapgl"
           }
          ],
          "histogram": [
           {
            "marker": {
             "line": {
              "color": "white",
              "width": 0.6
             }
            },
            "type": "histogram"
           }
          ],
          "histogram2d": [
           {
            "colorbar": {
             "outlinewidth": 1,
             "tickcolor": "rgb(36,36,36)",
             "ticks": "outside"
            },
            "colorscale": [
             [
              0,
              "#440154"
             ],
             [
              0.1111111111111111,
              "#482878"
             ],
             [
              0.2222222222222222,
              "#3e4989"
             ],
             [
              0.3333333333333333,
              "#31688e"
             ],
             [
              0.4444444444444444,
              "#26828e"
             ],
             [
              0.5555555555555556,
              "#1f9e89"
             ],
             [
              0.6666666666666666,
              "#35b779"
             ],
             [
              0.7777777777777778,
              "#6ece58"
             ],
             [
              0.8888888888888888,
              "#b5de2b"
             ],
             [
              1,
              "#fde725"
             ]
            ],
            "type": "histogram2d"
           }
          ],
          "histogram2dcontour": [
           {
            "colorbar": {
             "outlinewidth": 1,
             "tickcolor": "rgb(36,36,36)",
             "ticks": "outside"
            },
            "colorscale": [
             [
              0,
              "#440154"
             ],
             [
              0.1111111111111111,
              "#482878"
             ],
             [
              0.2222222222222222,
              "#3e4989"
             ],
             [
              0.3333333333333333,
              "#31688e"
             ],
             [
              0.4444444444444444,
              "#26828e"
             ],
             [
              0.5555555555555556,
              "#1f9e89"
             ],
             [
              0.6666666666666666,
              "#35b779"
             ],
             [
              0.7777777777777778,
              "#6ece58"
             ],
             [
              0.8888888888888888,
              "#b5de2b"
             ],
             [
              1,
              "#fde725"
             ]
            ],
            "type": "histogram2dcontour"
           }
          ],
          "mesh3d": [
           {
            "colorbar": {
             "outlinewidth": 1,
             "tickcolor": "rgb(36,36,36)",
             "ticks": "outside"
            },
            "type": "mesh3d"
           }
          ],
          "parcoords": [
           {
            "line": {
             "colorbar": {
              "outlinewidth": 1,
              "tickcolor": "rgb(36,36,36)",
              "ticks": "outside"
             }
            },
            "type": "parcoords"
           }
          ],
          "pie": [
           {
            "automargin": true,
            "type": "pie"
           }
          ],
          "scatter": [
           {
            "fillpattern": {
             "fillmode": "overlay",
             "size": 10,
             "solidity": 0.2
            },
            "type": "scatter"
           }
          ],
          "scatter3d": [
           {
            "line": {
             "colorbar": {
              "outlinewidth": 1,
              "tickcolor": "rgb(36,36,36)",
              "ticks": "outside"
             }
            },
            "marker": {
             "colorbar": {
              "outlinewidth": 1,
              "tickcolor": "rgb(36,36,36)",
              "ticks": "outside"
             }
            },
            "type": "scatter3d"
           }
          ],
          "scattercarpet": [
           {
            "marker": {
             "colorbar": {
              "outlinewidth": 1,
              "tickcolor": "rgb(36,36,36)",
              "ticks": "outside"
             }
            },
            "type": "scattercarpet"
           }
          ],
          "scattergeo": [
           {
            "marker": {
             "colorbar": {
              "outlinewidth": 1,
              "tickcolor": "rgb(36,36,36)",
              "ticks": "outside"
             }
            },
            "type": "scattergeo"
           }
          ],
          "scattergl": [
           {
            "marker": {
             "colorbar": {
              "outlinewidth": 1,
              "tickcolor": "rgb(36,36,36)",
              "ticks": "outside"
             }
            },
            "type": "scattergl"
           }
          ],
          "scattermapbox": [
           {
            "marker": {
             "colorbar": {
              "outlinewidth": 1,
              "tickcolor": "rgb(36,36,36)",
              "ticks": "outside"
             }
            },
            "type": "scattermapbox"
           }
          ],
          "scatterpolar": [
           {
            "marker": {
             "colorbar": {
              "outlinewidth": 1,
              "tickcolor": "rgb(36,36,36)",
              "ticks": "outside"
             }
            },
            "type": "scatterpolar"
           }
          ],
          "scatterpolargl": [
           {
            "marker": {
             "colorbar": {
              "outlinewidth": 1,
              "tickcolor": "rgb(36,36,36)",
              "ticks": "outside"
             }
            },
            "type": "scatterpolargl"
           }
          ],
          "scatterternary": [
           {
            "marker": {
             "colorbar": {
              "outlinewidth": 1,
              "tickcolor": "rgb(36,36,36)",
              "ticks": "outside"
             }
            },
            "type": "scatterternary"
           }
          ],
          "surface": [
           {
            "colorbar": {
             "outlinewidth": 1,
             "tickcolor": "rgb(36,36,36)",
             "ticks": "outside"
            },
            "colorscale": [
             [
              0,
              "#440154"
             ],
             [
              0.1111111111111111,
              "#482878"
             ],
             [
              0.2222222222222222,
              "#3e4989"
             ],
             [
              0.3333333333333333,
              "#31688e"
             ],
             [
              0.4444444444444444,
              "#26828e"
             ],
             [
              0.5555555555555556,
              "#1f9e89"
             ],
             [
              0.6666666666666666,
              "#35b779"
             ],
             [
              0.7777777777777778,
              "#6ece58"
             ],
             [
              0.8888888888888888,
              "#b5de2b"
             ],
             [
              1,
              "#fde725"
             ]
            ],
            "type": "surface"
           }
          ],
          "table": [
           {
            "cells": {
             "fill": {
              "color": "rgb(237,237,237)"
             },
             "line": {
              "color": "white"
             }
            },
            "header": {
             "fill": {
              "color": "rgb(217,217,217)"
             },
             "line": {
              "color": "white"
             }
            },
            "type": "table"
           }
          ]
         },
         "layout": {
          "annotationdefaults": {
           "arrowhead": 0,
           "arrowwidth": 1
          },
          "autotypenumbers": "strict",
          "coloraxis": {
           "colorbar": {
            "outlinewidth": 1,
            "tickcolor": "rgb(36,36,36)",
            "ticks": "outside"
           }
          },
          "colorscale": {
           "diverging": [
            [
             0,
             "rgb(103,0,31)"
            ],
            [
             0.1,
             "rgb(178,24,43)"
            ],
            [
             0.2,
             "rgb(214,96,77)"
            ],
            [
             0.3,
             "rgb(244,165,130)"
            ],
            [
             0.4,
             "rgb(253,219,199)"
            ],
            [
             0.5,
             "rgb(247,247,247)"
            ],
            [
             0.6,
             "rgb(209,229,240)"
            ],
            [
             0.7,
             "rgb(146,197,222)"
            ],
            [
             0.8,
             "rgb(67,147,195)"
            ],
            [
             0.9,
             "rgb(33,102,172)"
            ],
            [
             1,
             "rgb(5,48,97)"
            ]
           ],
           "sequential": [
            [
             0,
             "#440154"
            ],
            [
             0.1111111111111111,
             "#482878"
            ],
            [
             0.2222222222222222,
             "#3e4989"
            ],
            [
             0.3333333333333333,
             "#31688e"
            ],
            [
             0.4444444444444444,
             "#26828e"
            ],
            [
             0.5555555555555556,
             "#1f9e89"
            ],
            [
             0.6666666666666666,
             "#35b779"
            ],
            [
             0.7777777777777778,
             "#6ece58"
            ],
            [
             0.8888888888888888,
             "#b5de2b"
            ],
            [
             1,
             "#fde725"
            ]
           ],
           "sequentialminus": [
            [
             0,
             "#440154"
            ],
            [
             0.1111111111111111,
             "#482878"
            ],
            [
             0.2222222222222222,
             "#3e4989"
            ],
            [
             0.3333333333333333,
             "#31688e"
            ],
            [
             0.4444444444444444,
             "#26828e"
            ],
            [
             0.5555555555555556,
             "#1f9e89"
            ],
            [
             0.6666666666666666,
             "#35b779"
            ],
            [
             0.7777777777777778,
             "#6ece58"
            ],
            [
             0.8888888888888888,
             "#b5de2b"
            ],
            [
             1,
             "#fde725"
            ]
           ]
          },
          "colorway": [
           "#1F77B4",
           "#FF7F0E",
           "#2CA02C",
           "#D62728",
           "#9467BD",
           "#8C564B",
           "#E377C2",
           "#7F7F7F",
           "#BCBD22",
           "#17BECF"
          ],
          "font": {
           "color": "rgb(36,36,36)"
          },
          "geo": {
           "bgcolor": "white",
           "lakecolor": "white",
           "landcolor": "white",
           "showlakes": true,
           "showland": true,
           "subunitcolor": "white"
          },
          "hoverlabel": {
           "align": "left"
          },
          "hovermode": "closest",
          "mapbox": {
           "style": "light"
          },
          "paper_bgcolor": "white",
          "plot_bgcolor": "white",
          "polar": {
           "angularaxis": {
            "gridcolor": "rgb(232,232,232)",
            "linecolor": "rgb(36,36,36)",
            "showgrid": false,
            "showline": true,
            "ticks": "outside"
           },
           "bgcolor": "white",
           "radialaxis": {
            "gridcolor": "rgb(232,232,232)",
            "linecolor": "rgb(36,36,36)",
            "showgrid": false,
            "showline": true,
            "ticks": "outside"
           }
          },
          "scene": {
           "xaxis": {
            "backgroundcolor": "white",
            "gridcolor": "rgb(232,232,232)",
            "gridwidth": 2,
            "linecolor": "rgb(36,36,36)",
            "showbackground": true,
            "showgrid": false,
            "showline": true,
            "ticks": "outside",
            "zeroline": false,
            "zerolinecolor": "rgb(36,36,36)"
           },
           "yaxis": {
            "backgroundcolor": "white",
            "gridcolor": "rgb(232,232,232)",
            "gridwidth": 2,
            "linecolor": "rgb(36,36,36)",
            "showbackground": true,
            "showgrid": false,
            "showline": true,
            "ticks": "outside",
            "zeroline": false,
            "zerolinecolor": "rgb(36,36,36)"
           },
           "zaxis": {
            "backgroundcolor": "white",
            "gridcolor": "rgb(232,232,232)",
            "gridwidth": 2,
            "linecolor": "rgb(36,36,36)",
            "showbackground": true,
            "showgrid": false,
            "showline": true,
            "ticks": "outside",
            "zeroline": false,
            "zerolinecolor": "rgb(36,36,36)"
           }
          },
          "shapedefaults": {
           "fillcolor": "black",
           "line": {
            "width": 0
           },
           "opacity": 0.3
          },
          "ternary": {
           "aaxis": {
            "gridcolor": "rgb(232,232,232)",
            "linecolor": "rgb(36,36,36)",
            "showgrid": false,
            "showline": true,
            "ticks": "outside"
           },
           "baxis": {
            "gridcolor": "rgb(232,232,232)",
            "linecolor": "rgb(36,36,36)",
            "showgrid": false,
            "showline": true,
            "ticks": "outside"
           },
           "bgcolor": "white",
           "caxis": {
            "gridcolor": "rgb(232,232,232)",
            "linecolor": "rgb(36,36,36)",
            "showgrid": false,
            "showline": true,
            "ticks": "outside"
           }
          },
          "title": {
           "x": 0.05
          },
          "xaxis": {
           "automargin": true,
           "gridcolor": "rgb(232,232,232)",
           "linecolor": "rgb(36,36,36)",
           "showgrid": false,
           "showline": true,
           "ticks": "outside",
           "title": {
            "standoff": 15
           },
           "zeroline": false,
           "zerolinecolor": "rgb(36,36,36)"
          },
          "yaxis": {
           "automargin": true,
           "gridcolor": "rgb(232,232,232)",
           "linecolor": "rgb(36,36,36)",
           "showgrid": false,
           "showline": true,
           "ticks": "outside",
           "title": {
            "standoff": 15
           },
           "zeroline": false,
           "zerolinecolor": "rgb(36,36,36)"
          }
         }
        },
        "title": {
         "text": "Carbonate formation energies"
        },
        "xaxis": {
         "title": {
          "text": "Experimental dGf (eV/f.u.)"
         }
        },
        "yaxis": {
         "title": {
          "text": "Calculated dGf (eV/f.u.)"
         }
        }
       }
      },
      "text/html": [
       "<div>                            <div id=\"4c6e53f1-3b0f-4b21-b2e0-6ce857206a17\" class=\"plotly-graph-div\" style=\"height:525px; width:100%;\"></div>            <script type=\"text/javascript\">                require([\"plotly\"], function(Plotly) {                    window.PLOTLYENV=window.PLOTLYENV || {};                                    if (document.getElementById(\"4c6e53f1-3b0f-4b21-b2e0-6ce857206a17\")) {                    Plotly.newPlot(                        \"4c6e53f1-3b0f-4b21-b2e0-6ce857206a17\",                        [{\"hovertemplate\":\"<b>%{hovertext}</b><br><br>name=Ag2CO3<br>x=%{x}<br>y=%{y}<extra></extra>\",\"hovertext\":[\"Ag2CO3\"],\"legendgroup\":\"Ag2CO3\",\"marker\":{\"color\":\"#2E91E5\",\"symbol\":\"circle\"},\"mode\":\"markers\",\"name\":\"Ag2CO3\",\"orientation\":\"v\",\"showlegend\":true,\"x\":[-4.523490740122578],\"xaxis\":\"x\",\"y\":[-5.7163614266653315],\"yaxis\":\"y\",\"type\":\"scatter\"},{\"hovertemplate\":\"<b>%{hovertext}</b><br><br>name=BaCO3<br>x=%{x}<br>y=%{y}<extra></extra>\",\"hovertext\":[\"BaCO3\"],\"legendgroup\":\"BaCO3\",\"marker\":{\"color\":\"#E15F99\",\"symbol\":\"diamond\"},\"mode\":\"markers\",\"name\":\"BaCO3\",\"orientation\":\"v\",\"showlegend\":true,\"x\":[-11.729310728660675],\"xaxis\":\"x\",\"y\":[-12.620423169828532],\"yaxis\":\"y\",\"type\":\"scatter\"},{\"hovertemplate\":\"<b>%{hovertext}</b><br><br>name=CaCO3<br>x=%{x}<br>y=%{y}<extra></extra>\",\"hovertext\":[\"CaCO3\"],\"legendgroup\":\"CaCO3\",\"marker\":{\"color\":\"#1CA71C\",\"symbol\":\"square\"},\"mode\":\"markers\",\"name\":\"CaCO3\",\"orientation\":\"v\",\"showlegend\":true,\"x\":[-11.697022798117317],\"xaxis\":\"x\",\"y\":[-12.631742424581612],\"yaxis\":\"y\",\"type\":\"scatter\"},{\"hovertemplate\":\"<b>%{hovertext}</b><br><br>name=CdCO3<br>x=%{x}<br>y=%{y}<extra></extra>\",\"hovertext\":[\"CdCO3\"],\"legendgroup\":\"CdCO3\",\"marker\":{\"color\":\"#FB0D0D\",\"symbol\":\"x\"},\"mode\":\"markers\",\"name\":\"CdCO3\",\"orientation\":\"v\",\"showlegend\":true,\"x\":[-7.018997735710281],\"xaxis\":\"x\",\"y\":[-7.97432393640236],\"yaxis\":\"y\",\"type\":\"scatter\"},{\"hovertemplate\":\"<b>%{hovertext}</b><br><br>name=Cs2CO3<br>x=%{x}<br>y=%{y}<extra></extra>\",\"hovertext\":[\"Cs2CO3\"],\"legendgroup\":\"Cs2CO3\",\"marker\":{\"color\":\"#DA16FF\",\"symbol\":\"cross\"},\"mode\":\"markers\",\"name\":\"Cs2CO3\",\"orientation\":\"v\",\"showlegend\":true,\"x\":[-10.894131627283759],\"xaxis\":\"x\",\"y\":[-11.469223791915756],\"yaxis\":\"y\",\"type\":\"scatter\"},{\"hovertemplate\":\"<b>%{hovertext}</b><br><br>name=FeCO3<br>x=%{x}<br>y=%{y}<extra></extra>\",\"hovertext\":[\"FeCO3\"],\"legendgroup\":\"FeCO3\",\"marker\":{\"color\":\"#222A2A\",\"symbol\":\"circle\"},\"mode\":\"markers\",\"name\":\"FeCO3\",\"orientation\":\"v\",\"showlegend\":true,\"x\":[-6.929197226894303],\"xaxis\":\"x\",\"y\":[-8.132893413595967],\"yaxis\":\"y\",\"type\":\"scatter\"},{\"hovertemplate\":\"<b>%{hovertext}</b><br><br>name=K2CO3<br>x=%{x}<br>y=%{y}<extra></extra>\",\"hovertext\":[\"K2CO3\"],\"legendgroup\":\"K2CO3\",\"marker\":{\"color\":\"#B68100\",\"symbol\":\"diamond\"},\"mode\":\"markers\",\"name\":\"K2CO3\",\"orientation\":\"v\",\"showlegend\":true,\"x\":[-11.028037676944543],\"xaxis\":\"x\",\"y\":[-11.774465217826826],\"yaxis\":\"y\",\"type\":\"scatter\"},{\"hovertemplate\":\"<b>%{hovertext}</b><br><br>name=Li2CO3<br>x=%{x}<br>y=%{y}<extra></extra>\",\"hovertext\":[\"Li2CO3\"],\"legendgroup\":\"Li2CO3\",\"marker\":{\"color\":\"#750D86\",\"symbol\":\"square\"},\"mode\":\"markers\",\"name\":\"Li2CO3\",\"orientation\":\"v\",\"showlegend\":true,\"x\":[-11.728638626956926],\"xaxis\":\"x\",\"y\":[-12.558765873746752],\"yaxis\":\"y\",\"type\":\"scatter\"},{\"hovertemplate\":\"<b>%{hovertext}</b><br><br>name=MgCO3<br>x=%{x}<br>y=%{y}<extra></extra>\",\"hovertext\":[\"MgCO3\"],\"legendgroup\":\"MgCO3\",\"marker\":{\"color\":\"#EB663B\",\"symbol\":\"x\"},\"mode\":\"markers\",\"name\":\"MgCO3\",\"orientation\":\"v\",\"showlegend\":true,\"x\":[-10.66327385453301],\"xaxis\":\"x\",\"y\":[-11.376493296121515],\"yaxis\":\"y\",\"type\":\"scatter\"},{\"hovertemplate\":\"<b>%{hovertext}</b><br><br>name=MnCO3<br>x=%{x}<br>y=%{y}<extra></extra>\",\"hovertext\":[\"MnCO3\"],\"legendgroup\":\"MnCO3\",\"marker\":{\"color\":\"#511CFB\",\"symbol\":\"cross\"},\"mode\":\"markers\",\"name\":\"MnCO3\",\"orientation\":\"v\",\"showlegend\":true,\"x\":[-8.448687588375233],\"xaxis\":\"x\",\"y\":[-9.249014489052387],\"yaxis\":\"y\",\"type\":\"scatter\"},{\"hovertemplate\":\"<b>%{hovertext}</b><br><br>name=Na2CO3<br>x=%{x}<br>y=%{y}<extra></extra>\",\"hovertext\":[\"Na2CO3\"],\"legendgroup\":\"Na2CO3\",\"marker\":{\"color\":\"#00A08B\",\"symbol\":\"circle\"},\"mode\":\"markers\",\"name\":\"Na2CO3\",\"orientation\":\"v\",\"showlegend\":true,\"x\":[-10.856533778555411],\"xaxis\":\"x\",\"y\":[-11.476894480358538],\"yaxis\":\"y\",\"type\":\"scatter\"},{\"hovertemplate\":\"<b>%{hovertext}</b><br><br>name=PbCO3<br>x=%{x}<br>y=%{y}<extra></extra>\",\"hovertext\":[\"PbCO3\"],\"legendgroup\":\"PbCO3\",\"marker\":{\"color\":\"#FB00D1\",\"symbol\":\"diamond\"},\"mode\":\"markers\",\"name\":\"PbCO3\",\"orientation\":\"v\",\"showlegend\":true,\"x\":[-6.514563134816661],\"xaxis\":\"x\",\"y\":[-8.211967075966989],\"yaxis\":\"y\",\"type\":\"scatter\"},{\"hovertemplate\":\"<b>%{hovertext}</b><br><br>name=Rb2CO3<br>x=%{x}<br>y=%{y}<extra></extra>\",\"hovertext\":[\"Rb2CO3\"],\"legendgroup\":\"Rb2CO3\",\"marker\":{\"color\":\"#FC0080\",\"symbol\":\"square\"},\"mode\":\"markers\",\"name\":\"Rb2CO3\",\"orientation\":\"v\",\"showlegend\":true,\"x\":[-10.97233639890869],\"xaxis\":\"x\",\"y\":[-11.568089176145373],\"yaxis\":\"y\",\"type\":\"scatter\"},{\"hovertemplate\":\"<b>%{hovertext}</b><br><br>name=SrCO3<br>x=%{x}<br>y=%{y}<extra></extra>\",\"hovertext\":[\"SrCO3\"],\"legendgroup\":\"SrCO3\",\"marker\":{\"color\":\"#B2828D\",\"symbol\":\"x\"},\"mode\":\"markers\",\"name\":\"SrCO3\",\"orientation\":\"v\",\"showlegend\":true,\"x\":[-11.796336838082897],\"xaxis\":\"x\",\"y\":[-12.674541990174458],\"yaxis\":\"y\",\"type\":\"scatter\"},{\"hovertemplate\":\"<b>%{hovertext}</b><br><br>name=ZnCO3<br>x=%{x}<br>y=%{y}<extra></extra>\",\"hovertext\":[\"ZnCO3\"],\"legendgroup\":\"ZnCO3\",\"marker\":{\"color\":\"#6C7C32\",\"symbol\":\"cross\"},\"mode\":\"markers\",\"name\":\"ZnCO3\",\"orientation\":\"v\",\"showlegend\":true,\"x\":[-7.600479604861418],\"xaxis\":\"x\",\"y\":[-8.24550688210508],\"yaxis\":\"y\",\"type\":\"scatter\"},{\"hovertemplate\":\"x=%{x}<br>y=%{y}<extra></extra>\",\"legendgroup\":\"\",\"line\":{\"color\":\"#1F77B4\",\"dash\":\"solid\"},\"marker\":{\"symbol\":\"circle\"},\"mode\":\"lines\",\"name\":\"\",\"orientation\":\"v\",\"showlegend\":false,\"x\":[-12,-4],\"xaxis\":\"x\",\"y\":[-12,-4],\"yaxis\":\"y\",\"type\":\"scatter\"}],                        {\"template\":{\"data\":{\"histogram2dcontour\":[{\"type\":\"histogram2dcontour\",\"colorbar\":{\"outlinewidth\":1,\"tickcolor\":\"rgb(36,36,36)\",\"ticks\":\"outside\"},\"colorscale\":[[0.0,\"#440154\"],[0.1111111111111111,\"#482878\"],[0.2222222222222222,\"#3e4989\"],[0.3333333333333333,\"#31688e\"],[0.4444444444444444,\"#26828e\"],[0.5555555555555556,\"#1f9e89\"],[0.6666666666666666,\"#35b779\"],[0.7777777777777778,\"#6ece58\"],[0.8888888888888888,\"#b5de2b\"],[1.0,\"#fde725\"]]}],\"choropleth\":[{\"type\":\"choropleth\",\"colorbar\":{\"outlinewidth\":1,\"tickcolor\":\"rgb(36,36,36)\",\"ticks\":\"outside\"}}],\"histogram2d\":[{\"type\":\"histogram2d\",\"colorbar\":{\"outlinewidth\":1,\"tickcolor\":\"rgb(36,36,36)\",\"ticks\":\"outside\"},\"colorscale\":[[0.0,\"#440154\"],[0.1111111111111111,\"#482878\"],[0.2222222222222222,\"#3e4989\"],[0.3333333333333333,\"#31688e\"],[0.4444444444444444,\"#26828e\"],[0.5555555555555556,\"#1f9e89\"],[0.6666666666666666,\"#35b779\"],[0.7777777777777778,\"#6ece58\"],[0.8888888888888888,\"#b5de2b\"],[1.0,\"#fde725\"]]}],\"heatmap\":[{\"type\":\"heatmap\",\"colorbar\":{\"outlinewidth\":1,\"tickcolor\":\"rgb(36,36,36)\",\"ticks\":\"outside\"},\"colorscale\":[[0.0,\"#440154\"],[0.1111111111111111,\"#482878\"],[0.2222222222222222,\"#3e4989\"],[0.3333333333333333,\"#31688e\"],[0.4444444444444444,\"#26828e\"],[0.5555555555555556,\"#1f9e89\"],[0.6666666666666666,\"#35b779\"],[0.7777777777777778,\"#6ece58\"],[0.8888888888888888,\"#b5de2b\"],[1.0,\"#fde725\"]]}],\"heatmapgl\":[{\"type\":\"heatmapgl\",\"colorbar\":{\"outlinewidth\":1,\"tickcolor\":\"rgb(36,36,36)\",\"ticks\":\"outside\"},\"colorscale\":[[0.0,\"#440154\"],[0.1111111111111111,\"#482878\"],[0.2222222222222222,\"#3e4989\"],[0.3333333333333333,\"#31688e\"],[0.4444444444444444,\"#26828e\"],[0.5555555555555556,\"#1f9e89\"],[0.6666666666666666,\"#35b779\"],[0.7777777777777778,\"#6ece58\"],[0.8888888888888888,\"#b5de2b\"],[1.0,\"#fde725\"]]}],\"contourcarpet\":[{\"type\":\"contourcarpet\",\"colorbar\":{\"outlinewidth\":1,\"tickcolor\":\"rgb(36,36,36)\",\"ticks\":\"outside\"}}],\"contour\":[{\"type\":\"contour\",\"colorbar\":{\"outlinewidth\":1,\"tickcolor\":\"rgb(36,36,36)\",\"ticks\":\"outside\"},\"colorscale\":[[0.0,\"#440154\"],[0.1111111111111111,\"#482878\"],[0.2222222222222222,\"#3e4989\"],[0.3333333333333333,\"#31688e\"],[0.4444444444444444,\"#26828e\"],[0.5555555555555556,\"#1f9e89\"],[0.6666666666666666,\"#35b779\"],[0.7777777777777778,\"#6ece58\"],[0.8888888888888888,\"#b5de2b\"],[1.0,\"#fde725\"]]}],\"surface\":[{\"type\":\"surface\",\"colorbar\":{\"outlinewidth\":1,\"tickcolor\":\"rgb(36,36,36)\",\"ticks\":\"outside\"},\"colorscale\":[[0.0,\"#440154\"],[0.1111111111111111,\"#482878\"],[0.2222222222222222,\"#3e4989\"],[0.3333333333333333,\"#31688e\"],[0.4444444444444444,\"#26828e\"],[0.5555555555555556,\"#1f9e89\"],[0.6666666666666666,\"#35b779\"],[0.7777777777777778,\"#6ece58\"],[0.8888888888888888,\"#b5de2b\"],[1.0,\"#fde725\"]]}],\"mesh3d\":[{\"type\":\"mesh3d\",\"colorbar\":{\"outlinewidth\":1,\"tickcolor\":\"rgb(36,36,36)\",\"ticks\":\"outside\"}}],\"scatter\":[{\"fillpattern\":{\"fillmode\":\"overlay\",\"size\":10,\"solidity\":0.2},\"type\":\"scatter\"}],\"parcoords\":[{\"type\":\"parcoords\",\"line\":{\"colorbar\":{\"outlinewidth\":1,\"tickcolor\":\"rgb(36,36,36)\",\"ticks\":\"outside\"}}}],\"scatterpolargl\":[{\"type\":\"scatterpolargl\",\"marker\":{\"colorbar\":{\"outlinewidth\":1,\"tickcolor\":\"rgb(36,36,36)\",\"ticks\":\"outside\"}}}],\"bar\":[{\"error_x\":{\"color\":\"rgb(36,36,36)\"},\"error_y\":{\"color\":\"rgb(36,36,36)\"},\"marker\":{\"line\":{\"color\":\"white\",\"width\":0.5},\"pattern\":{\"fillmode\":\"overlay\",\"size\":10,\"solidity\":0.2}},\"type\":\"bar\"}],\"scattergeo\":[{\"type\":\"scattergeo\",\"marker\":{\"colorbar\":{\"outlinewidth\":1,\"tickcolor\":\"rgb(36,36,36)\",\"ticks\":\"outside\"}}}],\"scatterpolar\":[{\"type\":\"scatterpolar\",\"marker\":{\"colorbar\":{\"outlinewidth\":1,\"tickcolor\":\"rgb(36,36,36)\",\"ticks\":\"outside\"}}}],\"histogram\":[{\"marker\":{\"line\":{\"color\":\"white\",\"width\":0.6}},\"type\":\"histogram\"}],\"scattergl\":[{\"type\":\"scattergl\",\"marker\":{\"colorbar\":{\"outlinewidth\":1,\"tickcolor\":\"rgb(36,36,36)\",\"ticks\":\"outside\"}}}],\"scatter3d\":[{\"type\":\"scatter3d\",\"line\":{\"colorbar\":{\"outlinewidth\":1,\"tickcolor\":\"rgb(36,36,36)\",\"ticks\":\"outside\"}},\"marker\":{\"colorbar\":{\"outlinewidth\":1,\"tickcolor\":\"rgb(36,36,36)\",\"ticks\":\"outside\"}}}],\"scattermapbox\":[{\"type\":\"scattermapbox\",\"marker\":{\"colorbar\":{\"outlinewidth\":1,\"tickcolor\":\"rgb(36,36,36)\",\"ticks\":\"outside\"}}}],\"scatterternary\":[{\"type\":\"scatterternary\",\"marker\":{\"colorbar\":{\"outlinewidth\":1,\"tickcolor\":\"rgb(36,36,36)\",\"ticks\":\"outside\"}}}],\"scattercarpet\":[{\"type\":\"scattercarpet\",\"marker\":{\"colorbar\":{\"outlinewidth\":1,\"tickcolor\":\"rgb(36,36,36)\",\"ticks\":\"outside\"}}}],\"carpet\":[{\"aaxis\":{\"endlinecolor\":\"rgb(36,36,36)\",\"gridcolor\":\"white\",\"linecolor\":\"white\",\"minorgridcolor\":\"white\",\"startlinecolor\":\"rgb(36,36,36)\"},\"baxis\":{\"endlinecolor\":\"rgb(36,36,36)\",\"gridcolor\":\"white\",\"linecolor\":\"white\",\"minorgridcolor\":\"white\",\"startlinecolor\":\"rgb(36,36,36)\"},\"type\":\"carpet\"}],\"table\":[{\"cells\":{\"fill\":{\"color\":\"rgb(237,237,237)\"},\"line\":{\"color\":\"white\"}},\"header\":{\"fill\":{\"color\":\"rgb(217,217,217)\"},\"line\":{\"color\":\"white\"}},\"type\":\"table\"}],\"barpolar\":[{\"marker\":{\"line\":{\"color\":\"white\",\"width\":0.5},\"pattern\":{\"fillmode\":\"overlay\",\"size\":10,\"solidity\":0.2}},\"type\":\"barpolar\"}],\"pie\":[{\"automargin\":true,\"type\":\"pie\"}]},\"layout\":{\"autotypenumbers\":\"strict\",\"colorway\":[\"#1F77B4\",\"#FF7F0E\",\"#2CA02C\",\"#D62728\",\"#9467BD\",\"#8C564B\",\"#E377C2\",\"#7F7F7F\",\"#BCBD22\",\"#17BECF\"],\"font\":{\"color\":\"rgb(36,36,36)\"},\"hovermode\":\"closest\",\"hoverlabel\":{\"align\":\"left\"},\"paper_bgcolor\":\"white\",\"plot_bgcolor\":\"white\",\"polar\":{\"bgcolor\":\"white\",\"angularaxis\":{\"gridcolor\":\"rgb(232,232,232)\",\"linecolor\":\"rgb(36,36,36)\",\"showgrid\":false,\"showline\":true,\"ticks\":\"outside\"},\"radialaxis\":{\"gridcolor\":\"rgb(232,232,232)\",\"linecolor\":\"rgb(36,36,36)\",\"showgrid\":false,\"showline\":true,\"ticks\":\"outside\"}},\"ternary\":{\"bgcolor\":\"white\",\"aaxis\":{\"gridcolor\":\"rgb(232,232,232)\",\"linecolor\":\"rgb(36,36,36)\",\"showgrid\":false,\"showline\":true,\"ticks\":\"outside\"},\"baxis\":{\"gridcolor\":\"rgb(232,232,232)\",\"linecolor\":\"rgb(36,36,36)\",\"showgrid\":false,\"showline\":true,\"ticks\":\"outside\"},\"caxis\":{\"gridcolor\":\"rgb(232,232,232)\",\"linecolor\":\"rgb(36,36,36)\",\"showgrid\":false,\"showline\":true,\"ticks\":\"outside\"}},\"coloraxis\":{\"colorbar\":{\"outlinewidth\":1,\"tickcolor\":\"rgb(36,36,36)\",\"ticks\":\"outside\"}},\"colorscale\":{\"sequential\":[[0.0,\"#440154\"],[0.1111111111111111,\"#482878\"],[0.2222222222222222,\"#3e4989\"],[0.3333333333333333,\"#31688e\"],[0.4444444444444444,\"#26828e\"],[0.5555555555555556,\"#1f9e89\"],[0.6666666666666666,\"#35b779\"],[0.7777777777777778,\"#6ece58\"],[0.8888888888888888,\"#b5de2b\"],[1.0,\"#fde725\"]],\"sequentialminus\":[[0.0,\"#440154\"],[0.1111111111111111,\"#482878\"],[0.2222222222222222,\"#3e4989\"],[0.3333333333333333,\"#31688e\"],[0.4444444444444444,\"#26828e\"],[0.5555555555555556,\"#1f9e89\"],[0.6666666666666666,\"#35b779\"],[0.7777777777777778,\"#6ece58\"],[0.8888888888888888,\"#b5de2b\"],[1.0,\"#fde725\"]],\"diverging\":[[0.0,\"rgb(103,0,31)\"],[0.1,\"rgb(178,24,43)\"],[0.2,\"rgb(214,96,77)\"],[0.3,\"rgb(244,165,130)\"],[0.4,\"rgb(253,219,199)\"],[0.5,\"rgb(247,247,247)\"],[0.6,\"rgb(209,229,240)\"],[0.7,\"rgb(146,197,222)\"],[0.8,\"rgb(67,147,195)\"],[0.9,\"rgb(33,102,172)\"],[1.0,\"rgb(5,48,97)\"]]},\"xaxis\":{\"gridcolor\":\"rgb(232,232,232)\",\"linecolor\":\"rgb(36,36,36)\",\"showgrid\":false,\"showline\":true,\"ticks\":\"outside\",\"title\":{\"standoff\":15},\"zerolinecolor\":\"rgb(36,36,36)\",\"automargin\":true,\"zeroline\":false},\"yaxis\":{\"gridcolor\":\"rgb(232,232,232)\",\"linecolor\":\"rgb(36,36,36)\",\"showgrid\":false,\"showline\":true,\"ticks\":\"outside\",\"title\":{\"standoff\":15},\"zerolinecolor\":\"rgb(36,36,36)\",\"automargin\":true,\"zeroline\":false},\"scene\":{\"xaxis\":{\"backgroundcolor\":\"white\",\"gridcolor\":\"rgb(232,232,232)\",\"linecolor\":\"rgb(36,36,36)\",\"showbackground\":true,\"showgrid\":false,\"showline\":true,\"ticks\":\"outside\",\"zerolinecolor\":\"rgb(36,36,36)\",\"gridwidth\":2,\"zeroline\":false},\"yaxis\":{\"backgroundcolor\":\"white\",\"gridcolor\":\"rgb(232,232,232)\",\"linecolor\":\"rgb(36,36,36)\",\"showbackground\":true,\"showgrid\":false,\"showline\":true,\"ticks\":\"outside\",\"zerolinecolor\":\"rgb(36,36,36)\",\"gridwidth\":2,\"zeroline\":false},\"zaxis\":{\"backgroundcolor\":\"white\",\"gridcolor\":\"rgb(232,232,232)\",\"linecolor\":\"rgb(36,36,36)\",\"showbackground\":true,\"showgrid\":false,\"showline\":true,\"ticks\":\"outside\",\"zerolinecolor\":\"rgb(36,36,36)\",\"gridwidth\":2,\"zeroline\":false}},\"shapedefaults\":{\"fillcolor\":\"black\",\"line\":{\"width\":0},\"opacity\":0.3},\"annotationdefaults\":{\"arrowhead\":0,\"arrowwidth\":1},\"geo\":{\"bgcolor\":\"white\",\"landcolor\":\"white\",\"subunitcolor\":\"white\",\"showland\":true,\"showlakes\":true,\"lakecolor\":\"white\"},\"title\":{\"x\":0.05},\"mapbox\":{\"style\":\"light\"}}},\"title\":{\"text\":\"Carbonate formation energies\"},\"xaxis\":{\"title\":{\"text\":\"Experimental dGf (eV/f.u.)\"}},\"yaxis\":{\"title\":{\"text\":\"Calculated dGf (eV/f.u.)\"}}},                        {\"responsive\": true}                    ).then(function(){\n",
       "                            \n",
       "var gd = document.getElementById('4c6e53f1-3b0f-4b21-b2e0-6ce857206a17');\n",
       "var x = new MutationObserver(function (mutations, observer) {{\n",
       "        var display = window.getComputedStyle(gd).display;\n",
       "        if (!display || display === 'none') {{\n",
       "            console.log([gd, 'removed!']);\n",
       "            Plotly.purge(gd);\n",
       "            observer.disconnect();\n",
       "        }}\n",
       "}});\n",
       "\n",
       "// Listen for the removal of the full notebook cells\n",
       "var notebookContainer = gd.closest('#notebook-container');\n",
       "if (notebookContainer) {{\n",
       "    x.observe(notebookContainer, {childList: true});\n",
       "}}\n",
       "\n",
       "// Listen for the clearing of the current output cell\n",
       "var outputEl = gd.closest('.output');\n",
       "if (outputEl) {{\n",
       "    x.observe(outputEl, {childList: true});\n",
       "}}\n",
       "\n",
       "                        })                };                });            </script>        </div>"
      ]
     },
     "metadata": {},
     "output_type": "display_data"
    }
   ],
   "source": [
    "df = pandas.DataFrame({\"x\":energies_exp, \"y\":energies_calc, \"name\":names})\n",
    "\n",
    "scatter = px.scatter(df, x=\"x\", y=\"y\", hover_name=\"name\", symbol=\"name\", color=\"name\", color_discrete_sequence=[px.colors.qualitative.Dark24[i] for i in range(len(df_new))])\n",
    "line = px.line(x=[-12, -4], y=[-12, -4])\n",
    "\n",
    "fig = go.Figure(scatter.data + line.data)\n",
    "fig.update_layout({\"title\": \"Carbonate formation energies\",\n",
    "                   \"xaxis_title\":\"Experimental dGf (eV/f.u.)\",\n",
    "                   \"yaxis_title\":\"Calculated dGf (eV/f.u.)\"})\n",
    "fig.show()"
   ]
  },
  {
   "cell_type": "markdown",
   "id": "e5a2cccd",
   "metadata": {},
   "source": [
    "### Fitting correction with scipy.optimize.minimize\n",
    "Minimizing the mean absolute error (MAE) for all corrected phases."
   ]
  },
  {
   "cell_type": "code",
   "execution_count": 108,
   "id": "11917ec8",
   "metadata": {},
   "outputs": [],
   "source": [
    "def func(correction):\n",
    "    return np.mean(np.abs((df[\"y\"] + correction) - df[\"x\"]))  # definition of MAE"
   ]
  },
  {
   "cell_type": "code",
   "execution_count": 109,
   "id": "d2a7cd76",
   "metadata": {},
   "outputs": [],
   "source": [
    "final_correction = minimize(func, 0.25).x[0]"
   ]
  },
  {
   "cell_type": "code",
   "execution_count": 110,
   "id": "1ee28d01",
   "metadata": {},
   "outputs": [
    {
     "data": {
      "text/plain": [
       "15"
      ]
     },
     "execution_count": 110,
     "metadata": {},
     "output_type": "execute_result"
    }
   ],
   "source": [
    "len(df_new)"
   ]
  },
  {
   "cell_type": "code",
   "execution_count": 111,
   "id": "81b901ab",
   "metadata": {},
   "outputs": [
    {
     "data": {
      "application/vnd.plotly.v1+json": {
       "config": {
        "plotlyServerURL": "https://plot.ly"
       },
       "data": [
        {
         "hovertemplate": "<b>%{hovertext}</b><br><br>name=Ag2CO3<br>x=%{x}<br>y=%{y}<extra></extra>",
         "hovertext": [
          "Ag2CO3"
         ],
         "legendgroup": "Ag2CO3",
         "marker": {
          "color": "#2E91E5",
          "symbol": "circle"
         },
         "mode": "markers",
         "name": "Ag2CO3",
         "orientation": "v",
         "showlegend": true,
         "type": "scatter",
         "x": [
          -4.523490740122578
         ],
         "xaxis": "x",
         "y": [
          -4.886234187278925
         ],
         "yaxis": "y"
        },
        {
         "hovertemplate": "<b>%{hovertext}</b><br><br>name=BaCO3<br>x=%{x}<br>y=%{y}<extra></extra>",
         "hovertext": [
          "BaCO3"
         ],
         "legendgroup": "BaCO3",
         "marker": {
          "color": "#E15F99",
          "symbol": "diamond"
         },
         "mode": "markers",
         "name": "BaCO3",
         "orientation": "v",
         "showlegend": true,
         "type": "scatter",
         "x": [
          -11.729310728660677
         ],
         "xaxis": "x",
         "y": [
          -11.790295930442126
         ],
         "yaxis": "y"
        },
        {
         "hovertemplate": "<b>%{hovertext}</b><br><br>name=CaCO3<br>x=%{x}<br>y=%{y}<extra></extra>",
         "hovertext": [
          "CaCO3"
         ],
         "legendgroup": "CaCO3",
         "marker": {
          "color": "#1CA71C",
          "symbol": "square"
         },
         "mode": "markers",
         "name": "CaCO3",
         "orientation": "v",
         "showlegend": true,
         "type": "scatter",
         "x": [
          -11.697022798117317
         ],
         "xaxis": "x",
         "y": [
          -11.801615185195203
         ],
         "yaxis": "y"
        },
        {
         "hovertemplate": "<b>%{hovertext}</b><br><br>name=CdCO3<br>x=%{x}<br>y=%{y}<extra></extra>",
         "hovertext": [
          "CdCO3"
         ],
         "legendgroup": "CdCO3",
         "marker": {
          "color": "#FB0D0D",
          "symbol": "x"
         },
         "mode": "markers",
         "name": "CdCO3",
         "orientation": "v",
         "showlegend": true,
         "type": "scatter",
         "x": [
          -7.018997735710281
         ],
         "xaxis": "x",
         "y": [
          -7.144196697015953
         ],
         "yaxis": "y"
        },
        {
         "hovertemplate": "<b>%{hovertext}</b><br><br>name=Cs2CO3<br>x=%{x}<br>y=%{y}<extra></extra>",
         "hovertext": [
          "Cs2CO3"
         ],
         "legendgroup": "Cs2CO3",
         "marker": {
          "color": "#DA16FF",
          "symbol": "cross"
         },
         "mode": "markers",
         "name": "Cs2CO3",
         "orientation": "v",
         "showlegend": true,
         "type": "scatter",
         "x": [
          -10.89413162728376
         ],
         "xaxis": "x",
         "y": [
          -10.639096552529349
         ],
         "yaxis": "y"
        },
        {
         "hovertemplate": "<b>%{hovertext}</b><br><br>name=FeCO3<br>x=%{x}<br>y=%{y}<extra></extra>",
         "hovertext": [
          "FeCO3"
         ],
         "legendgroup": "FeCO3",
         "marker": {
          "color": "#222A2A",
          "symbol": "circle"
         },
         "mode": "markers",
         "name": "FeCO3",
         "orientation": "v",
         "showlegend": true,
         "type": "scatter",
         "x": [
          -6.929197226894303
         ],
         "xaxis": "x",
         "y": [
          -7.302766174209561
         ],
         "yaxis": "y"
        },
        {
         "hovertemplate": "<b>%{hovertext}</b><br><br>name=K2CO3<br>x=%{x}<br>y=%{y}<extra></extra>",
         "hovertext": [
          "K2CO3"
         ],
         "legendgroup": "K2CO3",
         "marker": {
          "color": "#B68100",
          "symbol": "diamond"
         },
         "mode": "markers",
         "name": "K2CO3",
         "orientation": "v",
         "showlegend": true,
         "type": "scatter",
         "x": [
          -11.028037676944544
         ],
         "xaxis": "x",
         "y": [
          -10.94433797844042
         ],
         "yaxis": "y"
        },
        {
         "hovertemplate": "<b>%{hovertext}</b><br><br>name=Li2CO3<br>x=%{x}<br>y=%{y}<extra></extra>",
         "hovertext": [
          "Li2CO3"
         ],
         "legendgroup": "Li2CO3",
         "marker": {
          "color": "#750D86",
          "symbol": "square"
         },
         "mode": "markers",
         "name": "Li2CO3",
         "orientation": "v",
         "showlegend": true,
         "type": "scatter",
         "x": [
          -11.728638626956926
         ],
         "xaxis": "x",
         "y": [
          -11.728638634360346
         ],
         "yaxis": "y"
        },
        {
         "hovertemplate": "<b>%{hovertext}</b><br><br>name=MgCO3<br>x=%{x}<br>y=%{y}<extra></extra>",
         "hovertext": [
          "MgCO3"
         ],
         "legendgroup": "MgCO3",
         "marker": {
          "color": "#EB663B",
          "symbol": "x"
         },
         "mode": "markers",
         "name": "MgCO3",
         "orientation": "v",
         "showlegend": true,
         "type": "scatter",
         "x": [
          -10.66327385453301
         ],
         "xaxis": "x",
         "y": [
          -10.546366056735108
         ],
         "yaxis": "y"
        },
        {
         "hovertemplate": "<b>%{hovertext}</b><br><br>name=MnCO3<br>x=%{x}<br>y=%{y}<extra></extra>",
         "hovertext": [
          "MnCO3"
         ],
         "legendgroup": "MnCO3",
         "marker": {
          "color": "#511CFB",
          "symbol": "cross"
         },
         "mode": "markers",
         "name": "MnCO3",
         "orientation": "v",
         "showlegend": true,
         "type": "scatter",
         "x": [
          -8.448687588375233
         ],
         "xaxis": "x",
         "y": [
          -8.41888724966598
         ],
         "yaxis": "y"
        },
        {
         "hovertemplate": "<b>%{hovertext}</b><br><br>name=Na2CO3<br>x=%{x}<br>y=%{y}<extra></extra>",
         "hovertext": [
          "Na2CO3"
         ],
         "legendgroup": "Na2CO3",
         "marker": {
          "color": "#00A08B",
          "symbol": "circle"
         },
         "mode": "markers",
         "name": "Na2CO3",
         "orientation": "v",
         "showlegend": true,
         "type": "scatter",
         "x": [
          -10.856533778555413
         ],
         "xaxis": "x",
         "y": [
          -10.646767240972132
         ],
         "yaxis": "y"
        },
        {
         "hovertemplate": "<b>%{hovertext}</b><br><br>name=PbCO3<br>x=%{x}<br>y=%{y}<extra></extra>",
         "hovertext": [
          "PbCO3"
         ],
         "legendgroup": "PbCO3",
         "marker": {
          "color": "#FB00D1",
          "symbol": "diamond"
         },
         "mode": "markers",
         "name": "PbCO3",
         "orientation": "v",
         "showlegend": true,
         "type": "scatter",
         "x": [
          -6.514563134816661
         ],
         "xaxis": "x",
         "y": [
          -7.381839836580582
         ],
         "yaxis": "y"
        },
        {
         "hovertemplate": "<b>%{hovertext}</b><br><br>name=Rb2CO3<br>x=%{x}<br>y=%{y}<extra></extra>",
         "hovertext": [
          "Rb2CO3"
         ],
         "legendgroup": "Rb2CO3",
         "marker": {
          "color": "#FC0080",
          "symbol": "square"
         },
         "mode": "markers",
         "name": "Rb2CO3",
         "orientation": "v",
         "showlegend": true,
         "type": "scatter",
         "x": [
          -10.97233639890869
         ],
         "xaxis": "x",
         "y": [
          -10.737961936758966
         ],
         "yaxis": "y"
        },
        {
         "hovertemplate": "<b>%{hovertext}</b><br><br>name=SrCO3<br>x=%{x}<br>y=%{y}<extra></extra>",
         "hovertext": [
          "SrCO3"
         ],
         "legendgroup": "SrCO3",
         "marker": {
          "color": "#B2828D",
          "symbol": "x"
         },
         "mode": "markers",
         "name": "SrCO3",
         "orientation": "v",
         "showlegend": true,
         "type": "scatter",
         "x": [
          -11.796336838082896
         ],
         "xaxis": "x",
         "y": [
          -11.84441475078805
         ],
         "yaxis": "y"
        },
        {
         "hovertemplate": "<b>%{hovertext}</b><br><br>name=ZnCO3<br>x=%{x}<br>y=%{y}<extra></extra>",
         "hovertext": [
          "ZnCO3"
         ],
         "legendgroup": "ZnCO3",
         "marker": {
          "color": "#6C7C32",
          "symbol": "cross"
         },
         "mode": "markers",
         "name": "ZnCO3",
         "orientation": "v",
         "showlegend": true,
         "type": "scatter",
         "x": [
          -7.600479604861418
         ],
         "xaxis": "x",
         "y": [
          -7.415379642718673
         ],
         "yaxis": "y"
        },
        {
         "hovertemplate": "x=%{x}<br>y=%{y}<extra></extra>",
         "legendgroup": "",
         "line": {
          "color": "#1F77B4",
          "dash": "solid"
         },
         "marker": {
          "symbol": "circle"
         },
         "mode": "lines",
         "name": "",
         "orientation": "v",
         "showlegend": false,
         "type": "scatter",
         "x": [
          -12,
          -4
         ],
         "xaxis": "x",
         "y": [
          -12,
          -4
         ],
         "yaxis": "y"
        }
       ],
       "layout": {
        "template": {
         "data": {
          "bar": [
           {
            "error_x": {
             "color": "rgb(36,36,36)"
            },
            "error_y": {
             "color": "rgb(36,36,36)"
            },
            "marker": {
             "line": {
              "color": "white",
              "width": 0.5
             },
             "pattern": {
              "fillmode": "overlay",
              "size": 10,
              "solidity": 0.2
             }
            },
            "type": "bar"
           }
          ],
          "barpolar": [
           {
            "marker": {
             "line": {
              "color": "white",
              "width": 0.5
             },
             "pattern": {
              "fillmode": "overlay",
              "size": 10,
              "solidity": 0.2
             }
            },
            "type": "barpolar"
           }
          ],
          "carpet": [
           {
            "aaxis": {
             "endlinecolor": "rgb(36,36,36)",
             "gridcolor": "white",
             "linecolor": "white",
             "minorgridcolor": "white",
             "startlinecolor": "rgb(36,36,36)"
            },
            "baxis": {
             "endlinecolor": "rgb(36,36,36)",
             "gridcolor": "white",
             "linecolor": "white",
             "minorgridcolor": "white",
             "startlinecolor": "rgb(36,36,36)"
            },
            "type": "carpet"
           }
          ],
          "choropleth": [
           {
            "colorbar": {
             "outlinewidth": 1,
             "tickcolor": "rgb(36,36,36)",
             "ticks": "outside"
            },
            "type": "choropleth"
           }
          ],
          "contour": [
           {
            "colorbar": {
             "outlinewidth": 1,
             "tickcolor": "rgb(36,36,36)",
             "ticks": "outside"
            },
            "colorscale": [
             [
              0,
              "#440154"
             ],
             [
              0.1111111111111111,
              "#482878"
             ],
             [
              0.2222222222222222,
              "#3e4989"
             ],
             [
              0.3333333333333333,
              "#31688e"
             ],
             [
              0.4444444444444444,
              "#26828e"
             ],
             [
              0.5555555555555556,
              "#1f9e89"
             ],
             [
              0.6666666666666666,
              "#35b779"
             ],
             [
              0.7777777777777778,
              "#6ece58"
             ],
             [
              0.8888888888888888,
              "#b5de2b"
             ],
             [
              1,
              "#fde725"
             ]
            ],
            "type": "contour"
           }
          ],
          "contourcarpet": [
           {
            "colorbar": {
             "outlinewidth": 1,
             "tickcolor": "rgb(36,36,36)",
             "ticks": "outside"
            },
            "type": "contourcarpet"
           }
          ],
          "heatmap": [
           {
            "colorbar": {
             "outlinewidth": 1,
             "tickcolor": "rgb(36,36,36)",
             "ticks": "outside"
            },
            "colorscale": [
             [
              0,
              "#440154"
             ],
             [
              0.1111111111111111,
              "#482878"
             ],
             [
              0.2222222222222222,
              "#3e4989"
             ],
             [
              0.3333333333333333,
              "#31688e"
             ],
             [
              0.4444444444444444,
              "#26828e"
             ],
             [
              0.5555555555555556,
              "#1f9e89"
             ],
             [
              0.6666666666666666,
              "#35b779"
             ],
             [
              0.7777777777777778,
              "#6ece58"
             ],
             [
              0.8888888888888888,
              "#b5de2b"
             ],
             [
              1,
              "#fde725"
             ]
            ],
            "type": "heatmap"
           }
          ],
          "heatmapgl": [
           {
            "colorbar": {
             "outlinewidth": 1,
             "tickcolor": "rgb(36,36,36)",
             "ticks": "outside"
            },
            "colorscale": [
             [
              0,
              "#440154"
             ],
             [
              0.1111111111111111,
              "#482878"
             ],
             [
              0.2222222222222222,
              "#3e4989"
             ],
             [
              0.3333333333333333,
              "#31688e"
             ],
             [
              0.4444444444444444,
              "#26828e"
             ],
             [
              0.5555555555555556,
              "#1f9e89"
             ],
             [
              0.6666666666666666,
              "#35b779"
             ],
             [
              0.7777777777777778,
              "#6ece58"
             ],
             [
              0.8888888888888888,
              "#b5de2b"
             ],
             [
              1,
              "#fde725"
             ]
            ],
            "type": "heatmapgl"
           }
          ],
          "histogram": [
           {
            "marker": {
             "line": {
              "color": "white",
              "width": 0.6
             }
            },
            "type": "histogram"
           }
          ],
          "histogram2d": [
           {
            "colorbar": {
             "outlinewidth": 1,
             "tickcolor": "rgb(36,36,36)",
             "ticks": "outside"
            },
            "colorscale": [
             [
              0,
              "#440154"
             ],
             [
              0.1111111111111111,
              "#482878"
             ],
             [
              0.2222222222222222,
              "#3e4989"
             ],
             [
              0.3333333333333333,
              "#31688e"
             ],
             [
              0.4444444444444444,
              "#26828e"
             ],
             [
              0.5555555555555556,
              "#1f9e89"
             ],
             [
              0.6666666666666666,
              "#35b779"
             ],
             [
              0.7777777777777778,
              "#6ece58"
             ],
             [
              0.8888888888888888,
              "#b5de2b"
             ],
             [
              1,
              "#fde725"
             ]
            ],
            "type": "histogram2d"
           }
          ],
          "histogram2dcontour": [
           {
            "colorbar": {
             "outlinewidth": 1,
             "tickcolor": "rgb(36,36,36)",
             "ticks": "outside"
            },
            "colorscale": [
             [
              0,
              "#440154"
             ],
             [
              0.1111111111111111,
              "#482878"
             ],
             [
              0.2222222222222222,
              "#3e4989"
             ],
             [
              0.3333333333333333,
              "#31688e"
             ],
             [
              0.4444444444444444,
              "#26828e"
             ],
             [
              0.5555555555555556,
              "#1f9e89"
             ],
             [
              0.6666666666666666,
              "#35b779"
             ],
             [
              0.7777777777777778,
              "#6ece58"
             ],
             [
              0.8888888888888888,
              "#b5de2b"
             ],
             [
              1,
              "#fde725"
             ]
            ],
            "type": "histogram2dcontour"
           }
          ],
          "mesh3d": [
           {
            "colorbar": {
             "outlinewidth": 1,
             "tickcolor": "rgb(36,36,36)",
             "ticks": "outside"
            },
            "type": "mesh3d"
           }
          ],
          "parcoords": [
           {
            "line": {
             "colorbar": {
              "outlinewidth": 1,
              "tickcolor": "rgb(36,36,36)",
              "ticks": "outside"
             }
            },
            "type": "parcoords"
           }
          ],
          "pie": [
           {
            "automargin": true,
            "type": "pie"
           }
          ],
          "scatter": [
           {
            "fillpattern": {
             "fillmode": "overlay",
             "size": 10,
             "solidity": 0.2
            },
            "type": "scatter"
           }
          ],
          "scatter3d": [
           {
            "line": {
             "colorbar": {
              "outlinewidth": 1,
              "tickcolor": "rgb(36,36,36)",
              "ticks": "outside"
             }
            },
            "marker": {
             "colorbar": {
              "outlinewidth": 1,
              "tickcolor": "rgb(36,36,36)",
              "ticks": "outside"
             }
            },
            "type": "scatter3d"
           }
          ],
          "scattercarpet": [
           {
            "marker": {
             "colorbar": {
              "outlinewidth": 1,
              "tickcolor": "rgb(36,36,36)",
              "ticks": "outside"
             }
            },
            "type": "scattercarpet"
           }
          ],
          "scattergeo": [
           {
            "marker": {
             "colorbar": {
              "outlinewidth": 1,
              "tickcolor": "rgb(36,36,36)",
              "ticks": "outside"
             }
            },
            "type": "scattergeo"
           }
          ],
          "scattergl": [
           {
            "marker": {
             "colorbar": {
              "outlinewidth": 1,
              "tickcolor": "rgb(36,36,36)",
              "ticks": "outside"
             }
            },
            "type": "scattergl"
           }
          ],
          "scattermapbox": [
           {
            "marker": {
             "colorbar": {
              "outlinewidth": 1,
              "tickcolor": "rgb(36,36,36)",
              "ticks": "outside"
             }
            },
            "type": "scattermapbox"
           }
          ],
          "scatterpolar": [
           {
            "marker": {
             "colorbar": {
              "outlinewidth": 1,
              "tickcolor": "rgb(36,36,36)",
              "ticks": "outside"
             }
            },
            "type": "scatterpolar"
           }
          ],
          "scatterpolargl": [
           {
            "marker": {
             "colorbar": {
              "outlinewidth": 1,
              "tickcolor": "rgb(36,36,36)",
              "ticks": "outside"
             }
            },
            "type": "scatterpolargl"
           }
          ],
          "scatterternary": [
           {
            "marker": {
             "colorbar": {
              "outlinewidth": 1,
              "tickcolor": "rgb(36,36,36)",
              "ticks": "outside"
             }
            },
            "type": "scatterternary"
           }
          ],
          "surface": [
           {
            "colorbar": {
             "outlinewidth": 1,
             "tickcolor": "rgb(36,36,36)",
             "ticks": "outside"
            },
            "colorscale": [
             [
              0,
              "#440154"
             ],
             [
              0.1111111111111111,
              "#482878"
             ],
             [
              0.2222222222222222,
              "#3e4989"
             ],
             [
              0.3333333333333333,
              "#31688e"
             ],
             [
              0.4444444444444444,
              "#26828e"
             ],
             [
              0.5555555555555556,
              "#1f9e89"
             ],
             [
              0.6666666666666666,
              "#35b779"
             ],
             [
              0.7777777777777778,
              "#6ece58"
             ],
             [
              0.8888888888888888,
              "#b5de2b"
             ],
             [
              1,
              "#fde725"
             ]
            ],
            "type": "surface"
           }
          ],
          "table": [
           {
            "cells": {
             "fill": {
              "color": "rgb(237,237,237)"
             },
             "line": {
              "color": "white"
             }
            },
            "header": {
             "fill": {
              "color": "rgb(217,217,217)"
             },
             "line": {
              "color": "white"
             }
            },
            "type": "table"
           }
          ]
         },
         "layout": {
          "annotationdefaults": {
           "arrowhead": 0,
           "arrowwidth": 1
          },
          "autotypenumbers": "strict",
          "coloraxis": {
           "colorbar": {
            "outlinewidth": 1,
            "tickcolor": "rgb(36,36,36)",
            "ticks": "outside"
           }
          },
          "colorscale": {
           "diverging": [
            [
             0,
             "rgb(103,0,31)"
            ],
            [
             0.1,
             "rgb(178,24,43)"
            ],
            [
             0.2,
             "rgb(214,96,77)"
            ],
            [
             0.3,
             "rgb(244,165,130)"
            ],
            [
             0.4,
             "rgb(253,219,199)"
            ],
            [
             0.5,
             "rgb(247,247,247)"
            ],
            [
             0.6,
             "rgb(209,229,240)"
            ],
            [
             0.7,
             "rgb(146,197,222)"
            ],
            [
             0.8,
             "rgb(67,147,195)"
            ],
            [
             0.9,
             "rgb(33,102,172)"
            ],
            [
             1,
             "rgb(5,48,97)"
            ]
           ],
           "sequential": [
            [
             0,
             "#440154"
            ],
            [
             0.1111111111111111,
             "#482878"
            ],
            [
             0.2222222222222222,
             "#3e4989"
            ],
            [
             0.3333333333333333,
             "#31688e"
            ],
            [
             0.4444444444444444,
             "#26828e"
            ],
            [
             0.5555555555555556,
             "#1f9e89"
            ],
            [
             0.6666666666666666,
             "#35b779"
            ],
            [
             0.7777777777777778,
             "#6ece58"
            ],
            [
             0.8888888888888888,
             "#b5de2b"
            ],
            [
             1,
             "#fde725"
            ]
           ],
           "sequentialminus": [
            [
             0,
             "#440154"
            ],
            [
             0.1111111111111111,
             "#482878"
            ],
            [
             0.2222222222222222,
             "#3e4989"
            ],
            [
             0.3333333333333333,
             "#31688e"
            ],
            [
             0.4444444444444444,
             "#26828e"
            ],
            [
             0.5555555555555556,
             "#1f9e89"
            ],
            [
             0.6666666666666666,
             "#35b779"
            ],
            [
             0.7777777777777778,
             "#6ece58"
            ],
            [
             0.8888888888888888,
             "#b5de2b"
            ],
            [
             1,
             "#fde725"
            ]
           ]
          },
          "colorway": [
           "#1F77B4",
           "#FF7F0E",
           "#2CA02C",
           "#D62728",
           "#9467BD",
           "#8C564B",
           "#E377C2",
           "#7F7F7F",
           "#BCBD22",
           "#17BECF"
          ],
          "font": {
           "color": "rgb(36,36,36)"
          },
          "geo": {
           "bgcolor": "white",
           "lakecolor": "white",
           "landcolor": "white",
           "showlakes": true,
           "showland": true,
           "subunitcolor": "white"
          },
          "hoverlabel": {
           "align": "left"
          },
          "hovermode": "closest",
          "mapbox": {
           "style": "light"
          },
          "paper_bgcolor": "white",
          "plot_bgcolor": "white",
          "polar": {
           "angularaxis": {
            "gridcolor": "rgb(232,232,232)",
            "linecolor": "rgb(36,36,36)",
            "showgrid": false,
            "showline": true,
            "ticks": "outside"
           },
           "bgcolor": "white",
           "radialaxis": {
            "gridcolor": "rgb(232,232,232)",
            "linecolor": "rgb(36,36,36)",
            "showgrid": false,
            "showline": true,
            "ticks": "outside"
           }
          },
          "scene": {
           "xaxis": {
            "backgroundcolor": "white",
            "gridcolor": "rgb(232,232,232)",
            "gridwidth": 2,
            "linecolor": "rgb(36,36,36)",
            "showbackground": true,
            "showgrid": false,
            "showline": true,
            "ticks": "outside",
            "zeroline": false,
            "zerolinecolor": "rgb(36,36,36)"
           },
           "yaxis": {
            "backgroundcolor": "white",
            "gridcolor": "rgb(232,232,232)",
            "gridwidth": 2,
            "linecolor": "rgb(36,36,36)",
            "showbackground": true,
            "showgrid": false,
            "showline": true,
            "ticks": "outside",
            "zeroline": false,
            "zerolinecolor": "rgb(36,36,36)"
           },
           "zaxis": {
            "backgroundcolor": "white",
            "gridcolor": "rgb(232,232,232)",
            "gridwidth": 2,
            "linecolor": "rgb(36,36,36)",
            "showbackground": true,
            "showgrid": false,
            "showline": true,
            "ticks": "outside",
            "zeroline": false,
            "zerolinecolor": "rgb(36,36,36)"
           }
          },
          "shapedefaults": {
           "fillcolor": "black",
           "line": {
            "width": 0
           },
           "opacity": 0.3
          },
          "ternary": {
           "aaxis": {
            "gridcolor": "rgb(232,232,232)",
            "linecolor": "rgb(36,36,36)",
            "showgrid": false,
            "showline": true,
            "ticks": "outside"
           },
           "baxis": {
            "gridcolor": "rgb(232,232,232)",
            "linecolor": "rgb(36,36,36)",
            "showgrid": false,
            "showline": true,
            "ticks": "outside"
           },
           "bgcolor": "white",
           "caxis": {
            "gridcolor": "rgb(232,232,232)",
            "linecolor": "rgb(36,36,36)",
            "showgrid": false,
            "showline": true,
            "ticks": "outside"
           }
          },
          "title": {
           "x": 0.05
          },
          "xaxis": {
           "automargin": true,
           "gridcolor": "rgb(232,232,232)",
           "linecolor": "rgb(36,36,36)",
           "showgrid": false,
           "showline": true,
           "ticks": "outside",
           "title": {
            "standoff": 15
           },
           "zeroline": false,
           "zerolinecolor": "rgb(36,36,36)"
          },
          "yaxis": {
           "automargin": true,
           "gridcolor": "rgb(232,232,232)",
           "linecolor": "rgb(36,36,36)",
           "showgrid": false,
           "showline": true,
           "ticks": "outside",
           "title": {
            "standoff": 15
           },
           "zeroline": false,
           "zerolinecolor": "rgb(36,36,36)"
          }
         }
        },
        "title": {
         "text": "Corrected carbonate formation energies"
        },
        "xaxis": {
         "title": {
          "text": "Experimental dGf (eV/f.u.)"
         }
        },
        "yaxis": {
         "title": {
          "text": "Calculated dGf (eV/f.u.)"
         }
        }
       }
      },
      "text/html": [
       "<div>                            <div id=\"f5b0a72a-ac04-49d9-95eb-a0465fec4102\" class=\"plotly-graph-div\" style=\"height:525px; width:100%;\"></div>            <script type=\"text/javascript\">                require([\"plotly\"], function(Plotly) {                    window.PLOTLYENV=window.PLOTLYENV || {};                                    if (document.getElementById(\"f5b0a72a-ac04-49d9-95eb-a0465fec4102\")) {                    Plotly.newPlot(                        \"f5b0a72a-ac04-49d9-95eb-a0465fec4102\",                        [{\"hovertemplate\":\"<b>%{hovertext}</b><br><br>name=Ag2CO3<br>x=%{x}<br>y=%{y}<extra></extra>\",\"hovertext\":[\"Ag2CO3\"],\"legendgroup\":\"Ag2CO3\",\"marker\":{\"color\":\"#2E91E5\",\"symbol\":\"circle\"},\"mode\":\"markers\",\"name\":\"Ag2CO3\",\"orientation\":\"v\",\"showlegend\":true,\"x\":[-4.523490740122578],\"xaxis\":\"x\",\"y\":[-4.886234187278925],\"yaxis\":\"y\",\"type\":\"scatter\"},{\"hovertemplate\":\"<b>%{hovertext}</b><br><br>name=BaCO3<br>x=%{x}<br>y=%{y}<extra></extra>\",\"hovertext\":[\"BaCO3\"],\"legendgroup\":\"BaCO3\",\"marker\":{\"color\":\"#E15F99\",\"symbol\":\"diamond\"},\"mode\":\"markers\",\"name\":\"BaCO3\",\"orientation\":\"v\",\"showlegend\":true,\"x\":[-11.729310728660675],\"xaxis\":\"x\",\"y\":[-11.790295930442126],\"yaxis\":\"y\",\"type\":\"scatter\"},{\"hovertemplate\":\"<b>%{hovertext}</b><br><br>name=CaCO3<br>x=%{x}<br>y=%{y}<extra></extra>\",\"hovertext\":[\"CaCO3\"],\"legendgroup\":\"CaCO3\",\"marker\":{\"color\":\"#1CA71C\",\"symbol\":\"square\"},\"mode\":\"markers\",\"name\":\"CaCO3\",\"orientation\":\"v\",\"showlegend\":true,\"x\":[-11.697022798117317],\"xaxis\":\"x\",\"y\":[-11.801615185195205],\"yaxis\":\"y\",\"type\":\"scatter\"},{\"hovertemplate\":\"<b>%{hovertext}</b><br><br>name=CdCO3<br>x=%{x}<br>y=%{y}<extra></extra>\",\"hovertext\":[\"CdCO3\"],\"legendgroup\":\"CdCO3\",\"marker\":{\"color\":\"#FB0D0D\",\"symbol\":\"x\"},\"mode\":\"markers\",\"name\":\"CdCO3\",\"orientation\":\"v\",\"showlegend\":true,\"x\":[-7.018997735710281],\"xaxis\":\"x\",\"y\":[-7.144196697015953],\"yaxis\":\"y\",\"type\":\"scatter\"},{\"hovertemplate\":\"<b>%{hovertext}</b><br><br>name=Cs2CO3<br>x=%{x}<br>y=%{y}<extra></extra>\",\"hovertext\":[\"Cs2CO3\"],\"legendgroup\":\"Cs2CO3\",\"marker\":{\"color\":\"#DA16FF\",\"symbol\":\"cross\"},\"mode\":\"markers\",\"name\":\"Cs2CO3\",\"orientation\":\"v\",\"showlegend\":true,\"x\":[-10.894131627283759],\"xaxis\":\"x\",\"y\":[-10.639096552529349],\"yaxis\":\"y\",\"type\":\"scatter\"},{\"hovertemplate\":\"<b>%{hovertext}</b><br><br>name=FeCO3<br>x=%{x}<br>y=%{y}<extra></extra>\",\"hovertext\":[\"FeCO3\"],\"legendgroup\":\"FeCO3\",\"marker\":{\"color\":\"#222A2A\",\"symbol\":\"circle\"},\"mode\":\"markers\",\"name\":\"FeCO3\",\"orientation\":\"v\",\"showlegend\":true,\"x\":[-6.929197226894303],\"xaxis\":\"x\",\"y\":[-7.302766174209561],\"yaxis\":\"y\",\"type\":\"scatter\"},{\"hovertemplate\":\"<b>%{hovertext}</b><br><br>name=K2CO3<br>x=%{x}<br>y=%{y}<extra></extra>\",\"hovertext\":[\"K2CO3\"],\"legendgroup\":\"K2CO3\",\"marker\":{\"color\":\"#B68100\",\"symbol\":\"diamond\"},\"mode\":\"markers\",\"name\":\"K2CO3\",\"orientation\":\"v\",\"showlegend\":true,\"x\":[-11.028037676944543],\"xaxis\":\"x\",\"y\":[-10.94433797844042],\"yaxis\":\"y\",\"type\":\"scatter\"},{\"hovertemplate\":\"<b>%{hovertext}</b><br><br>name=Li2CO3<br>x=%{x}<br>y=%{y}<extra></extra>\",\"hovertext\":[\"Li2CO3\"],\"legendgroup\":\"Li2CO3\",\"marker\":{\"color\":\"#750D86\",\"symbol\":\"square\"},\"mode\":\"markers\",\"name\":\"Li2CO3\",\"orientation\":\"v\",\"showlegend\":true,\"x\":[-11.728638626956926],\"xaxis\":\"x\",\"y\":[-11.728638634360346],\"yaxis\":\"y\",\"type\":\"scatter\"},{\"hovertemplate\":\"<b>%{hovertext}</b><br><br>name=MgCO3<br>x=%{x}<br>y=%{y}<extra></extra>\",\"hovertext\":[\"MgCO3\"],\"legendgroup\":\"MgCO3\",\"marker\":{\"color\":\"#EB663B\",\"symbol\":\"x\"},\"mode\":\"markers\",\"name\":\"MgCO3\",\"orientation\":\"v\",\"showlegend\":true,\"x\":[-10.66327385453301],\"xaxis\":\"x\",\"y\":[-10.546366056735108],\"yaxis\":\"y\",\"type\":\"scatter\"},{\"hovertemplate\":\"<b>%{hovertext}</b><br><br>name=MnCO3<br>x=%{x}<br>y=%{y}<extra></extra>\",\"hovertext\":[\"MnCO3\"],\"legendgroup\":\"MnCO3\",\"marker\":{\"color\":\"#511CFB\",\"symbol\":\"cross\"},\"mode\":\"markers\",\"name\":\"MnCO3\",\"orientation\":\"v\",\"showlegend\":true,\"x\":[-8.448687588375233],\"xaxis\":\"x\",\"y\":[-8.41888724966598],\"yaxis\":\"y\",\"type\":\"scatter\"},{\"hovertemplate\":\"<b>%{hovertext}</b><br><br>name=Na2CO3<br>x=%{x}<br>y=%{y}<extra></extra>\",\"hovertext\":[\"Na2CO3\"],\"legendgroup\":\"Na2CO3\",\"marker\":{\"color\":\"#00A08B\",\"symbol\":\"circle\"},\"mode\":\"markers\",\"name\":\"Na2CO3\",\"orientation\":\"v\",\"showlegend\":true,\"x\":[-10.856533778555411],\"xaxis\":\"x\",\"y\":[-10.646767240972132],\"yaxis\":\"y\",\"type\":\"scatter\"},{\"hovertemplate\":\"<b>%{hovertext}</b><br><br>name=PbCO3<br>x=%{x}<br>y=%{y}<extra></extra>\",\"hovertext\":[\"PbCO3\"],\"legendgroup\":\"PbCO3\",\"marker\":{\"color\":\"#FB00D1\",\"symbol\":\"diamond\"},\"mode\":\"markers\",\"name\":\"PbCO3\",\"orientation\":\"v\",\"showlegend\":true,\"x\":[-6.514563134816661],\"xaxis\":\"x\",\"y\":[-7.381839836580582],\"yaxis\":\"y\",\"type\":\"scatter\"},{\"hovertemplate\":\"<b>%{hovertext}</b><br><br>name=Rb2CO3<br>x=%{x}<br>y=%{y}<extra></extra>\",\"hovertext\":[\"Rb2CO3\"],\"legendgroup\":\"Rb2CO3\",\"marker\":{\"color\":\"#FC0080\",\"symbol\":\"square\"},\"mode\":\"markers\",\"name\":\"Rb2CO3\",\"orientation\":\"v\",\"showlegend\":true,\"x\":[-10.97233639890869],\"xaxis\":\"x\",\"y\":[-10.737961936758966],\"yaxis\":\"y\",\"type\":\"scatter\"},{\"hovertemplate\":\"<b>%{hovertext}</b><br><br>name=SrCO3<br>x=%{x}<br>y=%{y}<extra></extra>\",\"hovertext\":[\"SrCO3\"],\"legendgroup\":\"SrCO3\",\"marker\":{\"color\":\"#B2828D\",\"symbol\":\"x\"},\"mode\":\"markers\",\"name\":\"SrCO3\",\"orientation\":\"v\",\"showlegend\":true,\"x\":[-11.796336838082897],\"xaxis\":\"x\",\"y\":[-11.84441475078805],\"yaxis\":\"y\",\"type\":\"scatter\"},{\"hovertemplate\":\"<b>%{hovertext}</b><br><br>name=ZnCO3<br>x=%{x}<br>y=%{y}<extra></extra>\",\"hovertext\":[\"ZnCO3\"],\"legendgroup\":\"ZnCO3\",\"marker\":{\"color\":\"#6C7C32\",\"symbol\":\"cross\"},\"mode\":\"markers\",\"name\":\"ZnCO3\",\"orientation\":\"v\",\"showlegend\":true,\"x\":[-7.600479604861418],\"xaxis\":\"x\",\"y\":[-7.415379642718673],\"yaxis\":\"y\",\"type\":\"scatter\"},{\"hovertemplate\":\"x=%{x}<br>y=%{y}<extra></extra>\",\"legendgroup\":\"\",\"line\":{\"color\":\"#1F77B4\",\"dash\":\"solid\"},\"marker\":{\"symbol\":\"circle\"},\"mode\":\"lines\",\"name\":\"\",\"orientation\":\"v\",\"showlegend\":false,\"x\":[-12,-4],\"xaxis\":\"x\",\"y\":[-12,-4],\"yaxis\":\"y\",\"type\":\"scatter\"}],                        {\"template\":{\"data\":{\"histogram2dcontour\":[{\"type\":\"histogram2dcontour\",\"colorbar\":{\"outlinewidth\":1,\"tickcolor\":\"rgb(36,36,36)\",\"ticks\":\"outside\"},\"colorscale\":[[0.0,\"#440154\"],[0.1111111111111111,\"#482878\"],[0.2222222222222222,\"#3e4989\"],[0.3333333333333333,\"#31688e\"],[0.4444444444444444,\"#26828e\"],[0.5555555555555556,\"#1f9e89\"],[0.6666666666666666,\"#35b779\"],[0.7777777777777778,\"#6ece58\"],[0.8888888888888888,\"#b5de2b\"],[1.0,\"#fde725\"]]}],\"choropleth\":[{\"type\":\"choropleth\",\"colorbar\":{\"outlinewidth\":1,\"tickcolor\":\"rgb(36,36,36)\",\"ticks\":\"outside\"}}],\"histogram2d\":[{\"type\":\"histogram2d\",\"colorbar\":{\"outlinewidth\":1,\"tickcolor\":\"rgb(36,36,36)\",\"ticks\":\"outside\"},\"colorscale\":[[0.0,\"#440154\"],[0.1111111111111111,\"#482878\"],[0.2222222222222222,\"#3e4989\"],[0.3333333333333333,\"#31688e\"],[0.4444444444444444,\"#26828e\"],[0.5555555555555556,\"#1f9e89\"],[0.6666666666666666,\"#35b779\"],[0.7777777777777778,\"#6ece58\"],[0.8888888888888888,\"#b5de2b\"],[1.0,\"#fde725\"]]}],\"heatmap\":[{\"type\":\"heatmap\",\"colorbar\":{\"outlinewidth\":1,\"tickcolor\":\"rgb(36,36,36)\",\"ticks\":\"outside\"},\"colorscale\":[[0.0,\"#440154\"],[0.1111111111111111,\"#482878\"],[0.2222222222222222,\"#3e4989\"],[0.3333333333333333,\"#31688e\"],[0.4444444444444444,\"#26828e\"],[0.5555555555555556,\"#1f9e89\"],[0.6666666666666666,\"#35b779\"],[0.7777777777777778,\"#6ece58\"],[0.8888888888888888,\"#b5de2b\"],[1.0,\"#fde725\"]]}],\"heatmapgl\":[{\"type\":\"heatmapgl\",\"colorbar\":{\"outlinewidth\":1,\"tickcolor\":\"rgb(36,36,36)\",\"ticks\":\"outside\"},\"colorscale\":[[0.0,\"#440154\"],[0.1111111111111111,\"#482878\"],[0.2222222222222222,\"#3e4989\"],[0.3333333333333333,\"#31688e\"],[0.4444444444444444,\"#26828e\"],[0.5555555555555556,\"#1f9e89\"],[0.6666666666666666,\"#35b779\"],[0.7777777777777778,\"#6ece58\"],[0.8888888888888888,\"#b5de2b\"],[1.0,\"#fde725\"]]}],\"contourcarpet\":[{\"type\":\"contourcarpet\",\"colorbar\":{\"outlinewidth\":1,\"tickcolor\":\"rgb(36,36,36)\",\"ticks\":\"outside\"}}],\"contour\":[{\"type\":\"contour\",\"colorbar\":{\"outlinewidth\":1,\"tickcolor\":\"rgb(36,36,36)\",\"ticks\":\"outside\"},\"colorscale\":[[0.0,\"#440154\"],[0.1111111111111111,\"#482878\"],[0.2222222222222222,\"#3e4989\"],[0.3333333333333333,\"#31688e\"],[0.4444444444444444,\"#26828e\"],[0.5555555555555556,\"#1f9e89\"],[0.6666666666666666,\"#35b779\"],[0.7777777777777778,\"#6ece58\"],[0.8888888888888888,\"#b5de2b\"],[1.0,\"#fde725\"]]}],\"surface\":[{\"type\":\"surface\",\"colorbar\":{\"outlinewidth\":1,\"tickcolor\":\"rgb(36,36,36)\",\"ticks\":\"outside\"},\"colorscale\":[[0.0,\"#440154\"],[0.1111111111111111,\"#482878\"],[0.2222222222222222,\"#3e4989\"],[0.3333333333333333,\"#31688e\"],[0.4444444444444444,\"#26828e\"],[0.5555555555555556,\"#1f9e89\"],[0.6666666666666666,\"#35b779\"],[0.7777777777777778,\"#6ece58\"],[0.8888888888888888,\"#b5de2b\"],[1.0,\"#fde725\"]]}],\"mesh3d\":[{\"type\":\"mesh3d\",\"colorbar\":{\"outlinewidth\":1,\"tickcolor\":\"rgb(36,36,36)\",\"ticks\":\"outside\"}}],\"scatter\":[{\"fillpattern\":{\"fillmode\":\"overlay\",\"size\":10,\"solidity\":0.2},\"type\":\"scatter\"}],\"parcoords\":[{\"type\":\"parcoords\",\"line\":{\"colorbar\":{\"outlinewidth\":1,\"tickcolor\":\"rgb(36,36,36)\",\"ticks\":\"outside\"}}}],\"scatterpolargl\":[{\"type\":\"scatterpolargl\",\"marker\":{\"colorbar\":{\"outlinewidth\":1,\"tickcolor\":\"rgb(36,36,36)\",\"ticks\":\"outside\"}}}],\"bar\":[{\"error_x\":{\"color\":\"rgb(36,36,36)\"},\"error_y\":{\"color\":\"rgb(36,36,36)\"},\"marker\":{\"line\":{\"color\":\"white\",\"width\":0.5},\"pattern\":{\"fillmode\":\"overlay\",\"size\":10,\"solidity\":0.2}},\"type\":\"bar\"}],\"scattergeo\":[{\"type\":\"scattergeo\",\"marker\":{\"colorbar\":{\"outlinewidth\":1,\"tickcolor\":\"rgb(36,36,36)\",\"ticks\":\"outside\"}}}],\"scatterpolar\":[{\"type\":\"scatterpolar\",\"marker\":{\"colorbar\":{\"outlinewidth\":1,\"tickcolor\":\"rgb(36,36,36)\",\"ticks\":\"outside\"}}}],\"histogram\":[{\"marker\":{\"line\":{\"color\":\"white\",\"width\":0.6}},\"type\":\"histogram\"}],\"scattergl\":[{\"type\":\"scattergl\",\"marker\":{\"colorbar\":{\"outlinewidth\":1,\"tickcolor\":\"rgb(36,36,36)\",\"ticks\":\"outside\"}}}],\"scatter3d\":[{\"type\":\"scatter3d\",\"line\":{\"colorbar\":{\"outlinewidth\":1,\"tickcolor\":\"rgb(36,36,36)\",\"ticks\":\"outside\"}},\"marker\":{\"colorbar\":{\"outlinewidth\":1,\"tickcolor\":\"rgb(36,36,36)\",\"ticks\":\"outside\"}}}],\"scattermapbox\":[{\"type\":\"scattermapbox\",\"marker\":{\"colorbar\":{\"outlinewidth\":1,\"tickcolor\":\"rgb(36,36,36)\",\"ticks\":\"outside\"}}}],\"scatterternary\":[{\"type\":\"scatterternary\",\"marker\":{\"colorbar\":{\"outlinewidth\":1,\"tickcolor\":\"rgb(36,36,36)\",\"ticks\":\"outside\"}}}],\"scattercarpet\":[{\"type\":\"scattercarpet\",\"marker\":{\"colorbar\":{\"outlinewidth\":1,\"tickcolor\":\"rgb(36,36,36)\",\"ticks\":\"outside\"}}}],\"carpet\":[{\"aaxis\":{\"endlinecolor\":\"rgb(36,36,36)\",\"gridcolor\":\"white\",\"linecolor\":\"white\",\"minorgridcolor\":\"white\",\"startlinecolor\":\"rgb(36,36,36)\"},\"baxis\":{\"endlinecolor\":\"rgb(36,36,36)\",\"gridcolor\":\"white\",\"linecolor\":\"white\",\"minorgridcolor\":\"white\",\"startlinecolor\":\"rgb(36,36,36)\"},\"type\":\"carpet\"}],\"table\":[{\"cells\":{\"fill\":{\"color\":\"rgb(237,237,237)\"},\"line\":{\"color\":\"white\"}},\"header\":{\"fill\":{\"color\":\"rgb(217,217,217)\"},\"line\":{\"color\":\"white\"}},\"type\":\"table\"}],\"barpolar\":[{\"marker\":{\"line\":{\"color\":\"white\",\"width\":0.5},\"pattern\":{\"fillmode\":\"overlay\",\"size\":10,\"solidity\":0.2}},\"type\":\"barpolar\"}],\"pie\":[{\"automargin\":true,\"type\":\"pie\"}]},\"layout\":{\"autotypenumbers\":\"strict\",\"colorway\":[\"#1F77B4\",\"#FF7F0E\",\"#2CA02C\",\"#D62728\",\"#9467BD\",\"#8C564B\",\"#E377C2\",\"#7F7F7F\",\"#BCBD22\",\"#17BECF\"],\"font\":{\"color\":\"rgb(36,36,36)\"},\"hovermode\":\"closest\",\"hoverlabel\":{\"align\":\"left\"},\"paper_bgcolor\":\"white\",\"plot_bgcolor\":\"white\",\"polar\":{\"bgcolor\":\"white\",\"angularaxis\":{\"gridcolor\":\"rgb(232,232,232)\",\"linecolor\":\"rgb(36,36,36)\",\"showgrid\":false,\"showline\":true,\"ticks\":\"outside\"},\"radialaxis\":{\"gridcolor\":\"rgb(232,232,232)\",\"linecolor\":\"rgb(36,36,36)\",\"showgrid\":false,\"showline\":true,\"ticks\":\"outside\"}},\"ternary\":{\"bgcolor\":\"white\",\"aaxis\":{\"gridcolor\":\"rgb(232,232,232)\",\"linecolor\":\"rgb(36,36,36)\",\"showgrid\":false,\"showline\":true,\"ticks\":\"outside\"},\"baxis\":{\"gridcolor\":\"rgb(232,232,232)\",\"linecolor\":\"rgb(36,36,36)\",\"showgrid\":false,\"showline\":true,\"ticks\":\"outside\"},\"caxis\":{\"gridcolor\":\"rgb(232,232,232)\",\"linecolor\":\"rgb(36,36,36)\",\"showgrid\":false,\"showline\":true,\"ticks\":\"outside\"}},\"coloraxis\":{\"colorbar\":{\"outlinewidth\":1,\"tickcolor\":\"rgb(36,36,36)\",\"ticks\":\"outside\"}},\"colorscale\":{\"sequential\":[[0.0,\"#440154\"],[0.1111111111111111,\"#482878\"],[0.2222222222222222,\"#3e4989\"],[0.3333333333333333,\"#31688e\"],[0.4444444444444444,\"#26828e\"],[0.5555555555555556,\"#1f9e89\"],[0.6666666666666666,\"#35b779\"],[0.7777777777777778,\"#6ece58\"],[0.8888888888888888,\"#b5de2b\"],[1.0,\"#fde725\"]],\"sequentialminus\":[[0.0,\"#440154\"],[0.1111111111111111,\"#482878\"],[0.2222222222222222,\"#3e4989\"],[0.3333333333333333,\"#31688e\"],[0.4444444444444444,\"#26828e\"],[0.5555555555555556,\"#1f9e89\"],[0.6666666666666666,\"#35b779\"],[0.7777777777777778,\"#6ece58\"],[0.8888888888888888,\"#b5de2b\"],[1.0,\"#fde725\"]],\"diverging\":[[0.0,\"rgb(103,0,31)\"],[0.1,\"rgb(178,24,43)\"],[0.2,\"rgb(214,96,77)\"],[0.3,\"rgb(244,165,130)\"],[0.4,\"rgb(253,219,199)\"],[0.5,\"rgb(247,247,247)\"],[0.6,\"rgb(209,229,240)\"],[0.7,\"rgb(146,197,222)\"],[0.8,\"rgb(67,147,195)\"],[0.9,\"rgb(33,102,172)\"],[1.0,\"rgb(5,48,97)\"]]},\"xaxis\":{\"gridcolor\":\"rgb(232,232,232)\",\"linecolor\":\"rgb(36,36,36)\",\"showgrid\":false,\"showline\":true,\"ticks\":\"outside\",\"title\":{\"standoff\":15},\"zerolinecolor\":\"rgb(36,36,36)\",\"automargin\":true,\"zeroline\":false},\"yaxis\":{\"gridcolor\":\"rgb(232,232,232)\",\"linecolor\":\"rgb(36,36,36)\",\"showgrid\":false,\"showline\":true,\"ticks\":\"outside\",\"title\":{\"standoff\":15},\"zerolinecolor\":\"rgb(36,36,36)\",\"automargin\":true,\"zeroline\":false},\"scene\":{\"xaxis\":{\"backgroundcolor\":\"white\",\"gridcolor\":\"rgb(232,232,232)\",\"linecolor\":\"rgb(36,36,36)\",\"showbackground\":true,\"showgrid\":false,\"showline\":true,\"ticks\":\"outside\",\"zerolinecolor\":\"rgb(36,36,36)\",\"gridwidth\":2,\"zeroline\":false},\"yaxis\":{\"backgroundcolor\":\"white\",\"gridcolor\":\"rgb(232,232,232)\",\"linecolor\":\"rgb(36,36,36)\",\"showbackground\":true,\"showgrid\":false,\"showline\":true,\"ticks\":\"outside\",\"zerolinecolor\":\"rgb(36,36,36)\",\"gridwidth\":2,\"zeroline\":false},\"zaxis\":{\"backgroundcolor\":\"white\",\"gridcolor\":\"rgb(232,232,232)\",\"linecolor\":\"rgb(36,36,36)\",\"showbackground\":true,\"showgrid\":false,\"showline\":true,\"ticks\":\"outside\",\"zerolinecolor\":\"rgb(36,36,36)\",\"gridwidth\":2,\"zeroline\":false}},\"shapedefaults\":{\"fillcolor\":\"black\",\"line\":{\"width\":0},\"opacity\":0.3},\"annotationdefaults\":{\"arrowhead\":0,\"arrowwidth\":1},\"geo\":{\"bgcolor\":\"white\",\"landcolor\":\"white\",\"subunitcolor\":\"white\",\"showland\":true,\"showlakes\":true,\"lakecolor\":\"white\"},\"title\":{\"x\":0.05},\"mapbox\":{\"style\":\"light\"}}},\"title\":{\"text\":\"Corrected carbonate formation energies\"},\"xaxis\":{\"title\":{\"text\":\"Experimental dGf (eV/f.u.)\"}},\"yaxis\":{\"title\":{\"text\":\"Calculated dGf (eV/f.u.)\"}}},                        {\"responsive\": true}                    ).then(function(){\n",
       "                            \n",
       "var gd = document.getElementById('f5b0a72a-ac04-49d9-95eb-a0465fec4102');\n",
       "var x = new MutationObserver(function (mutations, observer) {{\n",
       "        var display = window.getComputedStyle(gd).display;\n",
       "        if (!display || display === 'none') {{\n",
       "            console.log([gd, 'removed!']);\n",
       "            Plotly.purge(gd);\n",
       "            observer.disconnect();\n",
       "        }}\n",
       "}});\n",
       "\n",
       "// Listen for the removal of the full notebook cells\n",
       "var notebookContainer = gd.closest('#notebook-container');\n",
       "if (notebookContainer) {{\n",
       "    x.observe(notebookContainer, {childList: true});\n",
       "}}\n",
       "\n",
       "// Listen for the clearing of the current output cell\n",
       "var outputEl = gd.closest('.output');\n",
       "if (outputEl) {{\n",
       "    x.observe(outputEl, {childList: true});\n",
       "}}\n",
       "\n",
       "                        })                };                });            </script>        </div>"
      ]
     },
     "metadata": {},
     "output_type": "display_data"
    }
   ],
   "source": [
    "df_new = df.copy()\n",
    "df_new[\"y\"] = df_new[\"y\"] + final_correction\n",
    "\n",
    "scatter_new = px.scatter(df_new, x=\"x\", y=\"y\", hover_name=\"name\",\n",
    "                         color_discrete_sequence=[px.colors.qualitative.Dark24[i] for i in range(len(df_new))],\n",
    "                         symbol=\"name\", color=\"name\")\n",
    "line_new = px.line(x=[-12, -4], y=[-12, -4])\n",
    "\n",
    "fig_new = go.Figure(scatter_new.data + line_new.data)\n",
    "fig_new.update_layout({\"title\": \"Corrected carbonate formation energies\",\n",
    "                   \"xaxis_title\":\"Experimental dGf (eV/f.u.)\",\n",
    "                   \"yaxis_title\":\"Calculated dGf (eV/f.u.)\"})\n",
    "fig_new.show()"
   ]
  },
  {
   "cell_type": "markdown",
   "id": "35b2b820",
   "metadata": {},
   "source": [
    "## Final correction value (eV per CO$_3^{2-}$):"
   ]
  },
  {
   "cell_type": "code",
   "execution_count": 112,
   "id": "4f2a442a",
   "metadata": {},
   "outputs": [
    {
     "name": "stdout",
     "output_type": "stream",
     "text": [
      "0.8301272393864071\n"
     ]
    }
   ],
   "source": [
    "print(final_correction)"
   ]
  },
  {
   "cell_type": "markdown",
   "id": "3f6ea025",
   "metadata": {},
   "source": [
    "## Figure"
   ]
  },
  {
   "cell_type": "code",
   "execution_count": 119,
   "id": "4a9dd3b5",
   "metadata": {},
   "outputs": [
    {
     "data": {
      "application/vnd.plotly.v1+json": {
       "config": {
        "plotlyServerURL": "https://plot.ly"
       },
       "data": [
        {
         "hovertemplate": "<b>%{hovertext}</b><br><br>name=Ag2CO3<br>x=%{x}<br>y=%{y}<extra></extra>",
         "hovertext": [
          "Ag2CO3"
         ],
         "legendgroup": "Ag2CO3",
         "marker": {
          "color": "#2E91E5",
          "size": 12,
          "symbol": "circle"
         },
         "mode": "markers",
         "name": "Ag2CO3",
         "orientation": "v",
         "showlegend": true,
         "type": "scatter",
         "x": [
          -4.523490740122578
         ],
         "xaxis": "x",
         "y": [
          -5.7163614266653315
         ],
         "yaxis": "y"
        },
        {
         "hovertemplate": "<b>%{hovertext}</b><br><br>name=BaCO3<br>x=%{x}<br>y=%{y}<extra></extra>",
         "hovertext": [
          "BaCO3"
         ],
         "legendgroup": "BaCO3",
         "marker": {
          "color": "#E15F99",
          "size": 12,
          "symbol": "diamond"
         },
         "mode": "markers",
         "name": "BaCO3",
         "orientation": "v",
         "showlegend": true,
         "type": "scatter",
         "x": [
          -11.729310728660677
         ],
         "xaxis": "x",
         "y": [
          -12.620423169828532
         ],
         "yaxis": "y"
        },
        {
         "hovertemplate": "<b>%{hovertext}</b><br><br>name=CaCO3<br>x=%{x}<br>y=%{y}<extra></extra>",
         "hovertext": [
          "CaCO3"
         ],
         "legendgroup": "CaCO3",
         "marker": {
          "color": "#1CA71C",
          "size": 12,
          "symbol": "square"
         },
         "mode": "markers",
         "name": "CaCO3",
         "orientation": "v",
         "showlegend": true,
         "type": "scatter",
         "x": [
          -11.697022798117317
         ],
         "xaxis": "x",
         "y": [
          -12.631742424581612
         ],
         "yaxis": "y"
        },
        {
         "hovertemplate": "<b>%{hovertext}</b><br><br>name=CdCO3<br>x=%{x}<br>y=%{y}<extra></extra>",
         "hovertext": [
          "CdCO3"
         ],
         "legendgroup": "CdCO3",
         "marker": {
          "color": "#FB0D0D",
          "size": 12,
          "symbol": "x"
         },
         "mode": "markers",
         "name": "CdCO3",
         "orientation": "v",
         "showlegend": true,
         "type": "scatter",
         "x": [
          -7.018997735710281
         ],
         "xaxis": "x",
         "y": [
          -7.97432393640236
         ],
         "yaxis": "y"
        },
        {
         "hovertemplate": "<b>%{hovertext}</b><br><br>name=Cs2CO3<br>x=%{x}<br>y=%{y}<extra></extra>",
         "hovertext": [
          "Cs2CO3"
         ],
         "legendgroup": "Cs2CO3",
         "marker": {
          "color": "#DA16FF",
          "size": 12,
          "symbol": "cross"
         },
         "mode": "markers",
         "name": "Cs2CO3",
         "orientation": "v",
         "showlegend": true,
         "type": "scatter",
         "x": [
          -10.89413162728376
         ],
         "xaxis": "x",
         "y": [
          -11.469223791915756
         ],
         "yaxis": "y"
        },
        {
         "hovertemplate": "<b>%{hovertext}</b><br><br>name=FeCO3<br>x=%{x}<br>y=%{y}<extra></extra>",
         "hovertext": [
          "FeCO3"
         ],
         "legendgroup": "FeCO3",
         "marker": {
          "color": "#222A2A",
          "size": 12,
          "symbol": "circle"
         },
         "mode": "markers",
         "name": "FeCO3",
         "orientation": "v",
         "showlegend": true,
         "type": "scatter",
         "x": [
          -6.929197226894303
         ],
         "xaxis": "x",
         "y": [
          -8.132893413595967
         ],
         "yaxis": "y"
        },
        {
         "hovertemplate": "<b>%{hovertext}</b><br><br>name=K2CO3<br>x=%{x}<br>y=%{y}<extra></extra>",
         "hovertext": [
          "K2CO3"
         ],
         "legendgroup": "K2CO3",
         "marker": {
          "color": "#B68100",
          "size": 12,
          "symbol": "diamond"
         },
         "mode": "markers",
         "name": "K2CO3",
         "orientation": "v",
         "showlegend": true,
         "type": "scatter",
         "x": [
          -11.028037676944544
         ],
         "xaxis": "x",
         "y": [
          -11.774465217826826
         ],
         "yaxis": "y"
        },
        {
         "hovertemplate": "<b>%{hovertext}</b><br><br>name=Li2CO3<br>x=%{x}<br>y=%{y}<extra></extra>",
         "hovertext": [
          "Li2CO3"
         ],
         "legendgroup": "Li2CO3",
         "marker": {
          "color": "#750D86",
          "size": 12,
          "symbol": "square"
         },
         "mode": "markers",
         "name": "Li2CO3",
         "orientation": "v",
         "showlegend": true,
         "type": "scatter",
         "x": [
          -11.728638626956926
         ],
         "xaxis": "x",
         "y": [
          -12.558765873746752
         ],
         "yaxis": "y"
        },
        {
         "hovertemplate": "<b>%{hovertext}</b><br><br>name=MgCO3<br>x=%{x}<br>y=%{y}<extra></extra>",
         "hovertext": [
          "MgCO3"
         ],
         "legendgroup": "MgCO3",
         "marker": {
          "color": "#EB663B",
          "size": 12,
          "symbol": "x"
         },
         "mode": "markers",
         "name": "MgCO3",
         "orientation": "v",
         "showlegend": true,
         "type": "scatter",
         "x": [
          -10.66327385453301
         ],
         "xaxis": "x",
         "y": [
          -11.376493296121517
         ],
         "yaxis": "y"
        },
        {
         "hovertemplate": "<b>%{hovertext}</b><br><br>name=MnCO3<br>x=%{x}<br>y=%{y}<extra></extra>",
         "hovertext": [
          "MnCO3"
         ],
         "legendgroup": "MnCO3",
         "marker": {
          "color": "#511CFB",
          "size": 12,
          "symbol": "cross"
         },
         "mode": "markers",
         "name": "MnCO3",
         "orientation": "v",
         "showlegend": true,
         "type": "scatter",
         "x": [
          -8.448687588375233
         ],
         "xaxis": "x",
         "y": [
          -9.249014489052389
         ],
         "yaxis": "y"
        },
        {
         "hovertemplate": "<b>%{hovertext}</b><br><br>name=Na2CO3<br>x=%{x}<br>y=%{y}<extra></extra>",
         "hovertext": [
          "Na2CO3"
         ],
         "legendgroup": "Na2CO3",
         "marker": {
          "color": "#00A08B",
          "size": 12,
          "symbol": "circle"
         },
         "mode": "markers",
         "name": "Na2CO3",
         "orientation": "v",
         "showlegend": true,
         "type": "scatter",
         "x": [
          -10.856533778555413
         ],
         "xaxis": "x",
         "y": [
          -11.476894480358538
         ],
         "yaxis": "y"
        },
        {
         "hovertemplate": "<b>%{hovertext}</b><br><br>name=PbCO3<br>x=%{x}<br>y=%{y}<extra></extra>",
         "hovertext": [
          "PbCO3"
         ],
         "legendgroup": "PbCO3",
         "marker": {
          "color": "#FB00D1",
          "size": 12,
          "symbol": "diamond"
         },
         "mode": "markers",
         "name": "PbCO3",
         "orientation": "v",
         "showlegend": true,
         "type": "scatter",
         "x": [
          -6.514563134816661
         ],
         "xaxis": "x",
         "y": [
          -8.211967075966989
         ],
         "yaxis": "y"
        },
        {
         "hovertemplate": "<b>%{hovertext}</b><br><br>name=Rb2CO3<br>x=%{x}<br>y=%{y}<extra></extra>",
         "hovertext": [
          "Rb2CO3"
         ],
         "legendgroup": "Rb2CO3",
         "marker": {
          "color": "#FC0080",
          "size": 12,
          "symbol": "square"
         },
         "mode": "markers",
         "name": "Rb2CO3",
         "orientation": "v",
         "showlegend": true,
         "type": "scatter",
         "x": [
          -10.97233639890869
         ],
         "xaxis": "x",
         "y": [
          -11.568089176145373
         ],
         "yaxis": "y"
        },
        {
         "hovertemplate": "<b>%{hovertext}</b><br><br>name=SrCO3<br>x=%{x}<br>y=%{y}<extra></extra>",
         "hovertext": [
          "SrCO3"
         ],
         "legendgroup": "SrCO3",
         "marker": {
          "color": "#B2828D",
          "size": 12,
          "symbol": "x"
         },
         "mode": "markers",
         "name": "SrCO3",
         "orientation": "v",
         "showlegend": true,
         "type": "scatter",
         "x": [
          -11.796336838082896
         ],
         "xaxis": "x",
         "y": [
          -12.674541990174458
         ],
         "yaxis": "y"
        },
        {
         "hovertemplate": "<b>%{hovertext}</b><br><br>name=ZnCO3<br>x=%{x}<br>y=%{y}<extra></extra>",
         "hovertext": [
          "ZnCO3"
         ],
         "legendgroup": "ZnCO3",
         "marker": {
          "color": "#6C7C32",
          "size": 12,
          "symbol": "cross"
         },
         "mode": "markers",
         "name": "ZnCO3",
         "orientation": "v",
         "showlegend": true,
         "type": "scatter",
         "x": [
          -7.600479604861418
         ],
         "xaxis": "x",
         "y": [
          -8.24550688210508
         ],
         "yaxis": "y"
        },
        {
         "hovertemplate": "x=%{x}<br>y=%{y}<extra></extra>",
         "legendgroup": "",
         "line": {
          "color": "#1F77B4",
          "dash": "solid"
         },
         "marker": {
          "size": 12,
          "symbol": "circle"
         },
         "mode": "lines",
         "name": "",
         "orientation": "v",
         "showlegend": false,
         "type": "scatter",
         "x": [
          -12,
          -4
         ],
         "xaxis": "x",
         "y": [
          -12,
          -4
         ],
         "yaxis": "y"
        },
        {
         "hovertemplate": "<b>%{hovertext}</b><br><br>name=Ag2CO3<br>x=%{x}<br>y=%{y}<extra></extra>",
         "hovertext": [
          "Ag2CO3"
         ],
         "legendgroup": "Ag2CO3",
         "marker": {
          "color": "#2E91E5",
          "size": 12,
          "symbol": "circle"
         },
         "mode": "markers",
         "name": "Ag2CO3",
         "orientation": "v",
         "showlegend": false,
         "type": "scatter",
         "x": [
          -4.523490740122578
         ],
         "xaxis": "x2",
         "y": [
          -4.886234187278925
         ],
         "yaxis": "y2"
        },
        {
         "hovertemplate": "<b>%{hovertext}</b><br><br>name=BaCO3<br>x=%{x}<br>y=%{y}<extra></extra>",
         "hovertext": [
          "BaCO3"
         ],
         "legendgroup": "BaCO3",
         "marker": {
          "color": "#E15F99",
          "size": 12,
          "symbol": "diamond"
         },
         "mode": "markers",
         "name": "BaCO3",
         "orientation": "v",
         "showlegend": false,
         "type": "scatter",
         "x": [
          -11.729310728660677
         ],
         "xaxis": "x2",
         "y": [
          -11.790295930442126
         ],
         "yaxis": "y2"
        },
        {
         "hovertemplate": "<b>%{hovertext}</b><br><br>name=CaCO3<br>x=%{x}<br>y=%{y}<extra></extra>",
         "hovertext": [
          "CaCO3"
         ],
         "legendgroup": "CaCO3",
         "marker": {
          "color": "#1CA71C",
          "size": 12,
          "symbol": "square"
         },
         "mode": "markers",
         "name": "CaCO3",
         "orientation": "v",
         "showlegend": false,
         "type": "scatter",
         "x": [
          -11.697022798117317
         ],
         "xaxis": "x2",
         "y": [
          -11.801615185195203
         ],
         "yaxis": "y2"
        },
        {
         "hovertemplate": "<b>%{hovertext}</b><br><br>name=CdCO3<br>x=%{x}<br>y=%{y}<extra></extra>",
         "hovertext": [
          "CdCO3"
         ],
         "legendgroup": "CdCO3",
         "marker": {
          "color": "#FB0D0D",
          "size": 12,
          "symbol": "x"
         },
         "mode": "markers",
         "name": "CdCO3",
         "orientation": "v",
         "showlegend": false,
         "type": "scatter",
         "x": [
          -7.018997735710281
         ],
         "xaxis": "x2",
         "y": [
          -7.144196697015953
         ],
         "yaxis": "y2"
        },
        {
         "hovertemplate": "<b>%{hovertext}</b><br><br>name=Cs2CO3<br>x=%{x}<br>y=%{y}<extra></extra>",
         "hovertext": [
          "Cs2CO3"
         ],
         "legendgroup": "Cs2CO3",
         "marker": {
          "color": "#DA16FF",
          "size": 12,
          "symbol": "cross"
         },
         "mode": "markers",
         "name": "Cs2CO3",
         "orientation": "v",
         "showlegend": false,
         "type": "scatter",
         "x": [
          -10.89413162728376
         ],
         "xaxis": "x2",
         "y": [
          -10.639096552529349
         ],
         "yaxis": "y2"
        },
        {
         "hovertemplate": "<b>%{hovertext}</b><br><br>name=FeCO3<br>x=%{x}<br>y=%{y}<extra></extra>",
         "hovertext": [
          "FeCO3"
         ],
         "legendgroup": "FeCO3",
         "marker": {
          "color": "#222A2A",
          "size": 12,
          "symbol": "circle"
         },
         "mode": "markers",
         "name": "FeCO3",
         "orientation": "v",
         "showlegend": false,
         "type": "scatter",
         "x": [
          -6.929197226894303
         ],
         "xaxis": "x2",
         "y": [
          -7.302766174209561
         ],
         "yaxis": "y2"
        },
        {
         "hovertemplate": "<b>%{hovertext}</b><br><br>name=K2CO3<br>x=%{x}<br>y=%{y}<extra></extra>",
         "hovertext": [
          "K2CO3"
         ],
         "legendgroup": "K2CO3",
         "marker": {
          "color": "#B68100",
          "size": 12,
          "symbol": "diamond"
         },
         "mode": "markers",
         "name": "K2CO3",
         "orientation": "v",
         "showlegend": false,
         "type": "scatter",
         "x": [
          -11.028037676944544
         ],
         "xaxis": "x2",
         "y": [
          -10.94433797844042
         ],
         "yaxis": "y2"
        },
        {
         "hovertemplate": "<b>%{hovertext}</b><br><br>name=Li2CO3<br>x=%{x}<br>y=%{y}<extra></extra>",
         "hovertext": [
          "Li2CO3"
         ],
         "legendgroup": "Li2CO3",
         "marker": {
          "color": "#750D86",
          "size": 12,
          "symbol": "square"
         },
         "mode": "markers",
         "name": "Li2CO3",
         "orientation": "v",
         "showlegend": false,
         "type": "scatter",
         "x": [
          -11.728638626956926
         ],
         "xaxis": "x2",
         "y": [
          -11.728638634360346
         ],
         "yaxis": "y2"
        },
        {
         "hovertemplate": "<b>%{hovertext}</b><br><br>name=MgCO3<br>x=%{x}<br>y=%{y}<extra></extra>",
         "hovertext": [
          "MgCO3"
         ],
         "legendgroup": "MgCO3",
         "marker": {
          "color": "#EB663B",
          "size": 12,
          "symbol": "x"
         },
         "mode": "markers",
         "name": "MgCO3",
         "orientation": "v",
         "showlegend": false,
         "type": "scatter",
         "x": [
          -10.66327385453301
         ],
         "xaxis": "x2",
         "y": [
          -10.546366056735108
         ],
         "yaxis": "y2"
        },
        {
         "hovertemplate": "<b>%{hovertext}</b><br><br>name=MnCO3<br>x=%{x}<br>y=%{y}<extra></extra>",
         "hovertext": [
          "MnCO3"
         ],
         "legendgroup": "MnCO3",
         "marker": {
          "color": "#511CFB",
          "size": 12,
          "symbol": "cross"
         },
         "mode": "markers",
         "name": "MnCO3",
         "orientation": "v",
         "showlegend": false,
         "type": "scatter",
         "x": [
          -8.448687588375233
         ],
         "xaxis": "x2",
         "y": [
          -8.41888724966598
         ],
         "yaxis": "y2"
        },
        {
         "hovertemplate": "<b>%{hovertext}</b><br><br>name=Na2CO3<br>x=%{x}<br>y=%{y}<extra></extra>",
         "hovertext": [
          "Na2CO3"
         ],
         "legendgroup": "Na2CO3",
         "marker": {
          "color": "#00A08B",
          "size": 12,
          "symbol": "circle"
         },
         "mode": "markers",
         "name": "Na2CO3",
         "orientation": "v",
         "showlegend": false,
         "type": "scatter",
         "x": [
          -10.856533778555413
         ],
         "xaxis": "x2",
         "y": [
          -10.646767240972132
         ],
         "yaxis": "y2"
        },
        {
         "hovertemplate": "<b>%{hovertext}</b><br><br>name=PbCO3<br>x=%{x}<br>y=%{y}<extra></extra>",
         "hovertext": [
          "PbCO3"
         ],
         "legendgroup": "PbCO3",
         "marker": {
          "color": "#FB00D1",
          "size": 12,
          "symbol": "diamond"
         },
         "mode": "markers",
         "name": "PbCO3",
         "orientation": "v",
         "showlegend": false,
         "type": "scatter",
         "x": [
          -6.514563134816661
         ],
         "xaxis": "x2",
         "y": [
          -7.381839836580582
         ],
         "yaxis": "y2"
        },
        {
         "hovertemplate": "<b>%{hovertext}</b><br><br>name=Rb2CO3<br>x=%{x}<br>y=%{y}<extra></extra>",
         "hovertext": [
          "Rb2CO3"
         ],
         "legendgroup": "Rb2CO3",
         "marker": {
          "color": "#FC0080",
          "size": 12,
          "symbol": "square"
         },
         "mode": "markers",
         "name": "Rb2CO3",
         "orientation": "v",
         "showlegend": false,
         "type": "scatter",
         "x": [
          -10.97233639890869
         ],
         "xaxis": "x2",
         "y": [
          -10.737961936758966
         ],
         "yaxis": "y2"
        },
        {
         "hovertemplate": "<b>%{hovertext}</b><br><br>name=SrCO3<br>x=%{x}<br>y=%{y}<extra></extra>",
         "hovertext": [
          "SrCO3"
         ],
         "legendgroup": "SrCO3",
         "marker": {
          "color": "#B2828D",
          "size": 12,
          "symbol": "x"
         },
         "mode": "markers",
         "name": "SrCO3",
         "orientation": "v",
         "showlegend": false,
         "type": "scatter",
         "x": [
          -11.796336838082896
         ],
         "xaxis": "x2",
         "y": [
          -11.84441475078805
         ],
         "yaxis": "y2"
        },
        {
         "hovertemplate": "<b>%{hovertext}</b><br><br>name=ZnCO3<br>x=%{x}<br>y=%{y}<extra></extra>",
         "hovertext": [
          "ZnCO3"
         ],
         "legendgroup": "ZnCO3",
         "marker": {
          "color": "#6C7C32",
          "size": 12,
          "symbol": "cross"
         },
         "mode": "markers",
         "name": "ZnCO3",
         "orientation": "v",
         "showlegend": false,
         "type": "scatter",
         "x": [
          -7.600479604861418
         ],
         "xaxis": "x2",
         "y": [
          -7.415379642718673
         ],
         "yaxis": "y2"
        },
        {
         "hovertemplate": "x=%{x}<br>y=%{y}<extra></extra>",
         "legendgroup": "",
         "line": {
          "color": "#1F77B4",
          "dash": "solid"
         },
         "marker": {
          "size": 12,
          "symbol": "circle"
         },
         "mode": "lines",
         "name": "",
         "orientation": "v",
         "showlegend": false,
         "type": "scatter",
         "x": [
          -12,
          -4
         ],
         "xaxis": "x2",
         "y": [
          -12,
          -4
         ],
         "yaxis": "y2"
        }
       ],
       "layout": {
        "annotations": [
         {
          "font": {
           "family": "Helvetica",
           "size": 28
          },
          "showarrow": false,
          "text": "<b>a</b>",
          "x": -0.15,
          "xref": "paper",
          "y": 1.02,
          "yref": "paper"
         },
         {
          "font": {
           "family": "Helvetica",
           "size": 28
          },
          "showarrow": false,
          "text": "<b>b</b>",
          "x": -0.15,
          "xref": "paper",
          "y": 0.44,
          "yref": "paper"
         }
        ],
        "height": 800,
        "margin": {
         "t": 20
        },
        "template": {
         "data": {
          "bar": [
           {
            "error_x": {
             "color": "rgb(36,36,36)"
            },
            "error_y": {
             "color": "rgb(36,36,36)"
            },
            "marker": {
             "line": {
              "color": "white",
              "width": 0.5
             },
             "pattern": {
              "fillmode": "overlay",
              "size": 10,
              "solidity": 0.2
             }
            },
            "type": "bar"
           }
          ],
          "barpolar": [
           {
            "marker": {
             "line": {
              "color": "white",
              "width": 0.5
             },
             "pattern": {
              "fillmode": "overlay",
              "size": 10,
              "solidity": 0.2
             }
            },
            "type": "barpolar"
           }
          ],
          "carpet": [
           {
            "aaxis": {
             "endlinecolor": "rgb(36,36,36)",
             "gridcolor": "white",
             "linecolor": "white",
             "minorgridcolor": "white",
             "startlinecolor": "rgb(36,36,36)"
            },
            "baxis": {
             "endlinecolor": "rgb(36,36,36)",
             "gridcolor": "white",
             "linecolor": "white",
             "minorgridcolor": "white",
             "startlinecolor": "rgb(36,36,36)"
            },
            "type": "carpet"
           }
          ],
          "choropleth": [
           {
            "colorbar": {
             "outlinewidth": 1,
             "tickcolor": "rgb(36,36,36)",
             "ticks": "outside"
            },
            "type": "choropleth"
           }
          ],
          "contour": [
           {
            "colorbar": {
             "outlinewidth": 1,
             "tickcolor": "rgb(36,36,36)",
             "ticks": "outside"
            },
            "colorscale": [
             [
              0,
              "#440154"
             ],
             [
              0.1111111111111111,
              "#482878"
             ],
             [
              0.2222222222222222,
              "#3e4989"
             ],
             [
              0.3333333333333333,
              "#31688e"
             ],
             [
              0.4444444444444444,
              "#26828e"
             ],
             [
              0.5555555555555556,
              "#1f9e89"
             ],
             [
              0.6666666666666666,
              "#35b779"
             ],
             [
              0.7777777777777778,
              "#6ece58"
             ],
             [
              0.8888888888888888,
              "#b5de2b"
             ],
             [
              1,
              "#fde725"
             ]
            ],
            "type": "contour"
           }
          ],
          "contourcarpet": [
           {
            "colorbar": {
             "outlinewidth": 1,
             "tickcolor": "rgb(36,36,36)",
             "ticks": "outside"
            },
            "type": "contourcarpet"
           }
          ],
          "heatmap": [
           {
            "colorbar": {
             "outlinewidth": 1,
             "tickcolor": "rgb(36,36,36)",
             "ticks": "outside"
            },
            "colorscale": [
             [
              0,
              "#440154"
             ],
             [
              0.1111111111111111,
              "#482878"
             ],
             [
              0.2222222222222222,
              "#3e4989"
             ],
             [
              0.3333333333333333,
              "#31688e"
             ],
             [
              0.4444444444444444,
              "#26828e"
             ],
             [
              0.5555555555555556,
              "#1f9e89"
             ],
             [
              0.6666666666666666,
              "#35b779"
             ],
             [
              0.7777777777777778,
              "#6ece58"
             ],
             [
              0.8888888888888888,
              "#b5de2b"
             ],
             [
              1,
              "#fde725"
             ]
            ],
            "type": "heatmap"
           }
          ],
          "heatmapgl": [
           {
            "colorbar": {
             "outlinewidth": 1,
             "tickcolor": "rgb(36,36,36)",
             "ticks": "outside"
            },
            "colorscale": [
             [
              0,
              "#440154"
             ],
             [
              0.1111111111111111,
              "#482878"
             ],
             [
              0.2222222222222222,
              "#3e4989"
             ],
             [
              0.3333333333333333,
              "#31688e"
             ],
             [
              0.4444444444444444,
              "#26828e"
             ],
             [
              0.5555555555555556,
              "#1f9e89"
             ],
             [
              0.6666666666666666,
              "#35b779"
             ],
             [
              0.7777777777777778,
              "#6ece58"
             ],
             [
              0.8888888888888888,
              "#b5de2b"
             ],
             [
              1,
              "#fde725"
             ]
            ],
            "type": "heatmapgl"
           }
          ],
          "histogram": [
           {
            "marker": {
             "line": {
              "color": "white",
              "width": 0.6
             }
            },
            "type": "histogram"
           }
          ],
          "histogram2d": [
           {
            "colorbar": {
             "outlinewidth": 1,
             "tickcolor": "rgb(36,36,36)",
             "ticks": "outside"
            },
            "colorscale": [
             [
              0,
              "#440154"
             ],
             [
              0.1111111111111111,
              "#482878"
             ],
             [
              0.2222222222222222,
              "#3e4989"
             ],
             [
              0.3333333333333333,
              "#31688e"
             ],
             [
              0.4444444444444444,
              "#26828e"
             ],
             [
              0.5555555555555556,
              "#1f9e89"
             ],
             [
              0.6666666666666666,
              "#35b779"
             ],
             [
              0.7777777777777778,
              "#6ece58"
             ],
             [
              0.8888888888888888,
              "#b5de2b"
             ],
             [
              1,
              "#fde725"
             ]
            ],
            "type": "histogram2d"
           }
          ],
          "histogram2dcontour": [
           {
            "colorbar": {
             "outlinewidth": 1,
             "tickcolor": "rgb(36,36,36)",
             "ticks": "outside"
            },
            "colorscale": [
             [
              0,
              "#440154"
             ],
             [
              0.1111111111111111,
              "#482878"
             ],
             [
              0.2222222222222222,
              "#3e4989"
             ],
             [
              0.3333333333333333,
              "#31688e"
             ],
             [
              0.4444444444444444,
              "#26828e"
             ],
             [
              0.5555555555555556,
              "#1f9e89"
             ],
             [
              0.6666666666666666,
              "#35b779"
             ],
             [
              0.7777777777777778,
              "#6ece58"
             ],
             [
              0.8888888888888888,
              "#b5de2b"
             ],
             [
              1,
              "#fde725"
             ]
            ],
            "type": "histogram2dcontour"
           }
          ],
          "mesh3d": [
           {
            "colorbar": {
             "outlinewidth": 1,
             "tickcolor": "rgb(36,36,36)",
             "ticks": "outside"
            },
            "type": "mesh3d"
           }
          ],
          "parcoords": [
           {
            "line": {
             "colorbar": {
              "outlinewidth": 1,
              "tickcolor": "rgb(36,36,36)",
              "ticks": "outside"
             }
            },
            "type": "parcoords"
           }
          ],
          "pie": [
           {
            "automargin": true,
            "type": "pie"
           }
          ],
          "scatter": [
           {
            "fillpattern": {
             "fillmode": "overlay",
             "size": 10,
             "solidity": 0.2
            },
            "type": "scatter"
           }
          ],
          "scatter3d": [
           {
            "line": {
             "colorbar": {
              "outlinewidth": 1,
              "tickcolor": "rgb(36,36,36)",
              "ticks": "outside"
             }
            },
            "marker": {
             "colorbar": {
              "outlinewidth": 1,
              "tickcolor": "rgb(36,36,36)",
              "ticks": "outside"
             }
            },
            "type": "scatter3d"
           }
          ],
          "scattercarpet": [
           {
            "marker": {
             "colorbar": {
              "outlinewidth": 1,
              "tickcolor": "rgb(36,36,36)",
              "ticks": "outside"
             }
            },
            "type": "scattercarpet"
           }
          ],
          "scattergeo": [
           {
            "marker": {
             "colorbar": {
              "outlinewidth": 1,
              "tickcolor": "rgb(36,36,36)",
              "ticks": "outside"
             }
            },
            "type": "scattergeo"
           }
          ],
          "scattergl": [
           {
            "marker": {
             "colorbar": {
              "outlinewidth": 1,
              "tickcolor": "rgb(36,36,36)",
              "ticks": "outside"
             }
            },
            "type": "scattergl"
           }
          ],
          "scattermapbox": [
           {
            "marker": {
             "colorbar": {
              "outlinewidth": 1,
              "tickcolor": "rgb(36,36,36)",
              "ticks": "outside"
             }
            },
            "type": "scattermapbox"
           }
          ],
          "scatterpolar": [
           {
            "marker": {
             "colorbar": {
              "outlinewidth": 1,
              "tickcolor": "rgb(36,36,36)",
              "ticks": "outside"
             }
            },
            "type": "scatterpolar"
           }
          ],
          "scatterpolargl": [
           {
            "marker": {
             "colorbar": {
              "outlinewidth": 1,
              "tickcolor": "rgb(36,36,36)",
              "ticks": "outside"
             }
            },
            "type": "scatterpolargl"
           }
          ],
          "scatterternary": [
           {
            "marker": {
             "colorbar": {
              "outlinewidth": 1,
              "tickcolor": "rgb(36,36,36)",
              "ticks": "outside"
             }
            },
            "type": "scatterternary"
           }
          ],
          "surface": [
           {
            "colorbar": {
             "outlinewidth": 1,
             "tickcolor": "rgb(36,36,36)",
             "ticks": "outside"
            },
            "colorscale": [
             [
              0,
              "#440154"
             ],
             [
              0.1111111111111111,
              "#482878"
             ],
             [
              0.2222222222222222,
              "#3e4989"
             ],
             [
              0.3333333333333333,
              "#31688e"
             ],
             [
              0.4444444444444444,
              "#26828e"
             ],
             [
              0.5555555555555556,
              "#1f9e89"
             ],
             [
              0.6666666666666666,
              "#35b779"
             ],
             [
              0.7777777777777778,
              "#6ece58"
             ],
             [
              0.8888888888888888,
              "#b5de2b"
             ],
             [
              1,
              "#fde725"
             ]
            ],
            "type": "surface"
           }
          ],
          "table": [
           {
            "cells": {
             "fill": {
              "color": "rgb(237,237,237)"
             },
             "line": {
              "color": "white"
             }
            },
            "header": {
             "fill": {
              "color": "rgb(217,217,217)"
             },
             "line": {
              "color": "white"
             }
            },
            "type": "table"
           }
          ]
         },
         "layout": {
          "annotationdefaults": {
           "arrowhead": 0,
           "arrowwidth": 1
          },
          "autotypenumbers": "strict",
          "coloraxis": {
           "colorbar": {
            "outlinewidth": 1,
            "tickcolor": "rgb(36,36,36)",
            "ticks": "outside"
           }
          },
          "colorscale": {
           "diverging": [
            [
             0,
             "rgb(103,0,31)"
            ],
            [
             0.1,
             "rgb(178,24,43)"
            ],
            [
             0.2,
             "rgb(214,96,77)"
            ],
            [
             0.3,
             "rgb(244,165,130)"
            ],
            [
             0.4,
             "rgb(253,219,199)"
            ],
            [
             0.5,
             "rgb(247,247,247)"
            ],
            [
             0.6,
             "rgb(209,229,240)"
            ],
            [
             0.7,
             "rgb(146,197,222)"
            ],
            [
             0.8,
             "rgb(67,147,195)"
            ],
            [
             0.9,
             "rgb(33,102,172)"
            ],
            [
             1,
             "rgb(5,48,97)"
            ]
           ],
           "sequential": [
            [
             0,
             "#440154"
            ],
            [
             0.1111111111111111,
             "#482878"
            ],
            [
             0.2222222222222222,
             "#3e4989"
            ],
            [
             0.3333333333333333,
             "#31688e"
            ],
            [
             0.4444444444444444,
             "#26828e"
            ],
            [
             0.5555555555555556,
             "#1f9e89"
            ],
            [
             0.6666666666666666,
             "#35b779"
            ],
            [
             0.7777777777777778,
             "#6ece58"
            ],
            [
             0.8888888888888888,
             "#b5de2b"
            ],
            [
             1,
             "#fde725"
            ]
           ],
           "sequentialminus": [
            [
             0,
             "#440154"
            ],
            [
             0.1111111111111111,
             "#482878"
            ],
            [
             0.2222222222222222,
             "#3e4989"
            ],
            [
             0.3333333333333333,
             "#31688e"
            ],
            [
             0.4444444444444444,
             "#26828e"
            ],
            [
             0.5555555555555556,
             "#1f9e89"
            ],
            [
             0.6666666666666666,
             "#35b779"
            ],
            [
             0.7777777777777778,
             "#6ece58"
            ],
            [
             0.8888888888888888,
             "#b5de2b"
            ],
            [
             1,
             "#fde725"
            ]
           ]
          },
          "colorway": [
           "#1F77B4",
           "#FF7F0E",
           "#2CA02C",
           "#D62728",
           "#9467BD",
           "#8C564B",
           "#E377C2",
           "#7F7F7F",
           "#BCBD22",
           "#17BECF"
          ],
          "font": {
           "color": "rgb(36,36,36)"
          },
          "geo": {
           "bgcolor": "white",
           "lakecolor": "white",
           "landcolor": "white",
           "showlakes": true,
           "showland": true,
           "subunitcolor": "white"
          },
          "hoverlabel": {
           "align": "left"
          },
          "hovermode": "closest",
          "mapbox": {
           "style": "light"
          },
          "paper_bgcolor": "white",
          "plot_bgcolor": "white",
          "polar": {
           "angularaxis": {
            "gridcolor": "rgb(232,232,232)",
            "linecolor": "rgb(36,36,36)",
            "showgrid": false,
            "showline": true,
            "ticks": "outside"
           },
           "bgcolor": "white",
           "radialaxis": {
            "gridcolor": "rgb(232,232,232)",
            "linecolor": "rgb(36,36,36)",
            "showgrid": false,
            "showline": true,
            "ticks": "outside"
           }
          },
          "scene": {
           "xaxis": {
            "backgroundcolor": "white",
            "gridcolor": "rgb(232,232,232)",
            "gridwidth": 2,
            "linecolor": "rgb(36,36,36)",
            "showbackground": true,
            "showgrid": false,
            "showline": true,
            "ticks": "outside",
            "zeroline": false,
            "zerolinecolor": "rgb(36,36,36)"
           },
           "yaxis": {
            "backgroundcolor": "white",
            "gridcolor": "rgb(232,232,232)",
            "gridwidth": 2,
            "linecolor": "rgb(36,36,36)",
            "showbackground": true,
            "showgrid": false,
            "showline": true,
            "ticks": "outside",
            "zeroline": false,
            "zerolinecolor": "rgb(36,36,36)"
           },
           "zaxis": {
            "backgroundcolor": "white",
            "gridcolor": "rgb(232,232,232)",
            "gridwidth": 2,
            "linecolor": "rgb(36,36,36)",
            "showbackground": true,
            "showgrid": false,
            "showline": true,
            "ticks": "outside",
            "zeroline": false,
            "zerolinecolor": "rgb(36,36,36)"
           }
          },
          "shapedefaults": {
           "fillcolor": "black",
           "line": {
            "width": 0
           },
           "opacity": 0.3
          },
          "ternary": {
           "aaxis": {
            "gridcolor": "rgb(232,232,232)",
            "linecolor": "rgb(36,36,36)",
            "showgrid": false,
            "showline": true,
            "ticks": "outside"
           },
           "baxis": {
            "gridcolor": "rgb(232,232,232)",
            "linecolor": "rgb(36,36,36)",
            "showgrid": false,
            "showline": true,
            "ticks": "outside"
           },
           "bgcolor": "white",
           "caxis": {
            "gridcolor": "rgb(232,232,232)",
            "linecolor": "rgb(36,36,36)",
            "showgrid": false,
            "showline": true,
            "ticks": "outside"
           }
          },
          "title": {
           "x": 0.05
          },
          "xaxis": {
           "automargin": true,
           "gridcolor": "rgb(232,232,232)",
           "linecolor": "rgb(36,36,36)",
           "showgrid": false,
           "showline": true,
           "ticks": "outside",
           "title": {
            "standoff": 15
           },
           "zeroline": false,
           "zerolinecolor": "rgb(36,36,36)"
          },
          "yaxis": {
           "automargin": true,
           "gridcolor": "rgb(232,232,232)",
           "linecolor": "rgb(36,36,36)",
           "showgrid": false,
           "showline": true,
           "ticks": "outside",
           "title": {
            "standoff": 15
           },
           "zeroline": false,
           "zerolinecolor": "rgb(36,36,36)"
          }
         }
        },
        "width": 900,
        "xaxis": {
         "anchor": "y",
         "domain": [
          0,
          1
         ],
         "matches": "x2",
         "showticklabels": false,
         "tickfont": {
          "size": 16
         }
        },
        "xaxis2": {
         "anchor": "y2",
         "domain": [
          0,
          1
         ],
         "tickfont": {
          "size": 16
         },
         "title": {
          "font": {
           "size": 20
          },
          "text": "Experimental formation energy (eV/atom)"
         }
        },
        "yaxis": {
         "anchor": "x",
         "domain": [
          0.575,
          1
         ],
         "tickfont": {
          "size": 16
         },
         "title": {
          "font": {
           "size": 20
          },
          "text": "Raw formation <br> energy (eV/atom)"
         }
        },
        "yaxis2": {
         "anchor": "x2",
         "domain": [
          0,
          0.425
         ],
         "tickfont": {
          "size": 16
         },
         "title": {
          "font": {
           "size": 20
          },
          "text": "Corrected formation <br> energy (eV/atom)"
         }
        }
       }
      },
      "text/html": [
       "<div>                            <div id=\"3804d242-6c22-4f9c-bb6b-670c89acef30\" class=\"plotly-graph-div\" style=\"height:800px; width:900px;\"></div>            <script type=\"text/javascript\">                require([\"plotly\"], function(Plotly) {                    window.PLOTLYENV=window.PLOTLYENV || {};                                    if (document.getElementById(\"3804d242-6c22-4f9c-bb6b-670c89acef30\")) {                    Plotly.newPlot(                        \"3804d242-6c22-4f9c-bb6b-670c89acef30\",                        [{\"hovertemplate\":\"<b>%{hovertext}</b><br><br>name=Ag2CO3<br>x=%{x}<br>y=%{y}<extra></extra>\",\"hovertext\":[\"Ag2CO3\"],\"legendgroup\":\"Ag2CO3\",\"marker\":{\"color\":\"#2E91E5\",\"size\":12,\"symbol\":\"circle\"},\"mode\":\"markers\",\"name\":\"Ag2CO3\",\"orientation\":\"v\",\"showlegend\":true,\"x\":[-4.523490740122578],\"xaxis\":\"x\",\"y\":[-5.7163614266653315],\"yaxis\":\"y\",\"type\":\"scatter\"},{\"hovertemplate\":\"<b>%{hovertext}</b><br><br>name=BaCO3<br>x=%{x}<br>y=%{y}<extra></extra>\",\"hovertext\":[\"BaCO3\"],\"legendgroup\":\"BaCO3\",\"marker\":{\"color\":\"#E15F99\",\"size\":12,\"symbol\":\"diamond\"},\"mode\":\"markers\",\"name\":\"BaCO3\",\"orientation\":\"v\",\"showlegend\":true,\"x\":[-11.729310728660675],\"xaxis\":\"x\",\"y\":[-12.620423169828532],\"yaxis\":\"y\",\"type\":\"scatter\"},{\"hovertemplate\":\"<b>%{hovertext}</b><br><br>name=CaCO3<br>x=%{x}<br>y=%{y}<extra></extra>\",\"hovertext\":[\"CaCO3\"],\"legendgroup\":\"CaCO3\",\"marker\":{\"color\":\"#1CA71C\",\"size\":12,\"symbol\":\"square\"},\"mode\":\"markers\",\"name\":\"CaCO3\",\"orientation\":\"v\",\"showlegend\":true,\"x\":[-11.697022798117317],\"xaxis\":\"x\",\"y\":[-12.631742424581612],\"yaxis\":\"y\",\"type\":\"scatter\"},{\"hovertemplate\":\"<b>%{hovertext}</b><br><br>name=CdCO3<br>x=%{x}<br>y=%{y}<extra></extra>\",\"hovertext\":[\"CdCO3\"],\"legendgroup\":\"CdCO3\",\"marker\":{\"color\":\"#FB0D0D\",\"size\":12,\"symbol\":\"x\"},\"mode\":\"markers\",\"name\":\"CdCO3\",\"orientation\":\"v\",\"showlegend\":true,\"x\":[-7.018997735710281],\"xaxis\":\"x\",\"y\":[-7.97432393640236],\"yaxis\":\"y\",\"type\":\"scatter\"},{\"hovertemplate\":\"<b>%{hovertext}</b><br><br>name=Cs2CO3<br>x=%{x}<br>y=%{y}<extra></extra>\",\"hovertext\":[\"Cs2CO3\"],\"legendgroup\":\"Cs2CO3\",\"marker\":{\"color\":\"#DA16FF\",\"size\":12,\"symbol\":\"cross\"},\"mode\":\"markers\",\"name\":\"Cs2CO3\",\"orientation\":\"v\",\"showlegend\":true,\"x\":[-10.894131627283759],\"xaxis\":\"x\",\"y\":[-11.469223791915756],\"yaxis\":\"y\",\"type\":\"scatter\"},{\"hovertemplate\":\"<b>%{hovertext}</b><br><br>name=FeCO3<br>x=%{x}<br>y=%{y}<extra></extra>\",\"hovertext\":[\"FeCO3\"],\"legendgroup\":\"FeCO3\",\"marker\":{\"color\":\"#222A2A\",\"size\":12,\"symbol\":\"circle\"},\"mode\":\"markers\",\"name\":\"FeCO3\",\"orientation\":\"v\",\"showlegend\":true,\"x\":[-6.929197226894303],\"xaxis\":\"x\",\"y\":[-8.132893413595967],\"yaxis\":\"y\",\"type\":\"scatter\"},{\"hovertemplate\":\"<b>%{hovertext}</b><br><br>name=K2CO3<br>x=%{x}<br>y=%{y}<extra></extra>\",\"hovertext\":[\"K2CO3\"],\"legendgroup\":\"K2CO3\",\"marker\":{\"color\":\"#B68100\",\"size\":12,\"symbol\":\"diamond\"},\"mode\":\"markers\",\"name\":\"K2CO3\",\"orientation\":\"v\",\"showlegend\":true,\"x\":[-11.028037676944543],\"xaxis\":\"x\",\"y\":[-11.774465217826826],\"yaxis\":\"y\",\"type\":\"scatter\"},{\"hovertemplate\":\"<b>%{hovertext}</b><br><br>name=Li2CO3<br>x=%{x}<br>y=%{y}<extra></extra>\",\"hovertext\":[\"Li2CO3\"],\"legendgroup\":\"Li2CO3\",\"marker\":{\"color\":\"#750D86\",\"size\":12,\"symbol\":\"square\"},\"mode\":\"markers\",\"name\":\"Li2CO3\",\"orientation\":\"v\",\"showlegend\":true,\"x\":[-11.728638626956926],\"xaxis\":\"x\",\"y\":[-12.558765873746752],\"yaxis\":\"y\",\"type\":\"scatter\"},{\"hovertemplate\":\"<b>%{hovertext}</b><br><br>name=MgCO3<br>x=%{x}<br>y=%{y}<extra></extra>\",\"hovertext\":[\"MgCO3\"],\"legendgroup\":\"MgCO3\",\"marker\":{\"color\":\"#EB663B\",\"size\":12,\"symbol\":\"x\"},\"mode\":\"markers\",\"name\":\"MgCO3\",\"orientation\":\"v\",\"showlegend\":true,\"x\":[-10.66327385453301],\"xaxis\":\"x\",\"y\":[-11.376493296121515],\"yaxis\":\"y\",\"type\":\"scatter\"},{\"hovertemplate\":\"<b>%{hovertext}</b><br><br>name=MnCO3<br>x=%{x}<br>y=%{y}<extra></extra>\",\"hovertext\":[\"MnCO3\"],\"legendgroup\":\"MnCO3\",\"marker\":{\"color\":\"#511CFB\",\"size\":12,\"symbol\":\"cross\"},\"mode\":\"markers\",\"name\":\"MnCO3\",\"orientation\":\"v\",\"showlegend\":true,\"x\":[-8.448687588375233],\"xaxis\":\"x\",\"y\":[-9.249014489052387],\"yaxis\":\"y\",\"type\":\"scatter\"},{\"hovertemplate\":\"<b>%{hovertext}</b><br><br>name=Na2CO3<br>x=%{x}<br>y=%{y}<extra></extra>\",\"hovertext\":[\"Na2CO3\"],\"legendgroup\":\"Na2CO3\",\"marker\":{\"color\":\"#00A08B\",\"size\":12,\"symbol\":\"circle\"},\"mode\":\"markers\",\"name\":\"Na2CO3\",\"orientation\":\"v\",\"showlegend\":true,\"x\":[-10.856533778555411],\"xaxis\":\"x\",\"y\":[-11.476894480358538],\"yaxis\":\"y\",\"type\":\"scatter\"},{\"hovertemplate\":\"<b>%{hovertext}</b><br><br>name=PbCO3<br>x=%{x}<br>y=%{y}<extra></extra>\",\"hovertext\":[\"PbCO3\"],\"legendgroup\":\"PbCO3\",\"marker\":{\"color\":\"#FB00D1\",\"size\":12,\"symbol\":\"diamond\"},\"mode\":\"markers\",\"name\":\"PbCO3\",\"orientation\":\"v\",\"showlegend\":true,\"x\":[-6.514563134816661],\"xaxis\":\"x\",\"y\":[-8.211967075966989],\"yaxis\":\"y\",\"type\":\"scatter\"},{\"hovertemplate\":\"<b>%{hovertext}</b><br><br>name=Rb2CO3<br>x=%{x}<br>y=%{y}<extra></extra>\",\"hovertext\":[\"Rb2CO3\"],\"legendgroup\":\"Rb2CO3\",\"marker\":{\"color\":\"#FC0080\",\"size\":12,\"symbol\":\"square\"},\"mode\":\"markers\",\"name\":\"Rb2CO3\",\"orientation\":\"v\",\"showlegend\":true,\"x\":[-10.97233639890869],\"xaxis\":\"x\",\"y\":[-11.568089176145373],\"yaxis\":\"y\",\"type\":\"scatter\"},{\"hovertemplate\":\"<b>%{hovertext}</b><br><br>name=SrCO3<br>x=%{x}<br>y=%{y}<extra></extra>\",\"hovertext\":[\"SrCO3\"],\"legendgroup\":\"SrCO3\",\"marker\":{\"color\":\"#B2828D\",\"size\":12,\"symbol\":\"x\"},\"mode\":\"markers\",\"name\":\"SrCO3\",\"orientation\":\"v\",\"showlegend\":true,\"x\":[-11.796336838082897],\"xaxis\":\"x\",\"y\":[-12.674541990174458],\"yaxis\":\"y\",\"type\":\"scatter\"},{\"hovertemplate\":\"<b>%{hovertext}</b><br><br>name=ZnCO3<br>x=%{x}<br>y=%{y}<extra></extra>\",\"hovertext\":[\"ZnCO3\"],\"legendgroup\":\"ZnCO3\",\"marker\":{\"color\":\"#6C7C32\",\"size\":12,\"symbol\":\"cross\"},\"mode\":\"markers\",\"name\":\"ZnCO3\",\"orientation\":\"v\",\"showlegend\":true,\"x\":[-7.600479604861418],\"xaxis\":\"x\",\"y\":[-8.24550688210508],\"yaxis\":\"y\",\"type\":\"scatter\"},{\"hovertemplate\":\"x=%{x}<br>y=%{y}<extra></extra>\",\"legendgroup\":\"\",\"line\":{\"color\":\"#1F77B4\",\"dash\":\"solid\"},\"marker\":{\"size\":12,\"symbol\":\"circle\"},\"mode\":\"lines\",\"name\":\"\",\"orientation\":\"v\",\"showlegend\":false,\"x\":[-12,-4],\"xaxis\":\"x\",\"y\":[-12,-4],\"yaxis\":\"y\",\"type\":\"scatter\"},{\"hovertemplate\":\"<b>%{hovertext}</b><br><br>name=Ag2CO3<br>x=%{x}<br>y=%{y}<extra></extra>\",\"hovertext\":[\"Ag2CO3\"],\"legendgroup\":\"Ag2CO3\",\"marker\":{\"color\":\"#2E91E5\",\"size\":12,\"symbol\":\"circle\"},\"mode\":\"markers\",\"name\":\"Ag2CO3\",\"orientation\":\"v\",\"showlegend\":false,\"x\":[-4.523490740122578],\"xaxis\":\"x2\",\"y\":[-4.886234187278925],\"yaxis\":\"y2\",\"type\":\"scatter\"},{\"hovertemplate\":\"<b>%{hovertext}</b><br><br>name=BaCO3<br>x=%{x}<br>y=%{y}<extra></extra>\",\"hovertext\":[\"BaCO3\"],\"legendgroup\":\"BaCO3\",\"marker\":{\"color\":\"#E15F99\",\"size\":12,\"symbol\":\"diamond\"},\"mode\":\"markers\",\"name\":\"BaCO3\",\"orientation\":\"v\",\"showlegend\":false,\"x\":[-11.729310728660675],\"xaxis\":\"x2\",\"y\":[-11.790295930442126],\"yaxis\":\"y2\",\"type\":\"scatter\"},{\"hovertemplate\":\"<b>%{hovertext}</b><br><br>name=CaCO3<br>x=%{x}<br>y=%{y}<extra></extra>\",\"hovertext\":[\"CaCO3\"],\"legendgroup\":\"CaCO3\",\"marker\":{\"color\":\"#1CA71C\",\"size\":12,\"symbol\":\"square\"},\"mode\":\"markers\",\"name\":\"CaCO3\",\"orientation\":\"v\",\"showlegend\":false,\"x\":[-11.697022798117317],\"xaxis\":\"x2\",\"y\":[-11.801615185195205],\"yaxis\":\"y2\",\"type\":\"scatter\"},{\"hovertemplate\":\"<b>%{hovertext}</b><br><br>name=CdCO3<br>x=%{x}<br>y=%{y}<extra></extra>\",\"hovertext\":[\"CdCO3\"],\"legendgroup\":\"CdCO3\",\"marker\":{\"color\":\"#FB0D0D\",\"size\":12,\"symbol\":\"x\"},\"mode\":\"markers\",\"name\":\"CdCO3\",\"orientation\":\"v\",\"showlegend\":false,\"x\":[-7.018997735710281],\"xaxis\":\"x2\",\"y\":[-7.144196697015953],\"yaxis\":\"y2\",\"type\":\"scatter\"},{\"hovertemplate\":\"<b>%{hovertext}</b><br><br>name=Cs2CO3<br>x=%{x}<br>y=%{y}<extra></extra>\",\"hovertext\":[\"Cs2CO3\"],\"legendgroup\":\"Cs2CO3\",\"marker\":{\"color\":\"#DA16FF\",\"size\":12,\"symbol\":\"cross\"},\"mode\":\"markers\",\"name\":\"Cs2CO3\",\"orientation\":\"v\",\"showlegend\":false,\"x\":[-10.894131627283759],\"xaxis\":\"x2\",\"y\":[-10.639096552529349],\"yaxis\":\"y2\",\"type\":\"scatter\"},{\"hovertemplate\":\"<b>%{hovertext}</b><br><br>name=FeCO3<br>x=%{x}<br>y=%{y}<extra></extra>\",\"hovertext\":[\"FeCO3\"],\"legendgroup\":\"FeCO3\",\"marker\":{\"color\":\"#222A2A\",\"size\":12,\"symbol\":\"circle\"},\"mode\":\"markers\",\"name\":\"FeCO3\",\"orientation\":\"v\",\"showlegend\":false,\"x\":[-6.929197226894303],\"xaxis\":\"x2\",\"y\":[-7.302766174209561],\"yaxis\":\"y2\",\"type\":\"scatter\"},{\"hovertemplate\":\"<b>%{hovertext}</b><br><br>name=K2CO3<br>x=%{x}<br>y=%{y}<extra></extra>\",\"hovertext\":[\"K2CO3\"],\"legendgroup\":\"K2CO3\",\"marker\":{\"color\":\"#B68100\",\"size\":12,\"symbol\":\"diamond\"},\"mode\":\"markers\",\"name\":\"K2CO3\",\"orientation\":\"v\",\"showlegend\":false,\"x\":[-11.028037676944543],\"xaxis\":\"x2\",\"y\":[-10.94433797844042],\"yaxis\":\"y2\",\"type\":\"scatter\"},{\"hovertemplate\":\"<b>%{hovertext}</b><br><br>name=Li2CO3<br>x=%{x}<br>y=%{y}<extra></extra>\",\"hovertext\":[\"Li2CO3\"],\"legendgroup\":\"Li2CO3\",\"marker\":{\"color\":\"#750D86\",\"size\":12,\"symbol\":\"square\"},\"mode\":\"markers\",\"name\":\"Li2CO3\",\"orientation\":\"v\",\"showlegend\":false,\"x\":[-11.728638626956926],\"xaxis\":\"x2\",\"y\":[-11.728638634360346],\"yaxis\":\"y2\",\"type\":\"scatter\"},{\"hovertemplate\":\"<b>%{hovertext}</b><br><br>name=MgCO3<br>x=%{x}<br>y=%{y}<extra></extra>\",\"hovertext\":[\"MgCO3\"],\"legendgroup\":\"MgCO3\",\"marker\":{\"color\":\"#EB663B\",\"size\":12,\"symbol\":\"x\"},\"mode\":\"markers\",\"name\":\"MgCO3\",\"orientation\":\"v\",\"showlegend\":false,\"x\":[-10.66327385453301],\"xaxis\":\"x2\",\"y\":[-10.546366056735108],\"yaxis\":\"y2\",\"type\":\"scatter\"},{\"hovertemplate\":\"<b>%{hovertext}</b><br><br>name=MnCO3<br>x=%{x}<br>y=%{y}<extra></extra>\",\"hovertext\":[\"MnCO3\"],\"legendgroup\":\"MnCO3\",\"marker\":{\"color\":\"#511CFB\",\"size\":12,\"symbol\":\"cross\"},\"mode\":\"markers\",\"name\":\"MnCO3\",\"orientation\":\"v\",\"showlegend\":false,\"x\":[-8.448687588375233],\"xaxis\":\"x2\",\"y\":[-8.41888724966598],\"yaxis\":\"y2\",\"type\":\"scatter\"},{\"hovertemplate\":\"<b>%{hovertext}</b><br><br>name=Na2CO3<br>x=%{x}<br>y=%{y}<extra></extra>\",\"hovertext\":[\"Na2CO3\"],\"legendgroup\":\"Na2CO3\",\"marker\":{\"color\":\"#00A08B\",\"size\":12,\"symbol\":\"circle\"},\"mode\":\"markers\",\"name\":\"Na2CO3\",\"orientation\":\"v\",\"showlegend\":false,\"x\":[-10.856533778555411],\"xaxis\":\"x2\",\"y\":[-10.646767240972132],\"yaxis\":\"y2\",\"type\":\"scatter\"},{\"hovertemplate\":\"<b>%{hovertext}</b><br><br>name=PbCO3<br>x=%{x}<br>y=%{y}<extra></extra>\",\"hovertext\":[\"PbCO3\"],\"legendgroup\":\"PbCO3\",\"marker\":{\"color\":\"#FB00D1\",\"size\":12,\"symbol\":\"diamond\"},\"mode\":\"markers\",\"name\":\"PbCO3\",\"orientation\":\"v\",\"showlegend\":false,\"x\":[-6.514563134816661],\"xaxis\":\"x2\",\"y\":[-7.381839836580582],\"yaxis\":\"y2\",\"type\":\"scatter\"},{\"hovertemplate\":\"<b>%{hovertext}</b><br><br>name=Rb2CO3<br>x=%{x}<br>y=%{y}<extra></extra>\",\"hovertext\":[\"Rb2CO3\"],\"legendgroup\":\"Rb2CO3\",\"marker\":{\"color\":\"#FC0080\",\"size\":12,\"symbol\":\"square\"},\"mode\":\"markers\",\"name\":\"Rb2CO3\",\"orientation\":\"v\",\"showlegend\":false,\"x\":[-10.97233639890869],\"xaxis\":\"x2\",\"y\":[-10.737961936758966],\"yaxis\":\"y2\",\"type\":\"scatter\"},{\"hovertemplate\":\"<b>%{hovertext}</b><br><br>name=SrCO3<br>x=%{x}<br>y=%{y}<extra></extra>\",\"hovertext\":[\"SrCO3\"],\"legendgroup\":\"SrCO3\",\"marker\":{\"color\":\"#B2828D\",\"size\":12,\"symbol\":\"x\"},\"mode\":\"markers\",\"name\":\"SrCO3\",\"orientation\":\"v\",\"showlegend\":false,\"x\":[-11.796336838082897],\"xaxis\":\"x2\",\"y\":[-11.84441475078805],\"yaxis\":\"y2\",\"type\":\"scatter\"},{\"hovertemplate\":\"<b>%{hovertext}</b><br><br>name=ZnCO3<br>x=%{x}<br>y=%{y}<extra></extra>\",\"hovertext\":[\"ZnCO3\"],\"legendgroup\":\"ZnCO3\",\"marker\":{\"color\":\"#6C7C32\",\"size\":12,\"symbol\":\"cross\"},\"mode\":\"markers\",\"name\":\"ZnCO3\",\"orientation\":\"v\",\"showlegend\":false,\"x\":[-7.600479604861418],\"xaxis\":\"x2\",\"y\":[-7.415379642718673],\"yaxis\":\"y2\",\"type\":\"scatter\"},{\"hovertemplate\":\"x=%{x}<br>y=%{y}<extra></extra>\",\"legendgroup\":\"\",\"line\":{\"color\":\"#1F77B4\",\"dash\":\"solid\"},\"marker\":{\"size\":12,\"symbol\":\"circle\"},\"mode\":\"lines\",\"name\":\"\",\"orientation\":\"v\",\"showlegend\":false,\"x\":[-12,-4],\"xaxis\":\"x2\",\"y\":[-12,-4],\"yaxis\":\"y2\",\"type\":\"scatter\"}],                        {\"template\":{\"data\":{\"histogram2dcontour\":[{\"type\":\"histogram2dcontour\",\"colorbar\":{\"outlinewidth\":1,\"tickcolor\":\"rgb(36,36,36)\",\"ticks\":\"outside\"},\"colorscale\":[[0.0,\"#440154\"],[0.1111111111111111,\"#482878\"],[0.2222222222222222,\"#3e4989\"],[0.3333333333333333,\"#31688e\"],[0.4444444444444444,\"#26828e\"],[0.5555555555555556,\"#1f9e89\"],[0.6666666666666666,\"#35b779\"],[0.7777777777777778,\"#6ece58\"],[0.8888888888888888,\"#b5de2b\"],[1.0,\"#fde725\"]]}],\"choropleth\":[{\"type\":\"choropleth\",\"colorbar\":{\"outlinewidth\":1,\"tickcolor\":\"rgb(36,36,36)\",\"ticks\":\"outside\"}}],\"histogram2d\":[{\"type\":\"histogram2d\",\"colorbar\":{\"outlinewidth\":1,\"tickcolor\":\"rgb(36,36,36)\",\"ticks\":\"outside\"},\"colorscale\":[[0.0,\"#440154\"],[0.1111111111111111,\"#482878\"],[0.2222222222222222,\"#3e4989\"],[0.3333333333333333,\"#31688e\"],[0.4444444444444444,\"#26828e\"],[0.5555555555555556,\"#1f9e89\"],[0.6666666666666666,\"#35b779\"],[0.7777777777777778,\"#6ece58\"],[0.8888888888888888,\"#b5de2b\"],[1.0,\"#fde725\"]]}],\"heatmap\":[{\"type\":\"heatmap\",\"colorbar\":{\"outlinewidth\":1,\"tickcolor\":\"rgb(36,36,36)\",\"ticks\":\"outside\"},\"colorscale\":[[0.0,\"#440154\"],[0.1111111111111111,\"#482878\"],[0.2222222222222222,\"#3e4989\"],[0.3333333333333333,\"#31688e\"],[0.4444444444444444,\"#26828e\"],[0.5555555555555556,\"#1f9e89\"],[0.6666666666666666,\"#35b779\"],[0.7777777777777778,\"#6ece58\"],[0.8888888888888888,\"#b5de2b\"],[1.0,\"#fde725\"]]}],\"heatmapgl\":[{\"type\":\"heatmapgl\",\"colorbar\":{\"outlinewidth\":1,\"tickcolor\":\"rgb(36,36,36)\",\"ticks\":\"outside\"},\"colorscale\":[[0.0,\"#440154\"],[0.1111111111111111,\"#482878\"],[0.2222222222222222,\"#3e4989\"],[0.3333333333333333,\"#31688e\"],[0.4444444444444444,\"#26828e\"],[0.5555555555555556,\"#1f9e89\"],[0.6666666666666666,\"#35b779\"],[0.7777777777777778,\"#6ece58\"],[0.8888888888888888,\"#b5de2b\"],[1.0,\"#fde725\"]]}],\"contourcarpet\":[{\"type\":\"contourcarpet\",\"colorbar\":{\"outlinewidth\":1,\"tickcolor\":\"rgb(36,36,36)\",\"ticks\":\"outside\"}}],\"contour\":[{\"type\":\"contour\",\"colorbar\":{\"outlinewidth\":1,\"tickcolor\":\"rgb(36,36,36)\",\"ticks\":\"outside\"},\"colorscale\":[[0.0,\"#440154\"],[0.1111111111111111,\"#482878\"],[0.2222222222222222,\"#3e4989\"],[0.3333333333333333,\"#31688e\"],[0.4444444444444444,\"#26828e\"],[0.5555555555555556,\"#1f9e89\"],[0.6666666666666666,\"#35b779\"],[0.7777777777777778,\"#6ece58\"],[0.8888888888888888,\"#b5de2b\"],[1.0,\"#fde725\"]]}],\"surface\":[{\"type\":\"surface\",\"colorbar\":{\"outlinewidth\":1,\"tickcolor\":\"rgb(36,36,36)\",\"ticks\":\"outside\"},\"colorscale\":[[0.0,\"#440154\"],[0.1111111111111111,\"#482878\"],[0.2222222222222222,\"#3e4989\"],[0.3333333333333333,\"#31688e\"],[0.4444444444444444,\"#26828e\"],[0.5555555555555556,\"#1f9e89\"],[0.6666666666666666,\"#35b779\"],[0.7777777777777778,\"#6ece58\"],[0.8888888888888888,\"#b5de2b\"],[1.0,\"#fde725\"]]}],\"mesh3d\":[{\"type\":\"mesh3d\",\"colorbar\":{\"outlinewidth\":1,\"tickcolor\":\"rgb(36,36,36)\",\"ticks\":\"outside\"}}],\"scatter\":[{\"fillpattern\":{\"fillmode\":\"overlay\",\"size\":10,\"solidity\":0.2},\"type\":\"scatter\"}],\"parcoords\":[{\"type\":\"parcoords\",\"line\":{\"colorbar\":{\"outlinewidth\":1,\"tickcolor\":\"rgb(36,36,36)\",\"ticks\":\"outside\"}}}],\"scatterpolargl\":[{\"type\":\"scatterpolargl\",\"marker\":{\"colorbar\":{\"outlinewidth\":1,\"tickcolor\":\"rgb(36,36,36)\",\"ticks\":\"outside\"}}}],\"bar\":[{\"error_x\":{\"color\":\"rgb(36,36,36)\"},\"error_y\":{\"color\":\"rgb(36,36,36)\"},\"marker\":{\"line\":{\"color\":\"white\",\"width\":0.5},\"pattern\":{\"fillmode\":\"overlay\",\"size\":10,\"solidity\":0.2}},\"type\":\"bar\"}],\"scattergeo\":[{\"type\":\"scattergeo\",\"marker\":{\"colorbar\":{\"outlinewidth\":1,\"tickcolor\":\"rgb(36,36,36)\",\"ticks\":\"outside\"}}}],\"scatterpolar\":[{\"type\":\"scatterpolar\",\"marker\":{\"colorbar\":{\"outlinewidth\":1,\"tickcolor\":\"rgb(36,36,36)\",\"ticks\":\"outside\"}}}],\"histogram\":[{\"marker\":{\"line\":{\"color\":\"white\",\"width\":0.6}},\"type\":\"histogram\"}],\"scattergl\":[{\"type\":\"scattergl\",\"marker\":{\"colorbar\":{\"outlinewidth\":1,\"tickcolor\":\"rgb(36,36,36)\",\"ticks\":\"outside\"}}}],\"scatter3d\":[{\"type\":\"scatter3d\",\"line\":{\"colorbar\":{\"outlinewidth\":1,\"tickcolor\":\"rgb(36,36,36)\",\"ticks\":\"outside\"}},\"marker\":{\"colorbar\":{\"outlinewidth\":1,\"tickcolor\":\"rgb(36,36,36)\",\"ticks\":\"outside\"}}}],\"scattermapbox\":[{\"type\":\"scattermapbox\",\"marker\":{\"colorbar\":{\"outlinewidth\":1,\"tickcolor\":\"rgb(36,36,36)\",\"ticks\":\"outside\"}}}],\"scatterternary\":[{\"type\":\"scatterternary\",\"marker\":{\"colorbar\":{\"outlinewidth\":1,\"tickcolor\":\"rgb(36,36,36)\",\"ticks\":\"outside\"}}}],\"scattercarpet\":[{\"type\":\"scattercarpet\",\"marker\":{\"colorbar\":{\"outlinewidth\":1,\"tickcolor\":\"rgb(36,36,36)\",\"ticks\":\"outside\"}}}],\"carpet\":[{\"aaxis\":{\"endlinecolor\":\"rgb(36,36,36)\",\"gridcolor\":\"white\",\"linecolor\":\"white\",\"minorgridcolor\":\"white\",\"startlinecolor\":\"rgb(36,36,36)\"},\"baxis\":{\"endlinecolor\":\"rgb(36,36,36)\",\"gridcolor\":\"white\",\"linecolor\":\"white\",\"minorgridcolor\":\"white\",\"startlinecolor\":\"rgb(36,36,36)\"},\"type\":\"carpet\"}],\"table\":[{\"cells\":{\"fill\":{\"color\":\"rgb(237,237,237)\"},\"line\":{\"color\":\"white\"}},\"header\":{\"fill\":{\"color\":\"rgb(217,217,217)\"},\"line\":{\"color\":\"white\"}},\"type\":\"table\"}],\"barpolar\":[{\"marker\":{\"line\":{\"color\":\"white\",\"width\":0.5},\"pattern\":{\"fillmode\":\"overlay\",\"size\":10,\"solidity\":0.2}},\"type\":\"barpolar\"}],\"pie\":[{\"automargin\":true,\"type\":\"pie\"}]},\"layout\":{\"autotypenumbers\":\"strict\",\"colorway\":[\"#1F77B4\",\"#FF7F0E\",\"#2CA02C\",\"#D62728\",\"#9467BD\",\"#8C564B\",\"#E377C2\",\"#7F7F7F\",\"#BCBD22\",\"#17BECF\"],\"font\":{\"color\":\"rgb(36,36,36)\"},\"hovermode\":\"closest\",\"hoverlabel\":{\"align\":\"left\"},\"paper_bgcolor\":\"white\",\"plot_bgcolor\":\"white\",\"polar\":{\"bgcolor\":\"white\",\"angularaxis\":{\"gridcolor\":\"rgb(232,232,232)\",\"linecolor\":\"rgb(36,36,36)\",\"showgrid\":false,\"showline\":true,\"ticks\":\"outside\"},\"radialaxis\":{\"gridcolor\":\"rgb(232,232,232)\",\"linecolor\":\"rgb(36,36,36)\",\"showgrid\":false,\"showline\":true,\"ticks\":\"outside\"}},\"ternary\":{\"bgcolor\":\"white\",\"aaxis\":{\"gridcolor\":\"rgb(232,232,232)\",\"linecolor\":\"rgb(36,36,36)\",\"showgrid\":false,\"showline\":true,\"ticks\":\"outside\"},\"baxis\":{\"gridcolor\":\"rgb(232,232,232)\",\"linecolor\":\"rgb(36,36,36)\",\"showgrid\":false,\"showline\":true,\"ticks\":\"outside\"},\"caxis\":{\"gridcolor\":\"rgb(232,232,232)\",\"linecolor\":\"rgb(36,36,36)\",\"showgrid\":false,\"showline\":true,\"ticks\":\"outside\"}},\"coloraxis\":{\"colorbar\":{\"outlinewidth\":1,\"tickcolor\":\"rgb(36,36,36)\",\"ticks\":\"outside\"}},\"colorscale\":{\"sequential\":[[0.0,\"#440154\"],[0.1111111111111111,\"#482878\"],[0.2222222222222222,\"#3e4989\"],[0.3333333333333333,\"#31688e\"],[0.4444444444444444,\"#26828e\"],[0.5555555555555556,\"#1f9e89\"],[0.6666666666666666,\"#35b779\"],[0.7777777777777778,\"#6ece58\"],[0.8888888888888888,\"#b5de2b\"],[1.0,\"#fde725\"]],\"sequentialminus\":[[0.0,\"#440154\"],[0.1111111111111111,\"#482878\"],[0.2222222222222222,\"#3e4989\"],[0.3333333333333333,\"#31688e\"],[0.4444444444444444,\"#26828e\"],[0.5555555555555556,\"#1f9e89\"],[0.6666666666666666,\"#35b779\"],[0.7777777777777778,\"#6ece58\"],[0.8888888888888888,\"#b5de2b\"],[1.0,\"#fde725\"]],\"diverging\":[[0.0,\"rgb(103,0,31)\"],[0.1,\"rgb(178,24,43)\"],[0.2,\"rgb(214,96,77)\"],[0.3,\"rgb(244,165,130)\"],[0.4,\"rgb(253,219,199)\"],[0.5,\"rgb(247,247,247)\"],[0.6,\"rgb(209,229,240)\"],[0.7,\"rgb(146,197,222)\"],[0.8,\"rgb(67,147,195)\"],[0.9,\"rgb(33,102,172)\"],[1.0,\"rgb(5,48,97)\"]]},\"xaxis\":{\"gridcolor\":\"rgb(232,232,232)\",\"linecolor\":\"rgb(36,36,36)\",\"showgrid\":false,\"showline\":true,\"ticks\":\"outside\",\"title\":{\"standoff\":15},\"zerolinecolor\":\"rgb(36,36,36)\",\"automargin\":true,\"zeroline\":false},\"yaxis\":{\"gridcolor\":\"rgb(232,232,232)\",\"linecolor\":\"rgb(36,36,36)\",\"showgrid\":false,\"showline\":true,\"ticks\":\"outside\",\"title\":{\"standoff\":15},\"zerolinecolor\":\"rgb(36,36,36)\",\"automargin\":true,\"zeroline\":false},\"scene\":{\"xaxis\":{\"backgroundcolor\":\"white\",\"gridcolor\":\"rgb(232,232,232)\",\"linecolor\":\"rgb(36,36,36)\",\"showbackground\":true,\"showgrid\":false,\"showline\":true,\"ticks\":\"outside\",\"zerolinecolor\":\"rgb(36,36,36)\",\"gridwidth\":2,\"zeroline\":false},\"yaxis\":{\"backgroundcolor\":\"white\",\"gridcolor\":\"rgb(232,232,232)\",\"linecolor\":\"rgb(36,36,36)\",\"showbackground\":true,\"showgrid\":false,\"showline\":true,\"ticks\":\"outside\",\"zerolinecolor\":\"rgb(36,36,36)\",\"gridwidth\":2,\"zeroline\":false},\"zaxis\":{\"backgroundcolor\":\"white\",\"gridcolor\":\"rgb(232,232,232)\",\"linecolor\":\"rgb(36,36,36)\",\"showbackground\":true,\"showgrid\":false,\"showline\":true,\"ticks\":\"outside\",\"zerolinecolor\":\"rgb(36,36,36)\",\"gridwidth\":2,\"zeroline\":false}},\"shapedefaults\":{\"fillcolor\":\"black\",\"line\":{\"width\":0},\"opacity\":0.3},\"annotationdefaults\":{\"arrowhead\":0,\"arrowwidth\":1},\"geo\":{\"bgcolor\":\"white\",\"landcolor\":\"white\",\"subunitcolor\":\"white\",\"showland\":true,\"showlakes\":true,\"lakecolor\":\"white\"},\"title\":{\"x\":0.05},\"mapbox\":{\"style\":\"light\"}}},\"xaxis\":{\"anchor\":\"y\",\"domain\":[0.0,1.0],\"matches\":\"x2\",\"showticklabels\":false,\"tickfont\":{\"size\":16}},\"yaxis\":{\"anchor\":\"x\",\"domain\":[0.575,1.0],\"tickfont\":{\"size\":16},\"title\":{\"text\":\"Raw formation <br> energy (eV/atom)\",\"font\":{\"size\":20}}},\"xaxis2\":{\"anchor\":\"y2\",\"domain\":[0.0,1.0],\"tickfont\":{\"size\":16},\"title\":{\"text\":\"Experimental formation energy (eV/atom)\",\"font\":{\"size\":20}}},\"yaxis2\":{\"anchor\":\"x2\",\"domain\":[0.0,0.425],\"tickfont\":{\"size\":16},\"title\":{\"text\":\"Corrected formation <br> energy (eV/atom)\",\"font\":{\"size\":20}}},\"margin\":{\"t\":20},\"width\":900,\"height\":800,\"annotations\":[{\"font\":{\"family\":\"Helvetica\",\"size\":28},\"showarrow\":false,\"text\":\"<b>a</b>\",\"x\":-0.15,\"xref\":\"paper\",\"y\":1.02,\"yref\":\"paper\"},{\"font\":{\"family\":\"Helvetica\",\"size\":28},\"showarrow\":false,\"text\":\"<b>b</b>\",\"x\":-0.15,\"xref\":\"paper\",\"y\":0.44,\"yref\":\"paper\"}]},                        {\"responsive\": true}                    ).then(function(){\n",
       "                            \n",
       "var gd = document.getElementById('3804d242-6c22-4f9c-bb6b-670c89acef30');\n",
       "var x = new MutationObserver(function (mutations, observer) {{\n",
       "        var display = window.getComputedStyle(gd).display;\n",
       "        if (!display || display === 'none') {{\n",
       "            console.log([gd, 'removed!']);\n",
       "            Plotly.purge(gd);\n",
       "            observer.disconnect();\n",
       "        }}\n",
       "}});\n",
       "\n",
       "// Listen for the removal of the full notebook cells\n",
       "var notebookContainer = gd.closest('#notebook-container');\n",
       "if (notebookContainer) {{\n",
       "    x.observe(notebookContainer, {childList: true});\n",
       "}}\n",
       "\n",
       "// Listen for the clearing of the current output cell\n",
       "var outputEl = gd.closest('.output');\n",
       "if (outputEl) {{\n",
       "    x.observe(outputEl, {childList: true});\n",
       "}}\n",
       "\n",
       "                        })                };                });            </script>        </div>"
      ]
     },
     "metadata": {},
     "output_type": "display_data"
    }
   ],
   "source": [
    "from copy import deepcopy\n",
    "\n",
    "import plotly.graph_objects as go\n",
    "from plotly.subplots import make_subplots\n",
    "\n",
    "combo_fig = make_subplots(rows=2, cols=1, shared_xaxes=True)\n",
    "\n",
    "for t in fig.data:\n",
    "    t = deepcopy(t)\n",
    "    t[\"marker\"][\"size\"] = 12\n",
    "    combo_fig.add_trace(\n",
    "        t,\n",
    "        row=1, col=1\n",
    "    )\n",
    "\n",
    "for t in fig_new.data:\n",
    "    t = deepcopy(t)\n",
    "    t[\"showlegend\"] = False\n",
    "    t[\"marker\"][\"size\"] = 12\n",
    "    combo_fig.add_trace(\n",
    "        t,\n",
    "        row=2, col=1\n",
    "    )\n",
    "\n",
    "combo_fig.update_layout({\"width\":900, \"height\":800,\n",
    "                         \"xaxis1\":{\"tickfont\":{\"size\":16}},\n",
    "                         \"xaxis2\":{\"tickfont\":{\"size\":16}, \"title\": \"Experimental formation energy (eV/atom)\", \"titlefont\":{\"size\":20}},\n",
    "                         \"yaxis1\":{\"tickfont\":{\"size\":16}, \"title\": \"Raw formation <br> energy (eV/atom)\", \"titlefont\":{\"size\":20}},\n",
    "                         \"yaxis2\":{\"tickfont\":{\"size\":16}, \"title\": \"Corrected formation <br> energy (eV/atom)\", \"titlefont\":{\"size\":20}},\n",
    "                         \"margin\":{\"t\":20}})\n",
    "\n",
    "combo_fig.add_annotation(x=-0.15, y=1.02, xref=\"paper\", yref=\"paper\", text=\"<b>a</b>\",\n",
    "                   showarrow=False, font={\"family\":\"Helvetica\",\"size\":28})\n",
    "combo_fig.add_annotation(x=-0.15, y=0.44, xref=\"paper\", yref=\"paper\", text=\"<b>b</b>\",\n",
    "                   showarrow=False, font={\"family\":\"Helvetica\",\"size\":28})\n",
    "\n",
    "combo_fig.write_image(\"carbonate_correction.png\", scale=3)\n",
    "combo_fig"
   ]
  },
  {
   "cell_type": "code",
   "execution_count": 32,
   "id": "f6956c12",
   "metadata": {},
   "outputs": [
    {
     "data": {
      "text/plain": [
       "(Scatter({\n",
       "     'hovertemplate': '<b>%{hovertext}</b><br><br>name=Ag2CO3<br>x=%{x}<br>y=%{y}<extra></extra>',\n",
       "     'hovertext': array(['Ag2CO3'], dtype=object),\n",
       "     'legendgroup': 'Ag2CO3',\n",
       "     'marker': {'color': '#1F77B4', 'symbol': 'circle'},\n",
       "     'mode': 'markers',\n",
       "     'name': 'Ag2CO3',\n",
       "     'orientation': 'v',\n",
       "     'showlegend': True,\n",
       "     'x': array([-4.52349074]),\n",
       "     'xaxis': 'x',\n",
       "     'y': array([-5.71636143]),\n",
       "     'yaxis': 'y'\n",
       " }),\n",
       " Scatter({\n",
       "     'hovertemplate': '<b>%{hovertext}</b><br><br>name=BaCO3<br>x=%{x}<br>y=%{y}<extra></extra>',\n",
       "     'hovertext': array(['BaCO3'], dtype=object),\n",
       "     'legendgroup': 'BaCO3',\n",
       "     'marker': {'color': '#FF7F0E', 'symbol': 'diamond'},\n",
       "     'mode': 'markers',\n",
       "     'name': 'BaCO3',\n",
       "     'orientation': 'v',\n",
       "     'showlegend': True,\n",
       "     'x': array([-11.72931073]),\n",
       "     'xaxis': 'x',\n",
       "     'y': array([-12.62042317]),\n",
       "     'yaxis': 'y'\n",
       " }),\n",
       " Scatter({\n",
       "     'hovertemplate': '<b>%{hovertext}</b><br><br>name=CaCO3<br>x=%{x}<br>y=%{y}<extra></extra>',\n",
       "     'hovertext': array(['CaCO3'], dtype=object),\n",
       "     'legendgroup': 'CaCO3',\n",
       "     'marker': {'color': '#2CA02C', 'symbol': 'square'},\n",
       "     'mode': 'markers',\n",
       "     'name': 'CaCO3',\n",
       "     'orientation': 'v',\n",
       "     'showlegend': True,\n",
       "     'x': array([-11.6970228]),\n",
       "     'xaxis': 'x',\n",
       "     'y': array([-12.63174242]),\n",
       "     'yaxis': 'y'\n",
       " }),\n",
       " Scatter({\n",
       "     'hovertemplate': '<b>%{hovertext}</b><br><br>name=CdCO3<br>x=%{x}<br>y=%{y}<extra></extra>',\n",
       "     'hovertext': array(['CdCO3'], dtype=object),\n",
       "     'legendgroup': 'CdCO3',\n",
       "     'marker': {'color': '#D62728', 'symbol': 'x'},\n",
       "     'mode': 'markers',\n",
       "     'name': 'CdCO3',\n",
       "     'orientation': 'v',\n",
       "     'showlegend': True,\n",
       "     'x': array([-7.01899774]),\n",
       "     'xaxis': 'x',\n",
       "     'y': array([-7.97432394]),\n",
       "     'yaxis': 'y'\n",
       " }),\n",
       " Scatter({\n",
       "     'hovertemplate': '<b>%{hovertext}</b><br><br>name=Cs2CO3<br>x=%{x}<br>y=%{y}<extra></extra>',\n",
       "     'hovertext': array(['Cs2CO3'], dtype=object),\n",
       "     'legendgroup': 'Cs2CO3',\n",
       "     'marker': {'color': '#9467BD', 'symbol': 'cross'},\n",
       "     'mode': 'markers',\n",
       "     'name': 'Cs2CO3',\n",
       "     'orientation': 'v',\n",
       "     'showlegend': True,\n",
       "     'x': array([-10.89413163]),\n",
       "     'xaxis': 'x',\n",
       "     'y': array([-11.46922379]),\n",
       "     'yaxis': 'y'\n",
       " }),\n",
       " Scatter({\n",
       "     'hovertemplate': '<b>%{hovertext}</b><br><br>name=FeCO3<br>x=%{x}<br>y=%{y}<extra></extra>',\n",
       "     'hovertext': array(['FeCO3'], dtype=object),\n",
       "     'legendgroup': 'FeCO3',\n",
       "     'marker': {'color': '#8C564B', 'symbol': 'circle'},\n",
       "     'mode': 'markers',\n",
       "     'name': 'FeCO3',\n",
       "     'orientation': 'v',\n",
       "     'showlegend': True,\n",
       "     'x': array([-6.92919723]),\n",
       "     'xaxis': 'x',\n",
       "     'y': array([-8.13289341]),\n",
       "     'yaxis': 'y'\n",
       " }),\n",
       " Scatter({\n",
       "     'hovertemplate': '<b>%{hovertext}</b><br><br>name=K2CO3<br>x=%{x}<br>y=%{y}<extra></extra>',\n",
       "     'hovertext': array(['K2CO3'], dtype=object),\n",
       "     'legendgroup': 'K2CO3',\n",
       "     'marker': {'color': '#E377C2', 'symbol': 'diamond'},\n",
       "     'mode': 'markers',\n",
       "     'name': 'K2CO3',\n",
       "     'orientation': 'v',\n",
       "     'showlegend': True,\n",
       "     'x': array([-11.02803768]),\n",
       "     'xaxis': 'x',\n",
       "     'y': array([-11.77446522]),\n",
       "     'yaxis': 'y'\n",
       " }),\n",
       " Scatter({\n",
       "     'hovertemplate': '<b>%{hovertext}</b><br><br>name=Li2CO3<br>x=%{x}<br>y=%{y}<extra></extra>',\n",
       "     'hovertext': array(['Li2CO3'], dtype=object),\n",
       "     'legendgroup': 'Li2CO3',\n",
       "     'marker': {'color': '#7F7F7F', 'symbol': 'square'},\n",
       "     'mode': 'markers',\n",
       "     'name': 'Li2CO3',\n",
       "     'orientation': 'v',\n",
       "     'showlegend': True,\n",
       "     'x': array([-11.72863863]),\n",
       "     'xaxis': 'x',\n",
       "     'y': array([-12.55876587]),\n",
       "     'yaxis': 'y'\n",
       " }),\n",
       " Scatter({\n",
       "     'hovertemplate': '<b>%{hovertext}</b><br><br>name=MgCO3<br>x=%{x}<br>y=%{y}<extra></extra>',\n",
       "     'hovertext': array(['MgCO3'], dtype=object),\n",
       "     'legendgroup': 'MgCO3',\n",
       "     'marker': {'color': '#BCBD22', 'symbol': 'x'},\n",
       "     'mode': 'markers',\n",
       "     'name': 'MgCO3',\n",
       "     'orientation': 'v',\n",
       "     'showlegend': True,\n",
       "     'x': array([-10.66327385]),\n",
       "     'xaxis': 'x',\n",
       "     'y': array([-11.3764933]),\n",
       "     'yaxis': 'y'\n",
       " }),\n",
       " Scatter({\n",
       "     'hovertemplate': '<b>%{hovertext}</b><br><br>name=MnCO3<br>x=%{x}<br>y=%{y}<extra></extra>',\n",
       "     'hovertext': array(['MnCO3'], dtype=object),\n",
       "     'legendgroup': 'MnCO3',\n",
       "     'marker': {'color': '#17BECF', 'symbol': 'cross'},\n",
       "     'mode': 'markers',\n",
       "     'name': 'MnCO3',\n",
       "     'orientation': 'v',\n",
       "     'showlegend': True,\n",
       "     'x': array([-8.44868759]),\n",
       "     'xaxis': 'x',\n",
       "     'y': array([-9.24901449]),\n",
       "     'yaxis': 'y'\n",
       " }),\n",
       " Scatter({\n",
       "     'hovertemplate': '<b>%{hovertext}</b><br><br>name=Na2CO3<br>x=%{x}<br>y=%{y}<extra></extra>',\n",
       "     'hovertext': array(['Na2CO3'], dtype=object),\n",
       "     'legendgroup': 'Na2CO3',\n",
       "     'marker': {'color': '#1F77B4', 'symbol': 'circle'},\n",
       "     'mode': 'markers',\n",
       "     'name': 'Na2CO3',\n",
       "     'orientation': 'v',\n",
       "     'showlegend': True,\n",
       "     'x': array([-10.85653378]),\n",
       "     'xaxis': 'x',\n",
       "     'y': array([-11.47689448]),\n",
       "     'yaxis': 'y'\n",
       " }),\n",
       " Scatter({\n",
       "     'hovertemplate': '<b>%{hovertext}</b><br><br>name=PbCO3<br>x=%{x}<br>y=%{y}<extra></extra>',\n",
       "     'hovertext': array(['PbCO3'], dtype=object),\n",
       "     'legendgroup': 'PbCO3',\n",
       "     'marker': {'color': '#FF7F0E', 'symbol': 'diamond'},\n",
       "     'mode': 'markers',\n",
       "     'name': 'PbCO3',\n",
       "     'orientation': 'v',\n",
       "     'showlegend': True,\n",
       "     'x': array([-6.51456313]),\n",
       "     'xaxis': 'x',\n",
       "     'y': array([-8.21196708]),\n",
       "     'yaxis': 'y'\n",
       " }),\n",
       " Scatter({\n",
       "     'hovertemplate': '<b>%{hovertext}</b><br><br>name=Rb2CO3<br>x=%{x}<br>y=%{y}<extra></extra>',\n",
       "     'hovertext': array(['Rb2CO3'], dtype=object),\n",
       "     'legendgroup': 'Rb2CO3',\n",
       "     'marker': {'color': '#2CA02C', 'symbol': 'square'},\n",
       "     'mode': 'markers',\n",
       "     'name': 'Rb2CO3',\n",
       "     'orientation': 'v',\n",
       "     'showlegend': True,\n",
       "     'x': array([-10.9723364]),\n",
       "     'xaxis': 'x',\n",
       "     'y': array([-11.56808918]),\n",
       "     'yaxis': 'y'\n",
       " }),\n",
       " Scatter({\n",
       "     'hovertemplate': '<b>%{hovertext}</b><br><br>name=SrCO3<br>x=%{x}<br>y=%{y}<extra></extra>',\n",
       "     'hovertext': array(['SrCO3'], dtype=object),\n",
       "     'legendgroup': 'SrCO3',\n",
       "     'marker': {'color': '#D62728', 'symbol': 'x'},\n",
       "     'mode': 'markers',\n",
       "     'name': 'SrCO3',\n",
       "     'orientation': 'v',\n",
       "     'showlegend': True,\n",
       "     'x': array([-11.79633684]),\n",
       "     'xaxis': 'x',\n",
       "     'y': array([-12.67454199]),\n",
       "     'yaxis': 'y'\n",
       " }),\n",
       " Scatter({\n",
       "     'hovertemplate': '<b>%{hovertext}</b><br><br>name=ZnCO3<br>x=%{x}<br>y=%{y}<extra></extra>',\n",
       "     'hovertext': array(['ZnCO3'], dtype=object),\n",
       "     'legendgroup': 'ZnCO3',\n",
       "     'marker': {'color': '#9467BD', 'symbol': 'cross'},\n",
       "     'mode': 'markers',\n",
       "     'name': 'ZnCO3',\n",
       "     'orientation': 'v',\n",
       "     'showlegend': True,\n",
       "     'x': array([-7.6004796]),\n",
       "     'xaxis': 'x',\n",
       "     'y': array([-8.24550688]),\n",
       "     'yaxis': 'y'\n",
       " }),\n",
       " Scatter({\n",
       "     'hovertemplate': 'x=%{x}<br>y=%{y}<extra></extra>',\n",
       "     'legendgroup': '',\n",
       "     'line': {'color': '#1F77B4', 'dash': 'solid'},\n",
       "     'marker': {'symbol': 'circle'},\n",
       "     'mode': 'lines',\n",
       "     'name': '',\n",
       "     'orientation': 'v',\n",
       "     'showlegend': False,\n",
       "     'x': array([-12,  -4]),\n",
       "     'xaxis': 'x',\n",
       "     'y': array([-12,  -4]),\n",
       "     'yaxis': 'y'\n",
       " }))"
      ]
     },
     "execution_count": 32,
     "metadata": {},
     "output_type": "execute_result"
    }
   ],
   "source": [
    "fig.data"
   ]
  },
  {
   "cell_type": "code",
   "execution_count": 19,
   "id": "c6d6321e",
   "metadata": {},
   "outputs": [
    {
     "data": {
      "application/vnd.plotly.v1+json": {
       "config": {
        "plotlyServerURL": "https://plot.ly"
       },
       "data": [
        {
         "hovertemplate": "<b>%{hovertext}</b><br><br>name=Ag2CO3<br>x=%{x}<br>y=%{y}<extra></extra>",
         "hovertext": [
          "Ag2CO3"
         ],
         "legendgroup": "Ag2CO3",
         "marker": {
          "color": "#1F77B4",
          "symbol": "circle"
         },
         "mode": "markers",
         "name": "Ag2CO3",
         "orientation": "v",
         "showlegend": true,
         "type": "scatter",
         "x": [
          -4.523490740122578
         ],
         "xaxis": "x",
         "y": [
          -4.886234187278925
         ],
         "yaxis": "y"
        },
        {
         "hovertemplate": "<b>%{hovertext}</b><br><br>name=BaCO3<br>x=%{x}<br>y=%{y}<extra></extra>",
         "hovertext": [
          "BaCO3"
         ],
         "legendgroup": "BaCO3",
         "marker": {
          "color": "#FF7F0E",
          "symbol": "diamond"
         },
         "mode": "markers",
         "name": "BaCO3",
         "orientation": "v",
         "showlegend": true,
         "type": "scatter",
         "x": [
          -11.729310728660677
         ],
         "xaxis": "x",
         "y": [
          -11.790295930442126
         ],
         "yaxis": "y"
        },
        {
         "hovertemplate": "<b>%{hovertext}</b><br><br>name=CaCO3<br>x=%{x}<br>y=%{y}<extra></extra>",
         "hovertext": [
          "CaCO3"
         ],
         "legendgroup": "CaCO3",
         "marker": {
          "color": "#2CA02C",
          "symbol": "square"
         },
         "mode": "markers",
         "name": "CaCO3",
         "orientation": "v",
         "showlegend": true,
         "type": "scatter",
         "x": [
          -11.697022798117317
         ],
         "xaxis": "x",
         "y": [
          -11.801615185195203
         ],
         "yaxis": "y"
        },
        {
         "hovertemplate": "<b>%{hovertext}</b><br><br>name=CdCO3<br>x=%{x}<br>y=%{y}<extra></extra>",
         "hovertext": [
          "CdCO3"
         ],
         "legendgroup": "CdCO3",
         "marker": {
          "color": "#D62728",
          "symbol": "x"
         },
         "mode": "markers",
         "name": "CdCO3",
         "orientation": "v",
         "showlegend": true,
         "type": "scatter",
         "x": [
          -7.018997735710281
         ],
         "xaxis": "x",
         "y": [
          -7.144196697015953
         ],
         "yaxis": "y"
        },
        {
         "hovertemplate": "<b>%{hovertext}</b><br><br>name=Cs2CO3<br>x=%{x}<br>y=%{y}<extra></extra>",
         "hovertext": [
          "Cs2CO3"
         ],
         "legendgroup": "Cs2CO3",
         "marker": {
          "color": "#9467BD",
          "symbol": "cross"
         },
         "mode": "markers",
         "name": "Cs2CO3",
         "orientation": "v",
         "showlegend": true,
         "type": "scatter",
         "x": [
          -10.89413162728376
         ],
         "xaxis": "x",
         "y": [
          -10.639096552529349
         ],
         "yaxis": "y"
        },
        {
         "hovertemplate": "<b>%{hovertext}</b><br><br>name=FeCO3<br>x=%{x}<br>y=%{y}<extra></extra>",
         "hovertext": [
          "FeCO3"
         ],
         "legendgroup": "FeCO3",
         "marker": {
          "color": "#8C564B",
          "symbol": "circle"
         },
         "mode": "markers",
         "name": "FeCO3",
         "orientation": "v",
         "showlegend": true,
         "type": "scatter",
         "x": [
          -6.929197226894303
         ],
         "xaxis": "x",
         "y": [
          -7.302766174209561
         ],
         "yaxis": "y"
        },
        {
         "hovertemplate": "<b>%{hovertext}</b><br><br>name=K2CO3<br>x=%{x}<br>y=%{y}<extra></extra>",
         "hovertext": [
          "K2CO3"
         ],
         "legendgroup": "K2CO3",
         "marker": {
          "color": "#E377C2",
          "symbol": "diamond"
         },
         "mode": "markers",
         "name": "K2CO3",
         "orientation": "v",
         "showlegend": true,
         "type": "scatter",
         "x": [
          -11.028037676944544
         ],
         "xaxis": "x",
         "y": [
          -10.94433797844042
         ],
         "yaxis": "y"
        },
        {
         "hovertemplate": "<b>%{hovertext}</b><br><br>name=Li2CO3<br>x=%{x}<br>y=%{y}<extra></extra>",
         "hovertext": [
          "Li2CO3"
         ],
         "legendgroup": "Li2CO3",
         "marker": {
          "color": "#7F7F7F",
          "symbol": "square"
         },
         "mode": "markers",
         "name": "Li2CO3",
         "orientation": "v",
         "showlegend": true,
         "type": "scatter",
         "x": [
          -11.728638626956926
         ],
         "xaxis": "x",
         "y": [
          -11.728638634360346
         ],
         "yaxis": "y"
        },
        {
         "hovertemplate": "<b>%{hovertext}</b><br><br>name=MgCO3<br>x=%{x}<br>y=%{y}<extra></extra>",
         "hovertext": [
          "MgCO3"
         ],
         "legendgroup": "MgCO3",
         "marker": {
          "color": "#BCBD22",
          "symbol": "x"
         },
         "mode": "markers",
         "name": "MgCO3",
         "orientation": "v",
         "showlegend": true,
         "type": "scatter",
         "x": [
          -10.66327385453301
         ],
         "xaxis": "x",
         "y": [
          -10.546366056735108
         ],
         "yaxis": "y"
        },
        {
         "hovertemplate": "<b>%{hovertext}</b><br><br>name=MnCO3<br>x=%{x}<br>y=%{y}<extra></extra>",
         "hovertext": [
          "MnCO3"
         ],
         "legendgroup": "MnCO3",
         "marker": {
          "color": "#17BECF",
          "symbol": "cross"
         },
         "mode": "markers",
         "name": "MnCO3",
         "orientation": "v",
         "showlegend": true,
         "type": "scatter",
         "x": [
          -8.448687588375233
         ],
         "xaxis": "x",
         "y": [
          -8.41888724966598
         ],
         "yaxis": "y"
        },
        {
         "hovertemplate": "<b>%{hovertext}</b><br><br>name=Na2CO3<br>x=%{x}<br>y=%{y}<extra></extra>",
         "hovertext": [
          "Na2CO3"
         ],
         "legendgroup": "Na2CO3",
         "marker": {
          "color": "#1F77B4",
          "symbol": "circle"
         },
         "mode": "markers",
         "name": "Na2CO3",
         "orientation": "v",
         "showlegend": true,
         "type": "scatter",
         "x": [
          -10.856533778555413
         ],
         "xaxis": "x",
         "y": [
          -10.646767240972132
         ],
         "yaxis": "y"
        },
        {
         "hovertemplate": "<b>%{hovertext}</b><br><br>name=PbCO3<br>x=%{x}<br>y=%{y}<extra></extra>",
         "hovertext": [
          "PbCO3"
         ],
         "legendgroup": "PbCO3",
         "marker": {
          "color": "#FF7F0E",
          "symbol": "diamond"
         },
         "mode": "markers",
         "name": "PbCO3",
         "orientation": "v",
         "showlegend": true,
         "type": "scatter",
         "x": [
          -6.514563134816661
         ],
         "xaxis": "x",
         "y": [
          -7.381839836580582
         ],
         "yaxis": "y"
        },
        {
         "hovertemplate": "<b>%{hovertext}</b><br><br>name=Rb2CO3<br>x=%{x}<br>y=%{y}<extra></extra>",
         "hovertext": [
          "Rb2CO3"
         ],
         "legendgroup": "Rb2CO3",
         "marker": {
          "color": "#2CA02C",
          "symbol": "square"
         },
         "mode": "markers",
         "name": "Rb2CO3",
         "orientation": "v",
         "showlegend": true,
         "type": "scatter",
         "x": [
          -10.97233639890869
         ],
         "xaxis": "x",
         "y": [
          -10.737961936758966
         ],
         "yaxis": "y"
        },
        {
         "hovertemplate": "<b>%{hovertext}</b><br><br>name=SrCO3<br>x=%{x}<br>y=%{y}<extra></extra>",
         "hovertext": [
          "SrCO3"
         ],
         "legendgroup": "SrCO3",
         "marker": {
          "color": "#D62728",
          "symbol": "x"
         },
         "mode": "markers",
         "name": "SrCO3",
         "orientation": "v",
         "showlegend": true,
         "type": "scatter",
         "x": [
          -11.796336838082896
         ],
         "xaxis": "x",
         "y": [
          -11.84441475078805
         ],
         "yaxis": "y"
        },
        {
         "hovertemplate": "<b>%{hovertext}</b><br><br>name=ZnCO3<br>x=%{x}<br>y=%{y}<extra></extra>",
         "hovertext": [
          "ZnCO3"
         ],
         "legendgroup": "ZnCO3",
         "marker": {
          "color": "#9467BD",
          "symbol": "cross"
         },
         "mode": "markers",
         "name": "ZnCO3",
         "orientation": "v",
         "showlegend": true,
         "type": "scatter",
         "x": [
          -7.600479604861418
         ],
         "xaxis": "x",
         "y": [
          -7.415379642718673
         ],
         "yaxis": "y"
        },
        {
         "hovertemplate": "x=%{x}<br>y=%{y}<extra></extra>",
         "legendgroup": "",
         "line": {
          "color": "#1F77B4",
          "dash": "solid"
         },
         "marker": {
          "symbol": "circle"
         },
         "mode": "lines",
         "name": "",
         "orientation": "v",
         "showlegend": false,
         "type": "scatter",
         "x": [
          -12,
          -4
         ],
         "xaxis": "x",
         "y": [
          -12,
          -4
         ],
         "yaxis": "y"
        }
       ],
       "layout": {
        "template": {
         "data": {
          "bar": [
           {
            "error_x": {
             "color": "rgb(36,36,36)"
            },
            "error_y": {
             "color": "rgb(36,36,36)"
            },
            "marker": {
             "line": {
              "color": "white",
              "width": 0.5
             },
             "pattern": {
              "fillmode": "overlay",
              "size": 10,
              "solidity": 0.2
             }
            },
            "type": "bar"
           }
          ],
          "barpolar": [
           {
            "marker": {
             "line": {
              "color": "white",
              "width": 0.5
             },
             "pattern": {
              "fillmode": "overlay",
              "size": 10,
              "solidity": 0.2
             }
            },
            "type": "barpolar"
           }
          ],
          "carpet": [
           {
            "aaxis": {
             "endlinecolor": "rgb(36,36,36)",
             "gridcolor": "white",
             "linecolor": "white",
             "minorgridcolor": "white",
             "startlinecolor": "rgb(36,36,36)"
            },
            "baxis": {
             "endlinecolor": "rgb(36,36,36)",
             "gridcolor": "white",
             "linecolor": "white",
             "minorgridcolor": "white",
             "startlinecolor": "rgb(36,36,36)"
            },
            "type": "carpet"
           }
          ],
          "choropleth": [
           {
            "colorbar": {
             "outlinewidth": 1,
             "tickcolor": "rgb(36,36,36)",
             "ticks": "outside"
            },
            "type": "choropleth"
           }
          ],
          "contour": [
           {
            "colorbar": {
             "outlinewidth": 1,
             "tickcolor": "rgb(36,36,36)",
             "ticks": "outside"
            },
            "colorscale": [
             [
              0,
              "#440154"
             ],
             [
              0.1111111111111111,
              "#482878"
             ],
             [
              0.2222222222222222,
              "#3e4989"
             ],
             [
              0.3333333333333333,
              "#31688e"
             ],
             [
              0.4444444444444444,
              "#26828e"
             ],
             [
              0.5555555555555556,
              "#1f9e89"
             ],
             [
              0.6666666666666666,
              "#35b779"
             ],
             [
              0.7777777777777778,
              "#6ece58"
             ],
             [
              0.8888888888888888,
              "#b5de2b"
             ],
             [
              1,
              "#fde725"
             ]
            ],
            "type": "contour"
           }
          ],
          "contourcarpet": [
           {
            "colorbar": {
             "outlinewidth": 1,
             "tickcolor": "rgb(36,36,36)",
             "ticks": "outside"
            },
            "type": "contourcarpet"
           }
          ],
          "heatmap": [
           {
            "colorbar": {
             "outlinewidth": 1,
             "tickcolor": "rgb(36,36,36)",
             "ticks": "outside"
            },
            "colorscale": [
             [
              0,
              "#440154"
             ],
             [
              0.1111111111111111,
              "#482878"
             ],
             [
              0.2222222222222222,
              "#3e4989"
             ],
             [
              0.3333333333333333,
              "#31688e"
             ],
             [
              0.4444444444444444,
              "#26828e"
             ],
             [
              0.5555555555555556,
              "#1f9e89"
             ],
             [
              0.6666666666666666,
              "#35b779"
             ],
             [
              0.7777777777777778,
              "#6ece58"
             ],
             [
              0.8888888888888888,
              "#b5de2b"
             ],
             [
              1,
              "#fde725"
             ]
            ],
            "type": "heatmap"
           }
          ],
          "heatmapgl": [
           {
            "colorbar": {
             "outlinewidth": 1,
             "tickcolor": "rgb(36,36,36)",
             "ticks": "outside"
            },
            "colorscale": [
             [
              0,
              "#440154"
             ],
             [
              0.1111111111111111,
              "#482878"
             ],
             [
              0.2222222222222222,
              "#3e4989"
             ],
             [
              0.3333333333333333,
              "#31688e"
             ],
             [
              0.4444444444444444,
              "#26828e"
             ],
             [
              0.5555555555555556,
              "#1f9e89"
             ],
             [
              0.6666666666666666,
              "#35b779"
             ],
             [
              0.7777777777777778,
              "#6ece58"
             ],
             [
              0.8888888888888888,
              "#b5de2b"
             ],
             [
              1,
              "#fde725"
             ]
            ],
            "type": "heatmapgl"
           }
          ],
          "histogram": [
           {
            "marker": {
             "line": {
              "color": "white",
              "width": 0.6
             }
            },
            "type": "histogram"
           }
          ],
          "histogram2d": [
           {
            "colorbar": {
             "outlinewidth": 1,
             "tickcolor": "rgb(36,36,36)",
             "ticks": "outside"
            },
            "colorscale": [
             [
              0,
              "#440154"
             ],
             [
              0.1111111111111111,
              "#482878"
             ],
             [
              0.2222222222222222,
              "#3e4989"
             ],
             [
              0.3333333333333333,
              "#31688e"
             ],
             [
              0.4444444444444444,
              "#26828e"
             ],
             [
              0.5555555555555556,
              "#1f9e89"
             ],
             [
              0.6666666666666666,
              "#35b779"
             ],
             [
              0.7777777777777778,
              "#6ece58"
             ],
             [
              0.8888888888888888,
              "#b5de2b"
             ],
             [
              1,
              "#fde725"
             ]
            ],
            "type": "histogram2d"
           }
          ],
          "histogram2dcontour": [
           {
            "colorbar": {
             "outlinewidth": 1,
             "tickcolor": "rgb(36,36,36)",
             "ticks": "outside"
            },
            "colorscale": [
             [
              0,
              "#440154"
             ],
             [
              0.1111111111111111,
              "#482878"
             ],
             [
              0.2222222222222222,
              "#3e4989"
             ],
             [
              0.3333333333333333,
              "#31688e"
             ],
             [
              0.4444444444444444,
              "#26828e"
             ],
             [
              0.5555555555555556,
              "#1f9e89"
             ],
             [
              0.6666666666666666,
              "#35b779"
             ],
             [
              0.7777777777777778,
              "#6ece58"
             ],
             [
              0.8888888888888888,
              "#b5de2b"
             ],
             [
              1,
              "#fde725"
             ]
            ],
            "type": "histogram2dcontour"
           }
          ],
          "mesh3d": [
           {
            "colorbar": {
             "outlinewidth": 1,
             "tickcolor": "rgb(36,36,36)",
             "ticks": "outside"
            },
            "type": "mesh3d"
           }
          ],
          "parcoords": [
           {
            "line": {
             "colorbar": {
              "outlinewidth": 1,
              "tickcolor": "rgb(36,36,36)",
              "ticks": "outside"
             }
            },
            "type": "parcoords"
           }
          ],
          "pie": [
           {
            "automargin": true,
            "type": "pie"
           }
          ],
          "scatter": [
           {
            "fillpattern": {
             "fillmode": "overlay",
             "size": 10,
             "solidity": 0.2
            },
            "type": "scatter"
           }
          ],
          "scatter3d": [
           {
            "line": {
             "colorbar": {
              "outlinewidth": 1,
              "tickcolor": "rgb(36,36,36)",
              "ticks": "outside"
             }
            },
            "marker": {
             "colorbar": {
              "outlinewidth": 1,
              "tickcolor": "rgb(36,36,36)",
              "ticks": "outside"
             }
            },
            "type": "scatter3d"
           }
          ],
          "scattercarpet": [
           {
            "marker": {
             "colorbar": {
              "outlinewidth": 1,
              "tickcolor": "rgb(36,36,36)",
              "ticks": "outside"
             }
            },
            "type": "scattercarpet"
           }
          ],
          "scattergeo": [
           {
            "marker": {
             "colorbar": {
              "outlinewidth": 1,
              "tickcolor": "rgb(36,36,36)",
              "ticks": "outside"
             }
            },
            "type": "scattergeo"
           }
          ],
          "scattergl": [
           {
            "marker": {
             "colorbar": {
              "outlinewidth": 1,
              "tickcolor": "rgb(36,36,36)",
              "ticks": "outside"
             }
            },
            "type": "scattergl"
           }
          ],
          "scattermapbox": [
           {
            "marker": {
             "colorbar": {
              "outlinewidth": 1,
              "tickcolor": "rgb(36,36,36)",
              "ticks": "outside"
             }
            },
            "type": "scattermapbox"
           }
          ],
          "scatterpolar": [
           {
            "marker": {
             "colorbar": {
              "outlinewidth": 1,
              "tickcolor": "rgb(36,36,36)",
              "ticks": "outside"
             }
            },
            "type": "scatterpolar"
           }
          ],
          "scatterpolargl": [
           {
            "marker": {
             "colorbar": {
              "outlinewidth": 1,
              "tickcolor": "rgb(36,36,36)",
              "ticks": "outside"
             }
            },
            "type": "scatterpolargl"
           }
          ],
          "scatterternary": [
           {
            "marker": {
             "colorbar": {
              "outlinewidth": 1,
              "tickcolor": "rgb(36,36,36)",
              "ticks": "outside"
             }
            },
            "type": "scatterternary"
           }
          ],
          "surface": [
           {
            "colorbar": {
             "outlinewidth": 1,
             "tickcolor": "rgb(36,36,36)",
             "ticks": "outside"
            },
            "colorscale": [
             [
              0,
              "#440154"
             ],
             [
              0.1111111111111111,
              "#482878"
             ],
             [
              0.2222222222222222,
              "#3e4989"
             ],
             [
              0.3333333333333333,
              "#31688e"
             ],
             [
              0.4444444444444444,
              "#26828e"
             ],
             [
              0.5555555555555556,
              "#1f9e89"
             ],
             [
              0.6666666666666666,
              "#35b779"
             ],
             [
              0.7777777777777778,
              "#6ece58"
             ],
             [
              0.8888888888888888,
              "#b5de2b"
             ],
             [
              1,
              "#fde725"
             ]
            ],
            "type": "surface"
           }
          ],
          "table": [
           {
            "cells": {
             "fill": {
              "color": "rgb(237,237,237)"
             },
             "line": {
              "color": "white"
             }
            },
            "header": {
             "fill": {
              "color": "rgb(217,217,217)"
             },
             "line": {
              "color": "white"
             }
            },
            "type": "table"
           }
          ]
         },
         "layout": {
          "annotationdefaults": {
           "arrowhead": 0,
           "arrowwidth": 1
          },
          "autotypenumbers": "strict",
          "coloraxis": {
           "colorbar": {
            "outlinewidth": 1,
            "tickcolor": "rgb(36,36,36)",
            "ticks": "outside"
           }
          },
          "colorscale": {
           "diverging": [
            [
             0,
             "rgb(103,0,31)"
            ],
            [
             0.1,
             "rgb(178,24,43)"
            ],
            [
             0.2,
             "rgb(214,96,77)"
            ],
            [
             0.3,
             "rgb(244,165,130)"
            ],
            [
             0.4,
             "rgb(253,219,199)"
            ],
            [
             0.5,
             "rgb(247,247,247)"
            ],
            [
             0.6,
             "rgb(209,229,240)"
            ],
            [
             0.7,
             "rgb(146,197,222)"
            ],
            [
             0.8,
             "rgb(67,147,195)"
            ],
            [
             0.9,
             "rgb(33,102,172)"
            ],
            [
             1,
             "rgb(5,48,97)"
            ]
           ],
           "sequential": [
            [
             0,
             "#440154"
            ],
            [
             0.1111111111111111,
             "#482878"
            ],
            [
             0.2222222222222222,
             "#3e4989"
            ],
            [
             0.3333333333333333,
             "#31688e"
            ],
            [
             0.4444444444444444,
             "#26828e"
            ],
            [
             0.5555555555555556,
             "#1f9e89"
            ],
            [
             0.6666666666666666,
             "#35b779"
            ],
            [
             0.7777777777777778,
             "#6ece58"
            ],
            [
             0.8888888888888888,
             "#b5de2b"
            ],
            [
             1,
             "#fde725"
            ]
           ],
           "sequentialminus": [
            [
             0,
             "#440154"
            ],
            [
             0.1111111111111111,
             "#482878"
            ],
            [
             0.2222222222222222,
             "#3e4989"
            ],
            [
             0.3333333333333333,
             "#31688e"
            ],
            [
             0.4444444444444444,
             "#26828e"
            ],
            [
             0.5555555555555556,
             "#1f9e89"
            ],
            [
             0.6666666666666666,
             "#35b779"
            ],
            [
             0.7777777777777778,
             "#6ece58"
            ],
            [
             0.8888888888888888,
             "#b5de2b"
            ],
            [
             1,
             "#fde725"
            ]
           ]
          },
          "colorway": [
           "#1F77B4",
           "#FF7F0E",
           "#2CA02C",
           "#D62728",
           "#9467BD",
           "#8C564B",
           "#E377C2",
           "#7F7F7F",
           "#BCBD22",
           "#17BECF"
          ],
          "font": {
           "color": "rgb(36,36,36)"
          },
          "geo": {
           "bgcolor": "white",
           "lakecolor": "white",
           "landcolor": "white",
           "showlakes": true,
           "showland": true,
           "subunitcolor": "white"
          },
          "hoverlabel": {
           "align": "left"
          },
          "hovermode": "closest",
          "mapbox": {
           "style": "light"
          },
          "paper_bgcolor": "white",
          "plot_bgcolor": "white",
          "polar": {
           "angularaxis": {
            "gridcolor": "rgb(232,232,232)",
            "linecolor": "rgb(36,36,36)",
            "showgrid": false,
            "showline": true,
            "ticks": "outside"
           },
           "bgcolor": "white",
           "radialaxis": {
            "gridcolor": "rgb(232,232,232)",
            "linecolor": "rgb(36,36,36)",
            "showgrid": false,
            "showline": true,
            "ticks": "outside"
           }
          },
          "scene": {
           "xaxis": {
            "backgroundcolor": "white",
            "gridcolor": "rgb(232,232,232)",
            "gridwidth": 2,
            "linecolor": "rgb(36,36,36)",
            "showbackground": true,
            "showgrid": false,
            "showline": true,
            "ticks": "outside",
            "zeroline": false,
            "zerolinecolor": "rgb(36,36,36)"
           },
           "yaxis": {
            "backgroundcolor": "white",
            "gridcolor": "rgb(232,232,232)",
            "gridwidth": 2,
            "linecolor": "rgb(36,36,36)",
            "showbackground": true,
            "showgrid": false,
            "showline": true,
            "ticks": "outside",
            "zeroline": false,
            "zerolinecolor": "rgb(36,36,36)"
           },
           "zaxis": {
            "backgroundcolor": "white",
            "gridcolor": "rgb(232,232,232)",
            "gridwidth": 2,
            "linecolor": "rgb(36,36,36)",
            "showbackground": true,
            "showgrid": false,
            "showline": true,
            "ticks": "outside",
            "zeroline": false,
            "zerolinecolor": "rgb(36,36,36)"
           }
          },
          "shapedefaults": {
           "fillcolor": "black",
           "line": {
            "width": 0
           },
           "opacity": 0.3
          },
          "ternary": {
           "aaxis": {
            "gridcolor": "rgb(232,232,232)",
            "linecolor": "rgb(36,36,36)",
            "showgrid": false,
            "showline": true,
            "ticks": "outside"
           },
           "baxis": {
            "gridcolor": "rgb(232,232,232)",
            "linecolor": "rgb(36,36,36)",
            "showgrid": false,
            "showline": true,
            "ticks": "outside"
           },
           "bgcolor": "white",
           "caxis": {
            "gridcolor": "rgb(232,232,232)",
            "linecolor": "rgb(36,36,36)",
            "showgrid": false,
            "showline": true,
            "ticks": "outside"
           }
          },
          "title": {
           "x": 0.05
          },
          "xaxis": {
           "automargin": true,
           "gridcolor": "rgb(232,232,232)",
           "linecolor": "rgb(36,36,36)",
           "showgrid": false,
           "showline": true,
           "ticks": "outside",
           "title": {
            "standoff": 15
           },
           "zeroline": false,
           "zerolinecolor": "rgb(36,36,36)"
          },
          "yaxis": {
           "automargin": true,
           "gridcolor": "rgb(232,232,232)",
           "linecolor": "rgb(36,36,36)",
           "showgrid": false,
           "showline": true,
           "ticks": "outside",
           "title": {
            "standoff": 15
           },
           "zeroline": false,
           "zerolinecolor": "rgb(36,36,36)"
          }
         }
        },
        "title": {
         "text": "Corrected carbonate formation energies"
        },
        "xaxis": {
         "title": {
          "text": "Experimental dGf (eV/f.u.)"
         }
        },
        "yaxis": {
         "title": {
          "text": "Calculated dGf (eV/f.u.)"
         }
        }
       }
      },
      "text/html": [
       "<div>                            <div id=\"5563817f-e923-4bc7-8163-ac4f7b8a7ced\" class=\"plotly-graph-div\" style=\"height:525px; width:100%;\"></div>            <script type=\"text/javascript\">                require([\"plotly\"], function(Plotly) {                    window.PLOTLYENV=window.PLOTLYENV || {};                                    if (document.getElementById(\"5563817f-e923-4bc7-8163-ac4f7b8a7ced\")) {                    Plotly.newPlot(                        \"5563817f-e923-4bc7-8163-ac4f7b8a7ced\",                        [{\"hovertemplate\":\"<b>%{hovertext}</b><br><br>name=Ag2CO3<br>x=%{x}<br>y=%{y}<extra></extra>\",\"hovertext\":[\"Ag2CO3\"],\"legendgroup\":\"Ag2CO3\",\"marker\":{\"color\":\"#1F77B4\",\"symbol\":\"circle\"},\"mode\":\"markers\",\"name\":\"Ag2CO3\",\"orientation\":\"v\",\"showlegend\":true,\"x\":[-4.523490740122578],\"xaxis\":\"x\",\"y\":[-4.886234187278925],\"yaxis\":\"y\",\"type\":\"scatter\"},{\"hovertemplate\":\"<b>%{hovertext}</b><br><br>name=BaCO3<br>x=%{x}<br>y=%{y}<extra></extra>\",\"hovertext\":[\"BaCO3\"],\"legendgroup\":\"BaCO3\",\"marker\":{\"color\":\"#FF7F0E\",\"symbol\":\"diamond\"},\"mode\":\"markers\",\"name\":\"BaCO3\",\"orientation\":\"v\",\"showlegend\":true,\"x\":[-11.729310728660675],\"xaxis\":\"x\",\"y\":[-11.790295930442126],\"yaxis\":\"y\",\"type\":\"scatter\"},{\"hovertemplate\":\"<b>%{hovertext}</b><br><br>name=CaCO3<br>x=%{x}<br>y=%{y}<extra></extra>\",\"hovertext\":[\"CaCO3\"],\"legendgroup\":\"CaCO3\",\"marker\":{\"color\":\"#2CA02C\",\"symbol\":\"square\"},\"mode\":\"markers\",\"name\":\"CaCO3\",\"orientation\":\"v\",\"showlegend\":true,\"x\":[-11.697022798117317],\"xaxis\":\"x\",\"y\":[-11.801615185195205],\"yaxis\":\"y\",\"type\":\"scatter\"},{\"hovertemplate\":\"<b>%{hovertext}</b><br><br>name=CdCO3<br>x=%{x}<br>y=%{y}<extra></extra>\",\"hovertext\":[\"CdCO3\"],\"legendgroup\":\"CdCO3\",\"marker\":{\"color\":\"#D62728\",\"symbol\":\"x\"},\"mode\":\"markers\",\"name\":\"CdCO3\",\"orientation\":\"v\",\"showlegend\":true,\"x\":[-7.018997735710281],\"xaxis\":\"x\",\"y\":[-7.144196697015953],\"yaxis\":\"y\",\"type\":\"scatter\"},{\"hovertemplate\":\"<b>%{hovertext}</b><br><br>name=Cs2CO3<br>x=%{x}<br>y=%{y}<extra></extra>\",\"hovertext\":[\"Cs2CO3\"],\"legendgroup\":\"Cs2CO3\",\"marker\":{\"color\":\"#9467BD\",\"symbol\":\"cross\"},\"mode\":\"markers\",\"name\":\"Cs2CO3\",\"orientation\":\"v\",\"showlegend\":true,\"x\":[-10.894131627283759],\"xaxis\":\"x\",\"y\":[-10.639096552529349],\"yaxis\":\"y\",\"type\":\"scatter\"},{\"hovertemplate\":\"<b>%{hovertext}</b><br><br>name=FeCO3<br>x=%{x}<br>y=%{y}<extra></extra>\",\"hovertext\":[\"FeCO3\"],\"legendgroup\":\"FeCO3\",\"marker\":{\"color\":\"#8C564B\",\"symbol\":\"circle\"},\"mode\":\"markers\",\"name\":\"FeCO3\",\"orientation\":\"v\",\"showlegend\":true,\"x\":[-6.929197226894303],\"xaxis\":\"x\",\"y\":[-7.302766174209561],\"yaxis\":\"y\",\"type\":\"scatter\"},{\"hovertemplate\":\"<b>%{hovertext}</b><br><br>name=K2CO3<br>x=%{x}<br>y=%{y}<extra></extra>\",\"hovertext\":[\"K2CO3\"],\"legendgroup\":\"K2CO3\",\"marker\":{\"color\":\"#E377C2\",\"symbol\":\"diamond\"},\"mode\":\"markers\",\"name\":\"K2CO3\",\"orientation\":\"v\",\"showlegend\":true,\"x\":[-11.028037676944543],\"xaxis\":\"x\",\"y\":[-10.94433797844042],\"yaxis\":\"y\",\"type\":\"scatter\"},{\"hovertemplate\":\"<b>%{hovertext}</b><br><br>name=Li2CO3<br>x=%{x}<br>y=%{y}<extra></extra>\",\"hovertext\":[\"Li2CO3\"],\"legendgroup\":\"Li2CO3\",\"marker\":{\"color\":\"#7F7F7F\",\"symbol\":\"square\"},\"mode\":\"markers\",\"name\":\"Li2CO3\",\"orientation\":\"v\",\"showlegend\":true,\"x\":[-11.728638626956926],\"xaxis\":\"x\",\"y\":[-11.728638634360346],\"yaxis\":\"y\",\"type\":\"scatter\"},{\"hovertemplate\":\"<b>%{hovertext}</b><br><br>name=MgCO3<br>x=%{x}<br>y=%{y}<extra></extra>\",\"hovertext\":[\"MgCO3\"],\"legendgroup\":\"MgCO3\",\"marker\":{\"color\":\"#BCBD22\",\"symbol\":\"x\"},\"mode\":\"markers\",\"name\":\"MgCO3\",\"orientation\":\"v\",\"showlegend\":true,\"x\":[-10.66327385453301],\"xaxis\":\"x\",\"y\":[-10.546366056735108],\"yaxis\":\"y\",\"type\":\"scatter\"},{\"hovertemplate\":\"<b>%{hovertext}</b><br><br>name=MnCO3<br>x=%{x}<br>y=%{y}<extra></extra>\",\"hovertext\":[\"MnCO3\"],\"legendgroup\":\"MnCO3\",\"marker\":{\"color\":\"#17BECF\",\"symbol\":\"cross\"},\"mode\":\"markers\",\"name\":\"MnCO3\",\"orientation\":\"v\",\"showlegend\":true,\"x\":[-8.448687588375233],\"xaxis\":\"x\",\"y\":[-8.41888724966598],\"yaxis\":\"y\",\"type\":\"scatter\"},{\"hovertemplate\":\"<b>%{hovertext}</b><br><br>name=Na2CO3<br>x=%{x}<br>y=%{y}<extra></extra>\",\"hovertext\":[\"Na2CO3\"],\"legendgroup\":\"Na2CO3\",\"marker\":{\"color\":\"#1F77B4\",\"symbol\":\"circle\"},\"mode\":\"markers\",\"name\":\"Na2CO3\",\"orientation\":\"v\",\"showlegend\":true,\"x\":[-10.856533778555411],\"xaxis\":\"x\",\"y\":[-10.646767240972132],\"yaxis\":\"y\",\"type\":\"scatter\"},{\"hovertemplate\":\"<b>%{hovertext}</b><br><br>name=PbCO3<br>x=%{x}<br>y=%{y}<extra></extra>\",\"hovertext\":[\"PbCO3\"],\"legendgroup\":\"PbCO3\",\"marker\":{\"color\":\"#FF7F0E\",\"symbol\":\"diamond\"},\"mode\":\"markers\",\"name\":\"PbCO3\",\"orientation\":\"v\",\"showlegend\":true,\"x\":[-6.514563134816661],\"xaxis\":\"x\",\"y\":[-7.381839836580582],\"yaxis\":\"y\",\"type\":\"scatter\"},{\"hovertemplate\":\"<b>%{hovertext}</b><br><br>name=Rb2CO3<br>x=%{x}<br>y=%{y}<extra></extra>\",\"hovertext\":[\"Rb2CO3\"],\"legendgroup\":\"Rb2CO3\",\"marker\":{\"color\":\"#2CA02C\",\"symbol\":\"square\"},\"mode\":\"markers\",\"name\":\"Rb2CO3\",\"orientation\":\"v\",\"showlegend\":true,\"x\":[-10.97233639890869],\"xaxis\":\"x\",\"y\":[-10.737961936758966],\"yaxis\":\"y\",\"type\":\"scatter\"},{\"hovertemplate\":\"<b>%{hovertext}</b><br><br>name=SrCO3<br>x=%{x}<br>y=%{y}<extra></extra>\",\"hovertext\":[\"SrCO3\"],\"legendgroup\":\"SrCO3\",\"marker\":{\"color\":\"#D62728\",\"symbol\":\"x\"},\"mode\":\"markers\",\"name\":\"SrCO3\",\"orientation\":\"v\",\"showlegend\":true,\"x\":[-11.796336838082897],\"xaxis\":\"x\",\"y\":[-11.84441475078805],\"yaxis\":\"y\",\"type\":\"scatter\"},{\"hovertemplate\":\"<b>%{hovertext}</b><br><br>name=ZnCO3<br>x=%{x}<br>y=%{y}<extra></extra>\",\"hovertext\":[\"ZnCO3\"],\"legendgroup\":\"ZnCO3\",\"marker\":{\"color\":\"#9467BD\",\"symbol\":\"cross\"},\"mode\":\"markers\",\"name\":\"ZnCO3\",\"orientation\":\"v\",\"showlegend\":true,\"x\":[-7.600479604861418],\"xaxis\":\"x\",\"y\":[-7.415379642718673],\"yaxis\":\"y\",\"type\":\"scatter\"},{\"hovertemplate\":\"x=%{x}<br>y=%{y}<extra></extra>\",\"legendgroup\":\"\",\"line\":{\"color\":\"#1F77B4\",\"dash\":\"solid\"},\"marker\":{\"symbol\":\"circle\"},\"mode\":\"lines\",\"name\":\"\",\"orientation\":\"v\",\"showlegend\":false,\"x\":[-12,-4],\"xaxis\":\"x\",\"y\":[-12,-4],\"yaxis\":\"y\",\"type\":\"scatter\"}],                        {\"template\":{\"data\":{\"histogram2dcontour\":[{\"type\":\"histogram2dcontour\",\"colorbar\":{\"outlinewidth\":1,\"tickcolor\":\"rgb(36,36,36)\",\"ticks\":\"outside\"},\"colorscale\":[[0.0,\"#440154\"],[0.1111111111111111,\"#482878\"],[0.2222222222222222,\"#3e4989\"],[0.3333333333333333,\"#31688e\"],[0.4444444444444444,\"#26828e\"],[0.5555555555555556,\"#1f9e89\"],[0.6666666666666666,\"#35b779\"],[0.7777777777777778,\"#6ece58\"],[0.8888888888888888,\"#b5de2b\"],[1.0,\"#fde725\"]]}],\"choropleth\":[{\"type\":\"choropleth\",\"colorbar\":{\"outlinewidth\":1,\"tickcolor\":\"rgb(36,36,36)\",\"ticks\":\"outside\"}}],\"histogram2d\":[{\"type\":\"histogram2d\",\"colorbar\":{\"outlinewidth\":1,\"tickcolor\":\"rgb(36,36,36)\",\"ticks\":\"outside\"},\"colorscale\":[[0.0,\"#440154\"],[0.1111111111111111,\"#482878\"],[0.2222222222222222,\"#3e4989\"],[0.3333333333333333,\"#31688e\"],[0.4444444444444444,\"#26828e\"],[0.5555555555555556,\"#1f9e89\"],[0.6666666666666666,\"#35b779\"],[0.7777777777777778,\"#6ece58\"],[0.8888888888888888,\"#b5de2b\"],[1.0,\"#fde725\"]]}],\"heatmap\":[{\"type\":\"heatmap\",\"colorbar\":{\"outlinewidth\":1,\"tickcolor\":\"rgb(36,36,36)\",\"ticks\":\"outside\"},\"colorscale\":[[0.0,\"#440154\"],[0.1111111111111111,\"#482878\"],[0.2222222222222222,\"#3e4989\"],[0.3333333333333333,\"#31688e\"],[0.4444444444444444,\"#26828e\"],[0.5555555555555556,\"#1f9e89\"],[0.6666666666666666,\"#35b779\"],[0.7777777777777778,\"#6ece58\"],[0.8888888888888888,\"#b5de2b\"],[1.0,\"#fde725\"]]}],\"heatmapgl\":[{\"type\":\"heatmapgl\",\"colorbar\":{\"outlinewidth\":1,\"tickcolor\":\"rgb(36,36,36)\",\"ticks\":\"outside\"},\"colorscale\":[[0.0,\"#440154\"],[0.1111111111111111,\"#482878\"],[0.2222222222222222,\"#3e4989\"],[0.3333333333333333,\"#31688e\"],[0.4444444444444444,\"#26828e\"],[0.5555555555555556,\"#1f9e89\"],[0.6666666666666666,\"#35b779\"],[0.7777777777777778,\"#6ece58\"],[0.8888888888888888,\"#b5de2b\"],[1.0,\"#fde725\"]]}],\"contourcarpet\":[{\"type\":\"contourcarpet\",\"colorbar\":{\"outlinewidth\":1,\"tickcolor\":\"rgb(36,36,36)\",\"ticks\":\"outside\"}}],\"contour\":[{\"type\":\"contour\",\"colorbar\":{\"outlinewidth\":1,\"tickcolor\":\"rgb(36,36,36)\",\"ticks\":\"outside\"},\"colorscale\":[[0.0,\"#440154\"],[0.1111111111111111,\"#482878\"],[0.2222222222222222,\"#3e4989\"],[0.3333333333333333,\"#31688e\"],[0.4444444444444444,\"#26828e\"],[0.5555555555555556,\"#1f9e89\"],[0.6666666666666666,\"#35b779\"],[0.7777777777777778,\"#6ece58\"],[0.8888888888888888,\"#b5de2b\"],[1.0,\"#fde725\"]]}],\"surface\":[{\"type\":\"surface\",\"colorbar\":{\"outlinewidth\":1,\"tickcolor\":\"rgb(36,36,36)\",\"ticks\":\"outside\"},\"colorscale\":[[0.0,\"#440154\"],[0.1111111111111111,\"#482878\"],[0.2222222222222222,\"#3e4989\"],[0.3333333333333333,\"#31688e\"],[0.4444444444444444,\"#26828e\"],[0.5555555555555556,\"#1f9e89\"],[0.6666666666666666,\"#35b779\"],[0.7777777777777778,\"#6ece58\"],[0.8888888888888888,\"#b5de2b\"],[1.0,\"#fde725\"]]}],\"mesh3d\":[{\"type\":\"mesh3d\",\"colorbar\":{\"outlinewidth\":1,\"tickcolor\":\"rgb(36,36,36)\",\"ticks\":\"outside\"}}],\"scatter\":[{\"fillpattern\":{\"fillmode\":\"overlay\",\"size\":10,\"solidity\":0.2},\"type\":\"scatter\"}],\"parcoords\":[{\"type\":\"parcoords\",\"line\":{\"colorbar\":{\"outlinewidth\":1,\"tickcolor\":\"rgb(36,36,36)\",\"ticks\":\"outside\"}}}],\"scatterpolargl\":[{\"type\":\"scatterpolargl\",\"marker\":{\"colorbar\":{\"outlinewidth\":1,\"tickcolor\":\"rgb(36,36,36)\",\"ticks\":\"outside\"}}}],\"bar\":[{\"error_x\":{\"color\":\"rgb(36,36,36)\"},\"error_y\":{\"color\":\"rgb(36,36,36)\"},\"marker\":{\"line\":{\"color\":\"white\",\"width\":0.5},\"pattern\":{\"fillmode\":\"overlay\",\"size\":10,\"solidity\":0.2}},\"type\":\"bar\"}],\"scattergeo\":[{\"type\":\"scattergeo\",\"marker\":{\"colorbar\":{\"outlinewidth\":1,\"tickcolor\":\"rgb(36,36,36)\",\"ticks\":\"outside\"}}}],\"scatterpolar\":[{\"type\":\"scatterpolar\",\"marker\":{\"colorbar\":{\"outlinewidth\":1,\"tickcolor\":\"rgb(36,36,36)\",\"ticks\":\"outside\"}}}],\"histogram\":[{\"marker\":{\"line\":{\"color\":\"white\",\"width\":0.6}},\"type\":\"histogram\"}],\"scattergl\":[{\"type\":\"scattergl\",\"marker\":{\"colorbar\":{\"outlinewidth\":1,\"tickcolor\":\"rgb(36,36,36)\",\"ticks\":\"outside\"}}}],\"scatter3d\":[{\"type\":\"scatter3d\",\"line\":{\"colorbar\":{\"outlinewidth\":1,\"tickcolor\":\"rgb(36,36,36)\",\"ticks\":\"outside\"}},\"marker\":{\"colorbar\":{\"outlinewidth\":1,\"tickcolor\":\"rgb(36,36,36)\",\"ticks\":\"outside\"}}}],\"scattermapbox\":[{\"type\":\"scattermapbox\",\"marker\":{\"colorbar\":{\"outlinewidth\":1,\"tickcolor\":\"rgb(36,36,36)\",\"ticks\":\"outside\"}}}],\"scatterternary\":[{\"type\":\"scatterternary\",\"marker\":{\"colorbar\":{\"outlinewidth\":1,\"tickcolor\":\"rgb(36,36,36)\",\"ticks\":\"outside\"}}}],\"scattercarpet\":[{\"type\":\"scattercarpet\",\"marker\":{\"colorbar\":{\"outlinewidth\":1,\"tickcolor\":\"rgb(36,36,36)\",\"ticks\":\"outside\"}}}],\"carpet\":[{\"aaxis\":{\"endlinecolor\":\"rgb(36,36,36)\",\"gridcolor\":\"white\",\"linecolor\":\"white\",\"minorgridcolor\":\"white\",\"startlinecolor\":\"rgb(36,36,36)\"},\"baxis\":{\"endlinecolor\":\"rgb(36,36,36)\",\"gridcolor\":\"white\",\"linecolor\":\"white\",\"minorgridcolor\":\"white\",\"startlinecolor\":\"rgb(36,36,36)\"},\"type\":\"carpet\"}],\"table\":[{\"cells\":{\"fill\":{\"color\":\"rgb(237,237,237)\"},\"line\":{\"color\":\"white\"}},\"header\":{\"fill\":{\"color\":\"rgb(217,217,217)\"},\"line\":{\"color\":\"white\"}},\"type\":\"table\"}],\"barpolar\":[{\"marker\":{\"line\":{\"color\":\"white\",\"width\":0.5},\"pattern\":{\"fillmode\":\"overlay\",\"size\":10,\"solidity\":0.2}},\"type\":\"barpolar\"}],\"pie\":[{\"automargin\":true,\"type\":\"pie\"}]},\"layout\":{\"autotypenumbers\":\"strict\",\"colorway\":[\"#1F77B4\",\"#FF7F0E\",\"#2CA02C\",\"#D62728\",\"#9467BD\",\"#8C564B\",\"#E377C2\",\"#7F7F7F\",\"#BCBD22\",\"#17BECF\"],\"font\":{\"color\":\"rgb(36,36,36)\"},\"hovermode\":\"closest\",\"hoverlabel\":{\"align\":\"left\"},\"paper_bgcolor\":\"white\",\"plot_bgcolor\":\"white\",\"polar\":{\"bgcolor\":\"white\",\"angularaxis\":{\"gridcolor\":\"rgb(232,232,232)\",\"linecolor\":\"rgb(36,36,36)\",\"showgrid\":false,\"showline\":true,\"ticks\":\"outside\"},\"radialaxis\":{\"gridcolor\":\"rgb(232,232,232)\",\"linecolor\":\"rgb(36,36,36)\",\"showgrid\":false,\"showline\":true,\"ticks\":\"outside\"}},\"ternary\":{\"bgcolor\":\"white\",\"aaxis\":{\"gridcolor\":\"rgb(232,232,232)\",\"linecolor\":\"rgb(36,36,36)\",\"showgrid\":false,\"showline\":true,\"ticks\":\"outside\"},\"baxis\":{\"gridcolor\":\"rgb(232,232,232)\",\"linecolor\":\"rgb(36,36,36)\",\"showgrid\":false,\"showline\":true,\"ticks\":\"outside\"},\"caxis\":{\"gridcolor\":\"rgb(232,232,232)\",\"linecolor\":\"rgb(36,36,36)\",\"showgrid\":false,\"showline\":true,\"ticks\":\"outside\"}},\"coloraxis\":{\"colorbar\":{\"outlinewidth\":1,\"tickcolor\":\"rgb(36,36,36)\",\"ticks\":\"outside\"}},\"colorscale\":{\"sequential\":[[0.0,\"#440154\"],[0.1111111111111111,\"#482878\"],[0.2222222222222222,\"#3e4989\"],[0.3333333333333333,\"#31688e\"],[0.4444444444444444,\"#26828e\"],[0.5555555555555556,\"#1f9e89\"],[0.6666666666666666,\"#35b779\"],[0.7777777777777778,\"#6ece58\"],[0.8888888888888888,\"#b5de2b\"],[1.0,\"#fde725\"]],\"sequentialminus\":[[0.0,\"#440154\"],[0.1111111111111111,\"#482878\"],[0.2222222222222222,\"#3e4989\"],[0.3333333333333333,\"#31688e\"],[0.4444444444444444,\"#26828e\"],[0.5555555555555556,\"#1f9e89\"],[0.6666666666666666,\"#35b779\"],[0.7777777777777778,\"#6ece58\"],[0.8888888888888888,\"#b5de2b\"],[1.0,\"#fde725\"]],\"diverging\":[[0.0,\"rgb(103,0,31)\"],[0.1,\"rgb(178,24,43)\"],[0.2,\"rgb(214,96,77)\"],[0.3,\"rgb(244,165,130)\"],[0.4,\"rgb(253,219,199)\"],[0.5,\"rgb(247,247,247)\"],[0.6,\"rgb(209,229,240)\"],[0.7,\"rgb(146,197,222)\"],[0.8,\"rgb(67,147,195)\"],[0.9,\"rgb(33,102,172)\"],[1.0,\"rgb(5,48,97)\"]]},\"xaxis\":{\"gridcolor\":\"rgb(232,232,232)\",\"linecolor\":\"rgb(36,36,36)\",\"showgrid\":false,\"showline\":true,\"ticks\":\"outside\",\"title\":{\"standoff\":15},\"zerolinecolor\":\"rgb(36,36,36)\",\"automargin\":true,\"zeroline\":false},\"yaxis\":{\"gridcolor\":\"rgb(232,232,232)\",\"linecolor\":\"rgb(36,36,36)\",\"showgrid\":false,\"showline\":true,\"ticks\":\"outside\",\"title\":{\"standoff\":15},\"zerolinecolor\":\"rgb(36,36,36)\",\"automargin\":true,\"zeroline\":false},\"scene\":{\"xaxis\":{\"backgroundcolor\":\"white\",\"gridcolor\":\"rgb(232,232,232)\",\"linecolor\":\"rgb(36,36,36)\",\"showbackground\":true,\"showgrid\":false,\"showline\":true,\"ticks\":\"outside\",\"zerolinecolor\":\"rgb(36,36,36)\",\"gridwidth\":2,\"zeroline\":false},\"yaxis\":{\"backgroundcolor\":\"white\",\"gridcolor\":\"rgb(232,232,232)\",\"linecolor\":\"rgb(36,36,36)\",\"showbackground\":true,\"showgrid\":false,\"showline\":true,\"ticks\":\"outside\",\"zerolinecolor\":\"rgb(36,36,36)\",\"gridwidth\":2,\"zeroline\":false},\"zaxis\":{\"backgroundcolor\":\"white\",\"gridcolor\":\"rgb(232,232,232)\",\"linecolor\":\"rgb(36,36,36)\",\"showbackground\":true,\"showgrid\":false,\"showline\":true,\"ticks\":\"outside\",\"zerolinecolor\":\"rgb(36,36,36)\",\"gridwidth\":2,\"zeroline\":false}},\"shapedefaults\":{\"fillcolor\":\"black\",\"line\":{\"width\":0},\"opacity\":0.3},\"annotationdefaults\":{\"arrowhead\":0,\"arrowwidth\":1},\"geo\":{\"bgcolor\":\"white\",\"landcolor\":\"white\",\"subunitcolor\":\"white\",\"showland\":true,\"showlakes\":true,\"lakecolor\":\"white\"},\"title\":{\"x\":0.05},\"mapbox\":{\"style\":\"light\"}}},\"title\":{\"text\":\"Corrected carbonate formation energies\"},\"xaxis\":{\"title\":{\"text\":\"Experimental dGf (eV/f.u.)\"}},\"yaxis\":{\"title\":{\"text\":\"Calculated dGf (eV/f.u.)\"}}},                        {\"responsive\": true}                    ).then(function(){\n",
       "                            \n",
       "var gd = document.getElementById('5563817f-e923-4bc7-8163-ac4f7b8a7ced');\n",
       "var x = new MutationObserver(function (mutations, observer) {{\n",
       "        var display = window.getComputedStyle(gd).display;\n",
       "        if (!display || display === 'none') {{\n",
       "            console.log([gd, 'removed!']);\n",
       "            Plotly.purge(gd);\n",
       "            observer.disconnect();\n",
       "        }}\n",
       "}});\n",
       "\n",
       "// Listen for the removal of the full notebook cells\n",
       "var notebookContainer = gd.closest('#notebook-container');\n",
       "if (notebookContainer) {{\n",
       "    x.observe(notebookContainer, {childList: true});\n",
       "}}\n",
       "\n",
       "// Listen for the clearing of the current output cell\n",
       "var outputEl = gd.closest('.output');\n",
       "if (outputEl) {{\n",
       "    x.observe(outputEl, {childList: true});\n",
       "}}\n",
       "\n",
       "                        })                };                });            </script>        </div>"
      ]
     },
     "metadata": {},
     "output_type": "display_data"
    }
   ],
   "source": [
    "fig_new"
   ]
  },
  {
   "cell_type": "markdown",
   "id": "39b56af6",
   "metadata": {},
   "source": [
    "### Test carbonate correction class"
   ]
  },
  {
   "cell_type": "code",
   "execution_count": 11,
   "id": "30b5ab5e",
   "metadata": {},
   "outputs": [
    {
     "name": "stderr",
     "output_type": "stream",
     "text": [
      "/Users/mcdermott/PycharmProjects/reaction-network/src/rxn_network/entries/entry_set.py:555: FutureWarning:\n",
      "\n",
      "This method is deprecated. Use from_computed_entries instead.\n",
      "\n"
     ]
    }
   ],
   "source": [
    "li_entries = GibbsEntrySet.from_entries(all_entries[\"Li\"], 300, include_nist_data=False)"
   ]
  },
  {
   "cell_type": "code",
   "execution_count": 12,
   "id": "8fe53b5e",
   "metadata": {},
   "outputs": [
    {
     "data": {
      "text/plain": [
       "[CarbonateCorrection:\n",
       "   Name: Carbonate Correction\n",
       "   Value: 1.656 eV\n",
       "   Uncertainty: nan eV\n",
       "   Description: Correction for dGf with (CO3)2- anion, as fit to MP data (300 K). (0.828 eV/atom x 2.0 atoms)\n",
       "   Generated by: None,\n",
       " ConstantEnergyAdjustment:\n",
       "   Name: Gibbs SISSO Correction\n",
       "   Value: 1.868 eV\n",
       "   Uncertainty: 0.600 eV\n",
       "   Description: Gibbs correction: dGf(300 K) - dHf (298 K) (1.868 eV)\n",
       "   Generated by: None]"
      ]
     },
     "execution_count": 12,
     "metadata": {},
     "output_type": "execute_result"
    }
   ],
   "source": [
    "li2co3 = li_entries.get_min_entry_by_formula(\"Li2CO3\")\n",
    "li2co3.energy_adjustments"
   ]
  },
  {
   "cell_type": "code",
   "execution_count": 13,
   "id": "46ab833d",
   "metadata": {},
   "outputs": [],
   "source": [
    "mp_entries = []\n",
    "exp_entries = []\n",
    "\n",
    "temp = 300  # Kelvin\n",
    "\n",
    "for m, entries in all_entries.items():\n",
    "    gibbs = GibbsEntrySet.from_entries(entries, temp, include_nist_data=False, apply_carbonate_correction=True)\n",
    "    gibbs_exp = GibbsEntrySet.from_entries(entries, temp, include_nist_data=True, include_freed_data=True, apply_carbonate_correction=False)\n",
    "\n",
    "    oxidation_states = Element(m).common_oxidation_states\n",
    "\n",
    "    for os in oxidation_states:\n",
    "        formula = Composition(f\"{m}2(CO3){os}\").reduced_formula\n",
    "\n",
    "        mp_entry = None\n",
    "        exp_entry = None\n",
    "\n",
    "        try:\n",
    "            mp_entry = gibbs.get_min_entry_by_formula(formula)\n",
    "            exp_entry = gibbs_exp.get_min_entry_by_formula(formula)\n",
    "        except:\n",
    "            continue\n",
    "\n",
    "        if exp_entry.is_experimental:\n",
    "            mp_entries.append(mp_entry)\n",
    "            exp_entries.append(exp_entry)"
   ]
  },
  {
   "cell_type": "code",
   "execution_count": 14,
   "id": "391c9d5c",
   "metadata": {},
   "outputs": [
    {
     "data": {
      "application/vnd.plotly.v1+json": {
       "config": {
        "plotlyServerURL": "https://plot.ly"
       },
       "data": [
        {
         "hovertemplate": "<b>%{hovertext}</b><br><br>name=Ag2CO3<br>x=%{x}<br>y=%{y}<extra></extra>",
         "hovertext": [
          "Ag2CO3"
         ],
         "legendgroup": "Ag2CO3",
         "marker": {
          "color": "#1F77B4",
          "symbol": "circle"
         },
         "mode": "markers",
         "name": "Ag2CO3",
         "orientation": "v",
         "showlegend": true,
         "type": "scatter",
         "x": [
          -0.753915123353763
         ],
         "xaxis": "x",
         "y": [
          -0.8146935711108886
         ],
         "yaxis": "y"
        },
        {
         "hovertemplate": "<b>%{hovertext}</b><br><br>name=BaCO3<br>x=%{x}<br>y=%{y}<extra></extra>",
         "hovertext": [
          "BaCO3"
         ],
         "legendgroup": "BaCO3",
         "marker": {
          "color": "#FF7F0E",
          "symbol": "diamond"
         },
         "mode": "markers",
         "name": "BaCO3",
         "orientation": "v",
         "showlegend": true,
         "type": "scatter",
         "x": [
          -2.345862145732135
         ],
         "xaxis": "x",
         "y": [
          -2.358444633965706
         ],
         "yaxis": "y"
        },
        {
         "hovertemplate": "<b>%{hovertext}</b><br><br>name=CaCO3<br>x=%{x}<br>y=%{y}<extra></extra>",
         "hovertext": [
          "CaCO3"
         ],
         "legendgroup": "CaCO3",
         "marker": {
          "color": "#2CA02C",
          "symbol": "square"
         },
         "mode": "markers",
         "name": "CaCO3",
         "orientation": "v",
         "showlegend": true,
         "type": "scatter",
         "x": [
          -2.339404559623463
         ],
         "xaxis": "x",
         "y": [
          -2.3607084849163225
         ],
         "yaxis": "y"
        },
        {
         "hovertemplate": "<b>%{hovertext}</b><br><br>name=CdCO3<br>x=%{x}<br>y=%{y}<extra></extra>",
         "hovertext": [
          "CdCO3"
         ],
         "legendgroup": "CdCO3",
         "marker": {
          "color": "#D62728",
          "symbol": "x"
         },
         "mode": "markers",
         "name": "CdCO3",
         "orientation": "v",
         "showlegend": true,
         "type": "scatter",
         "x": [
          -1.403799547142056
         ],
         "xaxis": "x",
         "y": [
          -1.429224787280472
         ],
         "yaxis": "y"
        },
        {
         "hovertemplate": "<b>%{hovertext}</b><br><br>name=Cs2CO3<br>x=%{x}<br>y=%{y}<extra></extra>",
         "hovertext": [
          "Cs2CO3"
         ],
         "legendgroup": "Cs2CO3",
         "marker": {
          "color": "#9467BD",
          "symbol": "cross"
         },
         "mode": "markers",
         "name": "Cs2CO3",
         "orientation": "v",
         "showlegend": true,
         "type": "scatter",
         "x": [
          -1.815688604547293
         ],
         "xaxis": "x",
         "y": [
          -1.7735039653192928
         ],
         "yaxis": "y"
        },
        {
         "hovertemplate": "<b>%{hovertext}</b><br><br>name=FeCO3<br>x=%{x}<br>y=%{y}<extra></extra>",
         "hovertext": [
          "FeCO3"
         ],
         "legendgroup": "FeCO3",
         "marker": {
          "color": "#8C564B",
          "symbol": "circle"
         },
         "mode": "markers",
         "name": "FeCO3",
         "orientation": "v",
         "showlegend": true,
         "type": "scatter",
         "x": [
          -1.3858394453788605
         ],
         "xaxis": "x",
         "y": [
          -1.4609386827191932
         ],
         "yaxis": "y"
        },
        {
         "hovertemplate": "<b>%{hovertext}</b><br><br>name=K2CO3<br>x=%{x}<br>y=%{y}<extra></extra>",
         "hovertext": [
          "K2CO3"
         ],
         "legendgroup": "K2CO3",
         "marker": {
          "color": "#E377C2",
          "symbol": "diamond"
         },
         "mode": "markers",
         "name": "K2CO3",
         "orientation": "v",
         "showlegend": true,
         "type": "scatter",
         "x": [
          -1.838006279490757
         ],
         "xaxis": "x",
         "y": [
          -1.824377536304471
         ],
         "yaxis": "y"
        },
        {
         "hovertemplate": "<b>%{hovertext}</b><br><br>name=Li2CO3<br>x=%{x}<br>y=%{y}<extra></extra>",
         "hovertext": [
          "Li2CO3"
         ],
         "legendgroup": "Li2CO3",
         "marker": {
          "color": "#7F7F7F",
          "symbol": "square"
         },
         "mode": "markers",
         "name": "Li2CO3",
         "orientation": "v",
         "showlegend": true,
         "type": "scatter",
         "x": [
          -1.954773104492821
         ],
         "xaxis": "x",
         "y": [
          -1.9550943122911253
         ],
         "yaxis": "y"
        },
        {
         "hovertemplate": "<b>%{hovertext}</b><br><br>name=MgCO3<br>x=%{x}<br>y=%{y}<extra></extra>",
         "hovertext": [
          "MgCO3"
         ],
         "legendgroup": "MgCO3",
         "marker": {
          "color": "#BCBD22",
          "symbol": "x"
         },
         "mode": "markers",
         "name": "MgCO3",
         "orientation": "v",
         "showlegend": true,
         "type": "scatter",
         "x": [
          -2.132654770906602
         ],
         "xaxis": "x",
         "y": [
          -2.1096586592243027
         ],
         "yaxis": "y"
        },
        {
         "hovertemplate": "<b>%{hovertext}</b><br><br>name=MnCO3<br>x=%{x}<br>y=%{y}<extra></extra>",
         "hovertext": [
          "MnCO3"
         ],
         "legendgroup": "MnCO3",
         "marker": {
          "color": "#17BECF",
          "symbol": "cross"
         },
         "mode": "markers",
         "name": "MnCO3",
         "orientation": "v",
         "showlegend": true,
         "type": "scatter",
         "x": [
          -1.6897375176750464
         ],
         "xaxis": "x",
         "y": [
          -1.6841628978104777
         ],
         "yaxis": "y"
        },
        {
         "hovertemplate": "<b>%{hovertext}</b><br><br>name=Na2CO3<br>x=%{x}<br>y=%{y}<extra></extra>",
         "hovertext": [
          "Na2CO3"
         ],
         "legendgroup": "Na2CO3",
         "marker": {
          "color": "#1F77B4",
          "symbol": "circle"
         },
         "mode": "markers",
         "name": "Na2CO3",
         "orientation": "v",
         "showlegend": true,
         "type": "scatter",
         "x": [
          -1.809422296425902
         ],
         "xaxis": "x",
         "y": [
          -1.7747824133930896
         ],
         "yaxis": "y"
        },
        {
         "hovertemplate": "<b>%{hovertext}</b><br><br>name=PbCO3<br>x=%{x}<br>y=%{y}<extra></extra>",
         "hovertext": [
          "PbCO3"
         ],
         "legendgroup": "PbCO3",
         "marker": {
          "color": "#FF7F0E",
          "symbol": "diamond"
         },
         "mode": "markers",
         "name": "PbCO3",
         "orientation": "v",
         "showlegend": true,
         "type": "scatter",
         "x": [
          -1.3029126269633322
         ],
         "xaxis": "x",
         "y": [
          -1.4767534151933976
         ],
         "yaxis": "y"
        },
        {
         "hovertemplate": "<b>%{hovertext}</b><br><br>name=Rb2CO3<br>x=%{x}<br>y=%{y}<extra></extra>",
         "hovertext": [
          "Rb2CO3"
         ],
         "legendgroup": "Rb2CO3",
         "marker": {
          "color": "#2CA02C",
          "symbol": "square"
         },
         "mode": "markers",
         "name": "Rb2CO3",
         "orientation": "v",
         "showlegend": true,
         "type": "scatter",
         "x": [
          -1.828722733151448
         ],
         "xaxis": "x",
         "y": [
          -1.789981529357562
         ],
         "yaxis": "y"
        },
        {
         "hovertemplate": "<b>%{hovertext}</b><br><br>name=SrCO3<br>x=%{x}<br>y=%{y}<extra></extra>",
         "hovertext": [
          "SrCO3"
         ],
         "legendgroup": "SrCO3",
         "marker": {
          "color": "#D62728",
          "symbol": "x"
         },
         "mode": "markers",
         "name": "SrCO3",
         "orientation": "v",
         "showlegend": true,
         "type": "scatter",
         "x": [
          -2.3592673676165794
         ],
         "xaxis": "x",
         "y": [
          -2.369268398034891
         ],
         "yaxis": "y"
        },
        {
         "hovertemplate": "<b>%{hovertext}</b><br><br>name=ZnCO3<br>x=%{x}<br>y=%{y}<extra></extra>",
         "hovertext": [
          "ZnCO3"
         ],
         "legendgroup": "ZnCO3",
         "marker": {
          "color": "#9467BD",
          "symbol": "cross"
         },
         "mode": "markers",
         "name": "ZnCO3",
         "orientation": "v",
         "showlegend": true,
         "type": "scatter",
         "x": [
          -1.5200959209722835
         ],
         "xaxis": "x",
         "y": [
          -1.483461376421016
         ],
         "yaxis": "y"
        },
        {
         "hovertemplate": "x=%{x}<br>y=%{y}<extra></extra>",
         "legendgroup": "",
         "line": {
          "color": "#1F77B4",
          "dash": "solid"
         },
         "marker": {
          "symbol": "circle"
         },
         "mode": "lines",
         "name": "",
         "orientation": "v",
         "showlegend": false,
         "type": "scatter",
         "x": [
          -2.75,
          -0.75
         ],
         "xaxis": "x",
         "y": [
          -2.75,
          -0.75
         ],
         "yaxis": "y"
        }
       ],
       "layout": {
        "template": {
         "data": {
          "bar": [
           {
            "error_x": {
             "color": "rgb(36,36,36)"
            },
            "error_y": {
             "color": "rgb(36,36,36)"
            },
            "marker": {
             "line": {
              "color": "white",
              "width": 0.5
             },
             "pattern": {
              "fillmode": "overlay",
              "size": 10,
              "solidity": 0.2
             }
            },
            "type": "bar"
           }
          ],
          "barpolar": [
           {
            "marker": {
             "line": {
              "color": "white",
              "width": 0.5
             },
             "pattern": {
              "fillmode": "overlay",
              "size": 10,
              "solidity": 0.2
             }
            },
            "type": "barpolar"
           }
          ],
          "carpet": [
           {
            "aaxis": {
             "endlinecolor": "rgb(36,36,36)",
             "gridcolor": "white",
             "linecolor": "white",
             "minorgridcolor": "white",
             "startlinecolor": "rgb(36,36,36)"
            },
            "baxis": {
             "endlinecolor": "rgb(36,36,36)",
             "gridcolor": "white",
             "linecolor": "white",
             "minorgridcolor": "white",
             "startlinecolor": "rgb(36,36,36)"
            },
            "type": "carpet"
           }
          ],
          "choropleth": [
           {
            "colorbar": {
             "outlinewidth": 1,
             "tickcolor": "rgb(36,36,36)",
             "ticks": "outside"
            },
            "type": "choropleth"
           }
          ],
          "contour": [
           {
            "colorbar": {
             "outlinewidth": 1,
             "tickcolor": "rgb(36,36,36)",
             "ticks": "outside"
            },
            "colorscale": [
             [
              0,
              "#440154"
             ],
             [
              0.1111111111111111,
              "#482878"
             ],
             [
              0.2222222222222222,
              "#3e4989"
             ],
             [
              0.3333333333333333,
              "#31688e"
             ],
             [
              0.4444444444444444,
              "#26828e"
             ],
             [
              0.5555555555555556,
              "#1f9e89"
             ],
             [
              0.6666666666666666,
              "#35b779"
             ],
             [
              0.7777777777777778,
              "#6ece58"
             ],
             [
              0.8888888888888888,
              "#b5de2b"
             ],
             [
              1,
              "#fde725"
             ]
            ],
            "type": "contour"
           }
          ],
          "contourcarpet": [
           {
            "colorbar": {
             "outlinewidth": 1,
             "tickcolor": "rgb(36,36,36)",
             "ticks": "outside"
            },
            "type": "contourcarpet"
           }
          ],
          "heatmap": [
           {
            "colorbar": {
             "outlinewidth": 1,
             "tickcolor": "rgb(36,36,36)",
             "ticks": "outside"
            },
            "colorscale": [
             [
              0,
              "#440154"
             ],
             [
              0.1111111111111111,
              "#482878"
             ],
             [
              0.2222222222222222,
              "#3e4989"
             ],
             [
              0.3333333333333333,
              "#31688e"
             ],
             [
              0.4444444444444444,
              "#26828e"
             ],
             [
              0.5555555555555556,
              "#1f9e89"
             ],
             [
              0.6666666666666666,
              "#35b779"
             ],
             [
              0.7777777777777778,
              "#6ece58"
             ],
             [
              0.8888888888888888,
              "#b5de2b"
             ],
             [
              1,
              "#fde725"
             ]
            ],
            "type": "heatmap"
           }
          ],
          "heatmapgl": [
           {
            "colorbar": {
             "outlinewidth": 1,
             "tickcolor": "rgb(36,36,36)",
             "ticks": "outside"
            },
            "colorscale": [
             [
              0,
              "#440154"
             ],
             [
              0.1111111111111111,
              "#482878"
             ],
             [
              0.2222222222222222,
              "#3e4989"
             ],
             [
              0.3333333333333333,
              "#31688e"
             ],
             [
              0.4444444444444444,
              "#26828e"
             ],
             [
              0.5555555555555556,
              "#1f9e89"
             ],
             [
              0.6666666666666666,
              "#35b779"
             ],
             [
              0.7777777777777778,
              "#6ece58"
             ],
             [
              0.8888888888888888,
              "#b5de2b"
             ],
             [
              1,
              "#fde725"
             ]
            ],
            "type": "heatmapgl"
           }
          ],
          "histogram": [
           {
            "marker": {
             "line": {
              "color": "white",
              "width": 0.6
             }
            },
            "type": "histogram"
           }
          ],
          "histogram2d": [
           {
            "colorbar": {
             "outlinewidth": 1,
             "tickcolor": "rgb(36,36,36)",
             "ticks": "outside"
            },
            "colorscale": [
             [
              0,
              "#440154"
             ],
             [
              0.1111111111111111,
              "#482878"
             ],
             [
              0.2222222222222222,
              "#3e4989"
             ],
             [
              0.3333333333333333,
              "#31688e"
             ],
             [
              0.4444444444444444,
              "#26828e"
             ],
             [
              0.5555555555555556,
              "#1f9e89"
             ],
             [
              0.6666666666666666,
              "#35b779"
             ],
             [
              0.7777777777777778,
              "#6ece58"
             ],
             [
              0.8888888888888888,
              "#b5de2b"
             ],
             [
              1,
              "#fde725"
             ]
            ],
            "type": "histogram2d"
           }
          ],
          "histogram2dcontour": [
           {
            "colorbar": {
             "outlinewidth": 1,
             "tickcolor": "rgb(36,36,36)",
             "ticks": "outside"
            },
            "colorscale": [
             [
              0,
              "#440154"
             ],
             [
              0.1111111111111111,
              "#482878"
             ],
             [
              0.2222222222222222,
              "#3e4989"
             ],
             [
              0.3333333333333333,
              "#31688e"
             ],
             [
              0.4444444444444444,
              "#26828e"
             ],
             [
              0.5555555555555556,
              "#1f9e89"
             ],
             [
              0.6666666666666666,
              "#35b779"
             ],
             [
              0.7777777777777778,
              "#6ece58"
             ],
             [
              0.8888888888888888,
              "#b5de2b"
             ],
             [
              1,
              "#fde725"
             ]
            ],
            "type": "histogram2dcontour"
           }
          ],
          "mesh3d": [
           {
            "colorbar": {
             "outlinewidth": 1,
             "tickcolor": "rgb(36,36,36)",
             "ticks": "outside"
            },
            "type": "mesh3d"
           }
          ],
          "parcoords": [
           {
            "line": {
             "colorbar": {
              "outlinewidth": 1,
              "tickcolor": "rgb(36,36,36)",
              "ticks": "outside"
             }
            },
            "type": "parcoords"
           }
          ],
          "pie": [
           {
            "automargin": true,
            "type": "pie"
           }
          ],
          "scatter": [
           {
            "fillpattern": {
             "fillmode": "overlay",
             "size": 10,
             "solidity": 0.2
            },
            "type": "scatter"
           }
          ],
          "scatter3d": [
           {
            "line": {
             "colorbar": {
              "outlinewidth": 1,
              "tickcolor": "rgb(36,36,36)",
              "ticks": "outside"
             }
            },
            "marker": {
             "colorbar": {
              "outlinewidth": 1,
              "tickcolor": "rgb(36,36,36)",
              "ticks": "outside"
             }
            },
            "type": "scatter3d"
           }
          ],
          "scattercarpet": [
           {
            "marker": {
             "colorbar": {
              "outlinewidth": 1,
              "tickcolor": "rgb(36,36,36)",
              "ticks": "outside"
             }
            },
            "type": "scattercarpet"
           }
          ],
          "scattergeo": [
           {
            "marker": {
             "colorbar": {
              "outlinewidth": 1,
              "tickcolor": "rgb(36,36,36)",
              "ticks": "outside"
             }
            },
            "type": "scattergeo"
           }
          ],
          "scattergl": [
           {
            "marker": {
             "colorbar": {
              "outlinewidth": 1,
              "tickcolor": "rgb(36,36,36)",
              "ticks": "outside"
             }
            },
            "type": "scattergl"
           }
          ],
          "scattermapbox": [
           {
            "marker": {
             "colorbar": {
              "outlinewidth": 1,
              "tickcolor": "rgb(36,36,36)",
              "ticks": "outside"
             }
            },
            "type": "scattermapbox"
           }
          ],
          "scatterpolar": [
           {
            "marker": {
             "colorbar": {
              "outlinewidth": 1,
              "tickcolor": "rgb(36,36,36)",
              "ticks": "outside"
             }
            },
            "type": "scatterpolar"
           }
          ],
          "scatterpolargl": [
           {
            "marker": {
             "colorbar": {
              "outlinewidth": 1,
              "tickcolor": "rgb(36,36,36)",
              "ticks": "outside"
             }
            },
            "type": "scatterpolargl"
           }
          ],
          "scatterternary": [
           {
            "marker": {
             "colorbar": {
              "outlinewidth": 1,
              "tickcolor": "rgb(36,36,36)",
              "ticks": "outside"
             }
            },
            "type": "scatterternary"
           }
          ],
          "surface": [
           {
            "colorbar": {
             "outlinewidth": 1,
             "tickcolor": "rgb(36,36,36)",
             "ticks": "outside"
            },
            "colorscale": [
             [
              0,
              "#440154"
             ],
             [
              0.1111111111111111,
              "#482878"
             ],
             [
              0.2222222222222222,
              "#3e4989"
             ],
             [
              0.3333333333333333,
              "#31688e"
             ],
             [
              0.4444444444444444,
              "#26828e"
             ],
             [
              0.5555555555555556,
              "#1f9e89"
             ],
             [
              0.6666666666666666,
              "#35b779"
             ],
             [
              0.7777777777777778,
              "#6ece58"
             ],
             [
              0.8888888888888888,
              "#b5de2b"
             ],
             [
              1,
              "#fde725"
             ]
            ],
            "type": "surface"
           }
          ],
          "table": [
           {
            "cells": {
             "fill": {
              "color": "rgb(237,237,237)"
             },
             "line": {
              "color": "white"
             }
            },
            "header": {
             "fill": {
              "color": "rgb(217,217,217)"
             },
             "line": {
              "color": "white"
             }
            },
            "type": "table"
           }
          ]
         },
         "layout": {
          "annotationdefaults": {
           "arrowhead": 0,
           "arrowwidth": 1
          },
          "autotypenumbers": "strict",
          "coloraxis": {
           "colorbar": {
            "outlinewidth": 1,
            "tickcolor": "rgb(36,36,36)",
            "ticks": "outside"
           }
          },
          "colorscale": {
           "diverging": [
            [
             0,
             "rgb(103,0,31)"
            ],
            [
             0.1,
             "rgb(178,24,43)"
            ],
            [
             0.2,
             "rgb(214,96,77)"
            ],
            [
             0.3,
             "rgb(244,165,130)"
            ],
            [
             0.4,
             "rgb(253,219,199)"
            ],
            [
             0.5,
             "rgb(247,247,247)"
            ],
            [
             0.6,
             "rgb(209,229,240)"
            ],
            [
             0.7,
             "rgb(146,197,222)"
            ],
            [
             0.8,
             "rgb(67,147,195)"
            ],
            [
             0.9,
             "rgb(33,102,172)"
            ],
            [
             1,
             "rgb(5,48,97)"
            ]
           ],
           "sequential": [
            [
             0,
             "#440154"
            ],
            [
             0.1111111111111111,
             "#482878"
            ],
            [
             0.2222222222222222,
             "#3e4989"
            ],
            [
             0.3333333333333333,
             "#31688e"
            ],
            [
             0.4444444444444444,
             "#26828e"
            ],
            [
             0.5555555555555556,
             "#1f9e89"
            ],
            [
             0.6666666666666666,
             "#35b779"
            ],
            [
             0.7777777777777778,
             "#6ece58"
            ],
            [
             0.8888888888888888,
             "#b5de2b"
            ],
            [
             1,
             "#fde725"
            ]
           ],
           "sequentialminus": [
            [
             0,
             "#440154"
            ],
            [
             0.1111111111111111,
             "#482878"
            ],
            [
             0.2222222222222222,
             "#3e4989"
            ],
            [
             0.3333333333333333,
             "#31688e"
            ],
            [
             0.4444444444444444,
             "#26828e"
            ],
            [
             0.5555555555555556,
             "#1f9e89"
            ],
            [
             0.6666666666666666,
             "#35b779"
            ],
            [
             0.7777777777777778,
             "#6ece58"
            ],
            [
             0.8888888888888888,
             "#b5de2b"
            ],
            [
             1,
             "#fde725"
            ]
           ]
          },
          "colorway": [
           "#1F77B4",
           "#FF7F0E",
           "#2CA02C",
           "#D62728",
           "#9467BD",
           "#8C564B",
           "#E377C2",
           "#7F7F7F",
           "#BCBD22",
           "#17BECF"
          ],
          "font": {
           "color": "rgb(36,36,36)"
          },
          "geo": {
           "bgcolor": "white",
           "lakecolor": "white",
           "landcolor": "white",
           "showlakes": true,
           "showland": true,
           "subunitcolor": "white"
          },
          "hoverlabel": {
           "align": "left"
          },
          "hovermode": "closest",
          "mapbox": {
           "style": "light"
          },
          "paper_bgcolor": "white",
          "plot_bgcolor": "white",
          "polar": {
           "angularaxis": {
            "gridcolor": "rgb(232,232,232)",
            "linecolor": "rgb(36,36,36)",
            "showgrid": false,
            "showline": true,
            "ticks": "outside"
           },
           "bgcolor": "white",
           "radialaxis": {
            "gridcolor": "rgb(232,232,232)",
            "linecolor": "rgb(36,36,36)",
            "showgrid": false,
            "showline": true,
            "ticks": "outside"
           }
          },
          "scene": {
           "xaxis": {
            "backgroundcolor": "white",
            "gridcolor": "rgb(232,232,232)",
            "gridwidth": 2,
            "linecolor": "rgb(36,36,36)",
            "showbackground": true,
            "showgrid": false,
            "showline": true,
            "ticks": "outside",
            "zeroline": false,
            "zerolinecolor": "rgb(36,36,36)"
           },
           "yaxis": {
            "backgroundcolor": "white",
            "gridcolor": "rgb(232,232,232)",
            "gridwidth": 2,
            "linecolor": "rgb(36,36,36)",
            "showbackground": true,
            "showgrid": false,
            "showline": true,
            "ticks": "outside",
            "zeroline": false,
            "zerolinecolor": "rgb(36,36,36)"
           },
           "zaxis": {
            "backgroundcolor": "white",
            "gridcolor": "rgb(232,232,232)",
            "gridwidth": 2,
            "linecolor": "rgb(36,36,36)",
            "showbackground": true,
            "showgrid": false,
            "showline": true,
            "ticks": "outside",
            "zeroline": false,
            "zerolinecolor": "rgb(36,36,36)"
           }
          },
          "shapedefaults": {
           "fillcolor": "black",
           "line": {
            "width": 0
           },
           "opacity": 0.3
          },
          "ternary": {
           "aaxis": {
            "gridcolor": "rgb(232,232,232)",
            "linecolor": "rgb(36,36,36)",
            "showgrid": false,
            "showline": true,
            "ticks": "outside"
           },
           "baxis": {
            "gridcolor": "rgb(232,232,232)",
            "linecolor": "rgb(36,36,36)",
            "showgrid": false,
            "showline": true,
            "ticks": "outside"
           },
           "bgcolor": "white",
           "caxis": {
            "gridcolor": "rgb(232,232,232)",
            "linecolor": "rgb(36,36,36)",
            "showgrid": false,
            "showline": true,
            "ticks": "outside"
           }
          },
          "title": {
           "x": 0.05
          },
          "xaxis": {
           "automargin": true,
           "gridcolor": "rgb(232,232,232)",
           "linecolor": "rgb(36,36,36)",
           "showgrid": false,
           "showline": true,
           "ticks": "outside",
           "title": {
            "standoff": 15
           },
           "zeroline": false,
           "zerolinecolor": "rgb(36,36,36)"
          },
          "yaxis": {
           "automargin": true,
           "gridcolor": "rgb(232,232,232)",
           "linecolor": "rgb(36,36,36)",
           "showgrid": false,
           "showline": true,
           "ticks": "outside",
           "title": {
            "standoff": 15
           },
           "zeroline": false,
           "zerolinecolor": "rgb(36,36,36)"
          }
         }
        },
        "title": {
         "text": "Test of Carbonate Correction"
        },
        "xaxis": {
         "title": {
          "text": "Experimental dGf (eV/atom)"
         }
        },
        "yaxis": {
         "title": {
          "text": "Calculated dGf (eV/atom)"
         }
        }
       }
      },
      "text/html": [
       "<div>                            <div id=\"6788c4fe-d4f4-445c-a62b-d860af0e9651\" class=\"plotly-graph-div\" style=\"height:525px; width:100%;\"></div>            <script type=\"text/javascript\">                require([\"plotly\"], function(Plotly) {                    window.PLOTLYENV=window.PLOTLYENV || {};                                    if (document.getElementById(\"6788c4fe-d4f4-445c-a62b-d860af0e9651\")) {                    Plotly.newPlot(                        \"6788c4fe-d4f4-445c-a62b-d860af0e9651\",                        [{\"hovertemplate\":\"<b>%{hovertext}</b><br><br>name=Ag2CO3<br>x=%{x}<br>y=%{y}<extra></extra>\",\"hovertext\":[\"Ag2CO3\"],\"legendgroup\":\"Ag2CO3\",\"marker\":{\"color\":\"#1F77B4\",\"symbol\":\"circle\"},\"mode\":\"markers\",\"name\":\"Ag2CO3\",\"orientation\":\"v\",\"showlegend\":true,\"x\":[-0.753915123353763],\"xaxis\":\"x\",\"y\":[-0.8146935711108886],\"yaxis\":\"y\",\"type\":\"scatter\"},{\"hovertemplate\":\"<b>%{hovertext}</b><br><br>name=BaCO3<br>x=%{x}<br>y=%{y}<extra></extra>\",\"hovertext\":[\"BaCO3\"],\"legendgroup\":\"BaCO3\",\"marker\":{\"color\":\"#FF7F0E\",\"symbol\":\"diamond\"},\"mode\":\"markers\",\"name\":\"BaCO3\",\"orientation\":\"v\",\"showlegend\":true,\"x\":[-2.345862145732135],\"xaxis\":\"x\",\"y\":[-2.358444633965706],\"yaxis\":\"y\",\"type\":\"scatter\"},{\"hovertemplate\":\"<b>%{hovertext}</b><br><br>name=CaCO3<br>x=%{x}<br>y=%{y}<extra></extra>\",\"hovertext\":[\"CaCO3\"],\"legendgroup\":\"CaCO3\",\"marker\":{\"color\":\"#2CA02C\",\"symbol\":\"square\"},\"mode\":\"markers\",\"name\":\"CaCO3\",\"orientation\":\"v\",\"showlegend\":true,\"x\":[-2.339404559623463],\"xaxis\":\"x\",\"y\":[-2.3607084849163225],\"yaxis\":\"y\",\"type\":\"scatter\"},{\"hovertemplate\":\"<b>%{hovertext}</b><br><br>name=CdCO3<br>x=%{x}<br>y=%{y}<extra></extra>\",\"hovertext\":[\"CdCO3\"],\"legendgroup\":\"CdCO3\",\"marker\":{\"color\":\"#D62728\",\"symbol\":\"x\"},\"mode\":\"markers\",\"name\":\"CdCO3\",\"orientation\":\"v\",\"showlegend\":true,\"x\":[-1.4037995471420561],\"xaxis\":\"x\",\"y\":[-1.429224787280472],\"yaxis\":\"y\",\"type\":\"scatter\"},{\"hovertemplate\":\"<b>%{hovertext}</b><br><br>name=Cs2CO3<br>x=%{x}<br>y=%{y}<extra></extra>\",\"hovertext\":[\"Cs2CO3\"],\"legendgroup\":\"Cs2CO3\",\"marker\":{\"color\":\"#9467BD\",\"symbol\":\"cross\"},\"mode\":\"markers\",\"name\":\"Cs2CO3\",\"orientation\":\"v\",\"showlegend\":true,\"x\":[-1.815688604547293],\"xaxis\":\"x\",\"y\":[-1.7735039653192928],\"yaxis\":\"y\",\"type\":\"scatter\"},{\"hovertemplate\":\"<b>%{hovertext}</b><br><br>name=FeCO3<br>x=%{x}<br>y=%{y}<extra></extra>\",\"hovertext\":[\"FeCO3\"],\"legendgroup\":\"FeCO3\",\"marker\":{\"color\":\"#8C564B\",\"symbol\":\"circle\"},\"mode\":\"markers\",\"name\":\"FeCO3\",\"orientation\":\"v\",\"showlegend\":true,\"x\":[-1.3858394453788605],\"xaxis\":\"x\",\"y\":[-1.4609386827191932],\"yaxis\":\"y\",\"type\":\"scatter\"},{\"hovertemplate\":\"<b>%{hovertext}</b><br><br>name=K2CO3<br>x=%{x}<br>y=%{y}<extra></extra>\",\"hovertext\":[\"K2CO3\"],\"legendgroup\":\"K2CO3\",\"marker\":{\"color\":\"#E377C2\",\"symbol\":\"diamond\"},\"mode\":\"markers\",\"name\":\"K2CO3\",\"orientation\":\"v\",\"showlegend\":true,\"x\":[-1.838006279490757],\"xaxis\":\"x\",\"y\":[-1.824377536304471],\"yaxis\":\"y\",\"type\":\"scatter\"},{\"hovertemplate\":\"<b>%{hovertext}</b><br><br>name=Li2CO3<br>x=%{x}<br>y=%{y}<extra></extra>\",\"hovertext\":[\"Li2CO3\"],\"legendgroup\":\"Li2CO3\",\"marker\":{\"color\":\"#7F7F7F\",\"symbol\":\"square\"},\"mode\":\"markers\",\"name\":\"Li2CO3\",\"orientation\":\"v\",\"showlegend\":true,\"x\":[-1.954773104492821],\"xaxis\":\"x\",\"y\":[-1.9550943122911253],\"yaxis\":\"y\",\"type\":\"scatter\"},{\"hovertemplate\":\"<b>%{hovertext}</b><br><br>name=MgCO3<br>x=%{x}<br>y=%{y}<extra></extra>\",\"hovertext\":[\"MgCO3\"],\"legendgroup\":\"MgCO3\",\"marker\":{\"color\":\"#BCBD22\",\"symbol\":\"x\"},\"mode\":\"markers\",\"name\":\"MgCO3\",\"orientation\":\"v\",\"showlegend\":true,\"x\":[-2.132654770906602],\"xaxis\":\"x\",\"y\":[-2.1096586592243027],\"yaxis\":\"y\",\"type\":\"scatter\"},{\"hovertemplate\":\"<b>%{hovertext}</b><br><br>name=MnCO3<br>x=%{x}<br>y=%{y}<extra></extra>\",\"hovertext\":[\"MnCO3\"],\"legendgroup\":\"MnCO3\",\"marker\":{\"color\":\"#17BECF\",\"symbol\":\"cross\"},\"mode\":\"markers\",\"name\":\"MnCO3\",\"orientation\":\"v\",\"showlegend\":true,\"x\":[-1.6897375176750464],\"xaxis\":\"x\",\"y\":[-1.6841628978104777],\"yaxis\":\"y\",\"type\":\"scatter\"},{\"hovertemplate\":\"<b>%{hovertext}</b><br><br>name=Na2CO3<br>x=%{x}<br>y=%{y}<extra></extra>\",\"hovertext\":[\"Na2CO3\"],\"legendgroup\":\"Na2CO3\",\"marker\":{\"color\":\"#1F77B4\",\"symbol\":\"circle\"},\"mode\":\"markers\",\"name\":\"Na2CO3\",\"orientation\":\"v\",\"showlegend\":true,\"x\":[-1.809422296425902],\"xaxis\":\"x\",\"y\":[-1.7747824133930896],\"yaxis\":\"y\",\"type\":\"scatter\"},{\"hovertemplate\":\"<b>%{hovertext}</b><br><br>name=PbCO3<br>x=%{x}<br>y=%{y}<extra></extra>\",\"hovertext\":[\"PbCO3\"],\"legendgroup\":\"PbCO3\",\"marker\":{\"color\":\"#FF7F0E\",\"symbol\":\"diamond\"},\"mode\":\"markers\",\"name\":\"PbCO3\",\"orientation\":\"v\",\"showlegend\":true,\"x\":[-1.3029126269633322],\"xaxis\":\"x\",\"y\":[-1.4767534151933976],\"yaxis\":\"y\",\"type\":\"scatter\"},{\"hovertemplate\":\"<b>%{hovertext}</b><br><br>name=Rb2CO3<br>x=%{x}<br>y=%{y}<extra></extra>\",\"hovertext\":[\"Rb2CO3\"],\"legendgroup\":\"Rb2CO3\",\"marker\":{\"color\":\"#2CA02C\",\"symbol\":\"square\"},\"mode\":\"markers\",\"name\":\"Rb2CO3\",\"orientation\":\"v\",\"showlegend\":true,\"x\":[-1.8287227331514482],\"xaxis\":\"x\",\"y\":[-1.789981529357562],\"yaxis\":\"y\",\"type\":\"scatter\"},{\"hovertemplate\":\"<b>%{hovertext}</b><br><br>name=SrCO3<br>x=%{x}<br>y=%{y}<extra></extra>\",\"hovertext\":[\"SrCO3\"],\"legendgroup\":\"SrCO3\",\"marker\":{\"color\":\"#D62728\",\"symbol\":\"x\"},\"mode\":\"markers\",\"name\":\"SrCO3\",\"orientation\":\"v\",\"showlegend\":true,\"x\":[-2.3592673676165794],\"xaxis\":\"x\",\"y\":[-2.369268398034891],\"yaxis\":\"y\",\"type\":\"scatter\"},{\"hovertemplate\":\"<b>%{hovertext}</b><br><br>name=ZnCO3<br>x=%{x}<br>y=%{y}<extra></extra>\",\"hovertext\":[\"ZnCO3\"],\"legendgroup\":\"ZnCO3\",\"marker\":{\"color\":\"#9467BD\",\"symbol\":\"cross\"},\"mode\":\"markers\",\"name\":\"ZnCO3\",\"orientation\":\"v\",\"showlegend\":true,\"x\":[-1.5200959209722835],\"xaxis\":\"x\",\"y\":[-1.483461376421016],\"yaxis\":\"y\",\"type\":\"scatter\"},{\"hovertemplate\":\"x=%{x}<br>y=%{y}<extra></extra>\",\"legendgroup\":\"\",\"line\":{\"color\":\"#1F77B4\",\"dash\":\"solid\"},\"marker\":{\"symbol\":\"circle\"},\"mode\":\"lines\",\"name\":\"\",\"orientation\":\"v\",\"showlegend\":false,\"x\":[-2.75,-0.75],\"xaxis\":\"x\",\"y\":[-2.75,-0.75],\"yaxis\":\"y\",\"type\":\"scatter\"}],                        {\"template\":{\"data\":{\"histogram2dcontour\":[{\"type\":\"histogram2dcontour\",\"colorbar\":{\"outlinewidth\":1,\"tickcolor\":\"rgb(36,36,36)\",\"ticks\":\"outside\"},\"colorscale\":[[0.0,\"#440154\"],[0.1111111111111111,\"#482878\"],[0.2222222222222222,\"#3e4989\"],[0.3333333333333333,\"#31688e\"],[0.4444444444444444,\"#26828e\"],[0.5555555555555556,\"#1f9e89\"],[0.6666666666666666,\"#35b779\"],[0.7777777777777778,\"#6ece58\"],[0.8888888888888888,\"#b5de2b\"],[1.0,\"#fde725\"]]}],\"choropleth\":[{\"type\":\"choropleth\",\"colorbar\":{\"outlinewidth\":1,\"tickcolor\":\"rgb(36,36,36)\",\"ticks\":\"outside\"}}],\"histogram2d\":[{\"type\":\"histogram2d\",\"colorbar\":{\"outlinewidth\":1,\"tickcolor\":\"rgb(36,36,36)\",\"ticks\":\"outside\"},\"colorscale\":[[0.0,\"#440154\"],[0.1111111111111111,\"#482878\"],[0.2222222222222222,\"#3e4989\"],[0.3333333333333333,\"#31688e\"],[0.4444444444444444,\"#26828e\"],[0.5555555555555556,\"#1f9e89\"],[0.6666666666666666,\"#35b779\"],[0.7777777777777778,\"#6ece58\"],[0.8888888888888888,\"#b5de2b\"],[1.0,\"#fde725\"]]}],\"heatmap\":[{\"type\":\"heatmap\",\"colorbar\":{\"outlinewidth\":1,\"tickcolor\":\"rgb(36,36,36)\",\"ticks\":\"outside\"},\"colorscale\":[[0.0,\"#440154\"],[0.1111111111111111,\"#482878\"],[0.2222222222222222,\"#3e4989\"],[0.3333333333333333,\"#31688e\"],[0.4444444444444444,\"#26828e\"],[0.5555555555555556,\"#1f9e89\"],[0.6666666666666666,\"#35b779\"],[0.7777777777777778,\"#6ece58\"],[0.8888888888888888,\"#b5de2b\"],[1.0,\"#fde725\"]]}],\"heatmapgl\":[{\"type\":\"heatmapgl\",\"colorbar\":{\"outlinewidth\":1,\"tickcolor\":\"rgb(36,36,36)\",\"ticks\":\"outside\"},\"colorscale\":[[0.0,\"#440154\"],[0.1111111111111111,\"#482878\"],[0.2222222222222222,\"#3e4989\"],[0.3333333333333333,\"#31688e\"],[0.4444444444444444,\"#26828e\"],[0.5555555555555556,\"#1f9e89\"],[0.6666666666666666,\"#35b779\"],[0.7777777777777778,\"#6ece58\"],[0.8888888888888888,\"#b5de2b\"],[1.0,\"#fde725\"]]}],\"contourcarpet\":[{\"type\":\"contourcarpet\",\"colorbar\":{\"outlinewidth\":1,\"tickcolor\":\"rgb(36,36,36)\",\"ticks\":\"outside\"}}],\"contour\":[{\"type\":\"contour\",\"colorbar\":{\"outlinewidth\":1,\"tickcolor\":\"rgb(36,36,36)\",\"ticks\":\"outside\"},\"colorscale\":[[0.0,\"#440154\"],[0.1111111111111111,\"#482878\"],[0.2222222222222222,\"#3e4989\"],[0.3333333333333333,\"#31688e\"],[0.4444444444444444,\"#26828e\"],[0.5555555555555556,\"#1f9e89\"],[0.6666666666666666,\"#35b779\"],[0.7777777777777778,\"#6ece58\"],[0.8888888888888888,\"#b5de2b\"],[1.0,\"#fde725\"]]}],\"surface\":[{\"type\":\"surface\",\"colorbar\":{\"outlinewidth\":1,\"tickcolor\":\"rgb(36,36,36)\",\"ticks\":\"outside\"},\"colorscale\":[[0.0,\"#440154\"],[0.1111111111111111,\"#482878\"],[0.2222222222222222,\"#3e4989\"],[0.3333333333333333,\"#31688e\"],[0.4444444444444444,\"#26828e\"],[0.5555555555555556,\"#1f9e89\"],[0.6666666666666666,\"#35b779\"],[0.7777777777777778,\"#6ece58\"],[0.8888888888888888,\"#b5de2b\"],[1.0,\"#fde725\"]]}],\"mesh3d\":[{\"type\":\"mesh3d\",\"colorbar\":{\"outlinewidth\":1,\"tickcolor\":\"rgb(36,36,36)\",\"ticks\":\"outside\"}}],\"scatter\":[{\"fillpattern\":{\"fillmode\":\"overlay\",\"size\":10,\"solidity\":0.2},\"type\":\"scatter\"}],\"parcoords\":[{\"type\":\"parcoords\",\"line\":{\"colorbar\":{\"outlinewidth\":1,\"tickcolor\":\"rgb(36,36,36)\",\"ticks\":\"outside\"}}}],\"scatterpolargl\":[{\"type\":\"scatterpolargl\",\"marker\":{\"colorbar\":{\"outlinewidth\":1,\"tickcolor\":\"rgb(36,36,36)\",\"ticks\":\"outside\"}}}],\"bar\":[{\"error_x\":{\"color\":\"rgb(36,36,36)\"},\"error_y\":{\"color\":\"rgb(36,36,36)\"},\"marker\":{\"line\":{\"color\":\"white\",\"width\":0.5},\"pattern\":{\"fillmode\":\"overlay\",\"size\":10,\"solidity\":0.2}},\"type\":\"bar\"}],\"scattergeo\":[{\"type\":\"scattergeo\",\"marker\":{\"colorbar\":{\"outlinewidth\":1,\"tickcolor\":\"rgb(36,36,36)\",\"ticks\":\"outside\"}}}],\"scatterpolar\":[{\"type\":\"scatterpolar\",\"marker\":{\"colorbar\":{\"outlinewidth\":1,\"tickcolor\":\"rgb(36,36,36)\",\"ticks\":\"outside\"}}}],\"histogram\":[{\"marker\":{\"line\":{\"color\":\"white\",\"width\":0.6}},\"type\":\"histogram\"}],\"scattergl\":[{\"type\":\"scattergl\",\"marker\":{\"colorbar\":{\"outlinewidth\":1,\"tickcolor\":\"rgb(36,36,36)\",\"ticks\":\"outside\"}}}],\"scatter3d\":[{\"type\":\"scatter3d\",\"line\":{\"colorbar\":{\"outlinewidth\":1,\"tickcolor\":\"rgb(36,36,36)\",\"ticks\":\"outside\"}},\"marker\":{\"colorbar\":{\"outlinewidth\":1,\"tickcolor\":\"rgb(36,36,36)\",\"ticks\":\"outside\"}}}],\"scattermapbox\":[{\"type\":\"scattermapbox\",\"marker\":{\"colorbar\":{\"outlinewidth\":1,\"tickcolor\":\"rgb(36,36,36)\",\"ticks\":\"outside\"}}}],\"scatterternary\":[{\"type\":\"scatterternary\",\"marker\":{\"colorbar\":{\"outlinewidth\":1,\"tickcolor\":\"rgb(36,36,36)\",\"ticks\":\"outside\"}}}],\"scattercarpet\":[{\"type\":\"scattercarpet\",\"marker\":{\"colorbar\":{\"outlinewidth\":1,\"tickcolor\":\"rgb(36,36,36)\",\"ticks\":\"outside\"}}}],\"carpet\":[{\"aaxis\":{\"endlinecolor\":\"rgb(36,36,36)\",\"gridcolor\":\"white\",\"linecolor\":\"white\",\"minorgridcolor\":\"white\",\"startlinecolor\":\"rgb(36,36,36)\"},\"baxis\":{\"endlinecolor\":\"rgb(36,36,36)\",\"gridcolor\":\"white\",\"linecolor\":\"white\",\"minorgridcolor\":\"white\",\"startlinecolor\":\"rgb(36,36,36)\"},\"type\":\"carpet\"}],\"table\":[{\"cells\":{\"fill\":{\"color\":\"rgb(237,237,237)\"},\"line\":{\"color\":\"white\"}},\"header\":{\"fill\":{\"color\":\"rgb(217,217,217)\"},\"line\":{\"color\":\"white\"}},\"type\":\"table\"}],\"barpolar\":[{\"marker\":{\"line\":{\"color\":\"white\",\"width\":0.5},\"pattern\":{\"fillmode\":\"overlay\",\"size\":10,\"solidity\":0.2}},\"type\":\"barpolar\"}],\"pie\":[{\"automargin\":true,\"type\":\"pie\"}]},\"layout\":{\"autotypenumbers\":\"strict\",\"colorway\":[\"#1F77B4\",\"#FF7F0E\",\"#2CA02C\",\"#D62728\",\"#9467BD\",\"#8C564B\",\"#E377C2\",\"#7F7F7F\",\"#BCBD22\",\"#17BECF\"],\"font\":{\"color\":\"rgb(36,36,36)\"},\"hovermode\":\"closest\",\"hoverlabel\":{\"align\":\"left\"},\"paper_bgcolor\":\"white\",\"plot_bgcolor\":\"white\",\"polar\":{\"bgcolor\":\"white\",\"angularaxis\":{\"gridcolor\":\"rgb(232,232,232)\",\"linecolor\":\"rgb(36,36,36)\",\"showgrid\":false,\"showline\":true,\"ticks\":\"outside\"},\"radialaxis\":{\"gridcolor\":\"rgb(232,232,232)\",\"linecolor\":\"rgb(36,36,36)\",\"showgrid\":false,\"showline\":true,\"ticks\":\"outside\"}},\"ternary\":{\"bgcolor\":\"white\",\"aaxis\":{\"gridcolor\":\"rgb(232,232,232)\",\"linecolor\":\"rgb(36,36,36)\",\"showgrid\":false,\"showline\":true,\"ticks\":\"outside\"},\"baxis\":{\"gridcolor\":\"rgb(232,232,232)\",\"linecolor\":\"rgb(36,36,36)\",\"showgrid\":false,\"showline\":true,\"ticks\":\"outside\"},\"caxis\":{\"gridcolor\":\"rgb(232,232,232)\",\"linecolor\":\"rgb(36,36,36)\",\"showgrid\":false,\"showline\":true,\"ticks\":\"outside\"}},\"coloraxis\":{\"colorbar\":{\"outlinewidth\":1,\"tickcolor\":\"rgb(36,36,36)\",\"ticks\":\"outside\"}},\"colorscale\":{\"sequential\":[[0.0,\"#440154\"],[0.1111111111111111,\"#482878\"],[0.2222222222222222,\"#3e4989\"],[0.3333333333333333,\"#31688e\"],[0.4444444444444444,\"#26828e\"],[0.5555555555555556,\"#1f9e89\"],[0.6666666666666666,\"#35b779\"],[0.7777777777777778,\"#6ece58\"],[0.8888888888888888,\"#b5de2b\"],[1.0,\"#fde725\"]],\"sequentialminus\":[[0.0,\"#440154\"],[0.1111111111111111,\"#482878\"],[0.2222222222222222,\"#3e4989\"],[0.3333333333333333,\"#31688e\"],[0.4444444444444444,\"#26828e\"],[0.5555555555555556,\"#1f9e89\"],[0.6666666666666666,\"#35b779\"],[0.7777777777777778,\"#6ece58\"],[0.8888888888888888,\"#b5de2b\"],[1.0,\"#fde725\"]],\"diverging\":[[0.0,\"rgb(103,0,31)\"],[0.1,\"rgb(178,24,43)\"],[0.2,\"rgb(214,96,77)\"],[0.3,\"rgb(244,165,130)\"],[0.4,\"rgb(253,219,199)\"],[0.5,\"rgb(247,247,247)\"],[0.6,\"rgb(209,229,240)\"],[0.7,\"rgb(146,197,222)\"],[0.8,\"rgb(67,147,195)\"],[0.9,\"rgb(33,102,172)\"],[1.0,\"rgb(5,48,97)\"]]},\"xaxis\":{\"gridcolor\":\"rgb(232,232,232)\",\"linecolor\":\"rgb(36,36,36)\",\"showgrid\":false,\"showline\":true,\"ticks\":\"outside\",\"title\":{\"standoff\":15},\"zerolinecolor\":\"rgb(36,36,36)\",\"automargin\":true,\"zeroline\":false},\"yaxis\":{\"gridcolor\":\"rgb(232,232,232)\",\"linecolor\":\"rgb(36,36,36)\",\"showgrid\":false,\"showline\":true,\"ticks\":\"outside\",\"title\":{\"standoff\":15},\"zerolinecolor\":\"rgb(36,36,36)\",\"automargin\":true,\"zeroline\":false},\"scene\":{\"xaxis\":{\"backgroundcolor\":\"white\",\"gridcolor\":\"rgb(232,232,232)\",\"linecolor\":\"rgb(36,36,36)\",\"showbackground\":true,\"showgrid\":false,\"showline\":true,\"ticks\":\"outside\",\"zerolinecolor\":\"rgb(36,36,36)\",\"gridwidth\":2,\"zeroline\":false},\"yaxis\":{\"backgroundcolor\":\"white\",\"gridcolor\":\"rgb(232,232,232)\",\"linecolor\":\"rgb(36,36,36)\",\"showbackground\":true,\"showgrid\":false,\"showline\":true,\"ticks\":\"outside\",\"zerolinecolor\":\"rgb(36,36,36)\",\"gridwidth\":2,\"zeroline\":false},\"zaxis\":{\"backgroundcolor\":\"white\",\"gridcolor\":\"rgb(232,232,232)\",\"linecolor\":\"rgb(36,36,36)\",\"showbackground\":true,\"showgrid\":false,\"showline\":true,\"ticks\":\"outside\",\"zerolinecolor\":\"rgb(36,36,36)\",\"gridwidth\":2,\"zeroline\":false}},\"shapedefaults\":{\"fillcolor\":\"black\",\"line\":{\"width\":0},\"opacity\":0.3},\"annotationdefaults\":{\"arrowhead\":0,\"arrowwidth\":1},\"geo\":{\"bgcolor\":\"white\",\"landcolor\":\"white\",\"subunitcolor\":\"white\",\"showland\":true,\"showlakes\":true,\"lakecolor\":\"white\"},\"title\":{\"x\":0.05},\"mapbox\":{\"style\":\"light\"}}},\"title\":{\"text\":\"Test of Carbonate Correction\"},\"xaxis\":{\"title\":{\"text\":\"Experimental dGf (eV/atom)\"}},\"yaxis\":{\"title\":{\"text\":\"Calculated dGf (eV/atom)\"}}},                        {\"responsive\": true}                    ).then(function(){\n",
       "                            \n",
       "var gd = document.getElementById('6788c4fe-d4f4-445c-a62b-d860af0e9651');\n",
       "var x = new MutationObserver(function (mutations, observer) {{\n",
       "        var display = window.getComputedStyle(gd).display;\n",
       "        if (!display || display === 'none') {{\n",
       "            console.log([gd, 'removed!']);\n",
       "            Plotly.purge(gd);\n",
       "            observer.disconnect();\n",
       "        }}\n",
       "}});\n",
       "\n",
       "// Listen for the removal of the full notebook cells\n",
       "var notebookContainer = gd.closest('#notebook-container');\n",
       "if (notebookContainer) {{\n",
       "    x.observe(notebookContainer, {childList: true});\n",
       "}}\n",
       "\n",
       "// Listen for the clearing of the current output cell\n",
       "var outputEl = gd.closest('.output');\n",
       "if (outputEl) {{\n",
       "    x.observe(outputEl, {childList: true});\n",
       "}}\n",
       "\n",
       "                        })                };                });            </script>        </div>"
      ]
     },
     "metadata": {},
     "output_type": "display_data"
    }
   ],
   "source": [
    "energies_calc = []\n",
    "energies_exp = []\n",
    "names = []\n",
    "\n",
    "for e_exp, e_calc in zip(exp_entries, mp_entries):\n",
    "    energy_exp = e_exp.energy_per_atom\n",
    "    energy_calc = e_calc.energy_per_atom\n",
    "    name = e_calc.composition.reduced_formula\n",
    "\n",
    "    energies_exp.append(energy_exp)\n",
    "    energies_calc.append(energy_calc)\n",
    "    names.append(name)\n",
    "\n",
    "df = pandas.DataFrame({\"x\":energies_exp, \"y\":energies_calc, \"name\":names})\n",
    "\n",
    "scatter = px.scatter(df, x=\"x\", y=\"y\", hover_name=\"name\", symbol=\"name\", color=\"name\")\n",
    "line = px.line(x=[-2.75, -0.75], y=[-2.75, -0.75])\n",
    "\n",
    "fig = go.Figure(scatter.data + line.data)\n",
    "fig.update_layout({\"title\": \"Test of Carbonate Correction\",\n",
    "                   \"xaxis_title\":\"Experimental dGf (eV/atom)\",\n",
    "                   \"yaxis_title\":\"Calculated dGf (eV/atom)\"})\n",
    "fig.show()"
   ]
  },
  {
   "cell_type": "code",
   "execution_count": 121,
   "id": "724ecb85",
   "metadata": {},
   "outputs": [],
   "source": [
    "from pymatgen.entries.computed_entries import GibbsComputedStructureEntry\n",
    "\n",
    "temp = 1000  # Kelvin\n",
    "gibbs_entries = GibbsComputedStructureEntry.from_entries(mp_ents, temp)"
   ]
  },
  {
   "cell_type": "code",
   "execution_count": null,
   "id": "e87dcad9",
   "metadata": {},
   "outputs": [],
   "source": []
  }
 ],
 "metadata": {
  "kernelspec": {
   "display_name": "Python 3 (ipykernel)",
   "language": "python",
   "name": "python3"
  },
  "language_info": {
   "codemirror_mode": {
    "name": "ipython",
    "version": 3
   },
   "file_extension": ".py",
   "mimetype": "text/x-python",
   "name": "python",
   "nbconvert_exporter": "python",
   "pygments_lexer": "ipython3",
   "version": "3.10.5"
  },
  "vscode": {
   "interpreter": {
    "hash": "51968daf085ff40a32d90e32fc0f7ce4155f0a7334d13e643c991e82c056e5b1"
   }
  }
 },
 "nbformat": 4,
 "nbformat_minor": 5
}
